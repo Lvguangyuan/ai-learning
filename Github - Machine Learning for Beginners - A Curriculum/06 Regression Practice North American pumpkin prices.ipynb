{
 "cells": [
  {
   "cell_type": "code",
   "id": "initial_id",
   "metadata": {
    "collapsed": true
   },
   "source": [
    "import pandas as pd\n",
    "pumpkins = pd.read_csv('./US-pumpkins.csv')\n",
    "\n",
    "# filter data by selecting only pumpkins with the string 'bushel' in their Package column\n",
    "pumpkins = pumpkins[pumpkins['Package'].str.contains('bushel', case=True, regex=True)]\n",
    "\n",
    "# Use the head() function to view the first five rows.\n",
    "pumpkins.head()"
   ],
   "outputs": [],
   "execution_count": null
  },
  {
   "metadata": {},
   "cell_type": "code",
   "source": [
    "# Check if there is missing data in the current dataframe:\n",
    "pumpkins.isnull().sum()"
   ],
   "id": "9ea57d03d9a47ca8",
   "outputs": [],
   "execution_count": null
  },
  {
   "metadata": {},
   "cell_type": "code",
   "source": [
    "# select only the columns you need, using the loc function\n",
    "columns_to_select = ['Package', 'Low Price', 'High Price', 'Date']\n",
    "pumpkins = pumpkins.loc[:, columns_to_select]\n",
    "print(pumpkins)"
   ],
   "id": "195eddc6fbfbcf4a",
   "outputs": [],
   "execution_count": null
  },
  {
   "metadata": {},
   "cell_type": "code",
   "source": [
    "# To calculate the average\n",
    "price = (pumpkins['Low Price'] + pumpkins['High Price']) / 2\n",
    "month = pd.DatetimeIndex(pumpkins['Date']).month\n",
    "# print(price)\n",
    "# print(month)\n",
    "new_pumpkins = pd.DataFrame({\n",
    "    'Month': month,\n",
    "    'Package': pumpkins['Package'],\n",
    "    'Low Price': pumpkins['Low Price'],\n",
    "    'High Price': pumpkins['High Price'],\n",
    "    'Price': price\n",
    "})\n",
    "print(new_pumpkins)\n",
    "\n",
    "# to normalize the pricing so that you show the pricing per bushel\n",
    "new_pumpkins.loc[new_pumpkins['Package'].str.contains('1 1/9'), 'Price'] = price/(1 + 1/9)\n",
    "new_pumpkins.loc[new_pumpkins['Package'].str.contains('1/2'), 'Price'] = price/(1/2)\n",
    "print(\"======================\")\n",
    "print(new_pumpkins)\n"
   ],
   "id": "597cc4b5d57252d8",
   "outputs": [],
   "execution_count": null
  },
  {
   "metadata": {},
   "cell_type": "code",
   "source": [
    "import matplotlib.pyplot as plt\n",
    "\n",
    "price = new_pumpkins.Price\n",
    "month = new_pumpkins.Month\n",
    "plt.scatter(price, month)\n",
    "plt.show()"
   ],
   "id": "40fb92ba2479eb8a",
   "outputs": [],
   "execution_count": null
  },
  {
   "metadata": {},
   "cell_type": "code",
   "source": [
    "new_pumpkins.groupby(['Month'])['Price'].mean().plot(kind='bar')\n",
    "plt.ylabel(\"Pumpkin Price\")"
   ],
   "id": "8b7aa75389d28dd0",
   "outputs": [],
   "execution_count": null
  }
 ],
 "metadata": {
  "kernelspec": {
   "display_name": "Python 3",
   "language": "python",
   "name": "python3"
  },
  "language_info": {
   "codemirror_mode": {
    "name": "ipython",
    "version": 2
   },
   "file_extension": ".py",
   "mimetype": "text/x-python",
   "name": "python",
   "nbconvert_exporter": "python",
   "pygments_lexer": "ipython2",
   "version": "2.7.6"
  }
 },
 "nbformat": 4,
 "nbformat_minor": 5
}
