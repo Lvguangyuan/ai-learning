{
 "cells": [
  {
   "metadata": {},
   "cell_type": "markdown",
   "source": "# Sentiment analysis with hotel reviews",
   "id": "d80866ba6cbf7983"
  },
  {
   "metadata": {},
   "cell_type": "markdown",
   "source": "## Processing the data",
   "id": "8cb330c5ee0b3442"
  },
  {
   "metadata": {},
   "cell_type": "markdown",
   "source": "#### Load the data",
   "id": "cdb5b3a05d949669"
  },
  {
   "cell_type": "code",
   "id": "initial_id",
   "metadata": {
    "collapsed": true,
    "ExecuteTime": {
     "end_time": "2025-06-04T09:49:35.910583Z",
     "start_time": "2025-06-04T09:49:34.423919Z"
    }
   },
   "source": [
    "# Load the hotel reviews from CSV\n",
    "import pandas as pd\n",
    "import time\n",
    "# importing time so the start and end time can be used to calculate file loading time\n",
    "print(\"Loading data file now, this could take a while depending on file size\")\n",
    "start = time.time()\n",
    "# df is 'DataFrame' - make sure you downloaded the file to the data folder\n",
    "df = pd.read_csv('Hotel_Reviews.csv')\n",
    "end = time.time()\n",
    "print(\"Loading took \" + str(round(end - start, 2)) + \" seconds\")"
   ],
   "outputs": [
    {
     "name": "stdout",
     "output_type": "stream",
     "text": [
      "Loading data file now, this could take a while depending on file size\n",
      "Loading took 1.48 seconds\n"
     ]
    }
   ],
   "execution_count": 2
  },
  {
   "metadata": {},
   "cell_type": "markdown",
   "source": "#### Dataframe operations",
   "id": "1c70980bb8a57041"
  },
  {
   "metadata": {
    "ExecuteTime": {
     "end_time": "2025-06-04T10:00:09.668064Z",
     "start_time": "2025-06-04T10:00:03.545737Z"
    }
   },
   "cell_type": "code",
   "source": [
    "# 1. Print out the shape of the data frame you have just loaded (the shape is the number of rows and columns)\n",
    "df.shape\n",
    "# print(df.columns)\n",
    "# the followings are the columns in the dataframe\n",
    "# Index(['Hotel_Address', 'Additional_Number_of_Scoring', 'Review_Date',\n",
    "#        'Average_Score', 'Hotel_Name', 'Reviewer_Nationality',\n",
    "#        'Negative_Review', 'Review_Total_Negative_Word_Counts',\n",
    "#        'Total_Number_of_Reviews', 'Positive_Review',\n",
    "#        'Review_Total_Positive_Word_Counts',\n",
    "#        'Total_Number_of_Reviews_Reviewer_Has_Given', 'Reviewer_Score', 'Tags',\n",
    "#        'days_since_review', 'lat', 'lng'],\n",
    "#       dtype='object')\n",
    "\n",
    "# 2 Calculate the frequency count for reviewer nationalities\n",
    "# 2.1 How many distinct values are there for the column Reviewer_Nationality and what are they?\n",
    "nationality_freq = df[\"Reviewer_Nationality\"].value_counts()\n",
    "# print(nationality_freq)\n",
    "# 2.2 What reviewer nationality are the top 10 in the dataset (print country and number of reviews)?\n",
    "# print(nationality_freq[0:10].to_string())\n",
    "\n",
    "# 3 What was the most frequently reviewed hotel for each of the top 10 most reviewer nationalities\n",
    "for nat in nationality_freq[:10].index:\n",
    "    # First, extract all the rows that match the criteria into a new dataframe\n",
    "    nat_df = df[df[\"Reviewer_Nationality\"] == nat]\n",
    "    # Now get the hotel freq\n",
    "    freq = nat_df[\"Hotel_Name\"].value_counts()\n",
    "    # print(\"[\" + str(nat).strip() + \"] was [\" + str(freq.index[0]) + \"] with [\" + str(freq[0]) + \"] reviews.\")\n",
    "\n",
    "# 4 How many reviews are there per hotel (frequency count of hotel) in the dataset?\n",
    "nationality_freq = df[\"Hotel_Name\"].value_counts()\n",
    "# print(nationality_freq)\n",
    "# print(nationality_freq[0:10].to_string())"
   ],
   "id": "ad5df95f624b37db",
   "outputs": [
    {
     "name": "stderr",
     "output_type": "stream",
     "text": [
      "IOPub data rate exceeded.\n",
      "The Jupyter server will temporarily stop sending output\n",
      "to the client in order to avoid crashing it.\n",
      "To change this limit, set the config variable\n",
      "`--ServerApp.iopub_data_rate_limit`.\n",
      "\n",
      "Current values:\n",
      "ServerApp.iopub_data_rate_limit=1000000.0 (bytes/sec)\n",
      "ServerApp.rate_limit_window=3.0 (secs)\n",
      "\n"
     ]
    }
   ],
   "execution_count": 10
  },
  {
   "metadata": {},
   "cell_type": "code",
   "outputs": [],
   "execution_count": null,
   "source": [
    "# 5 calculate an average score. Add a new column to your dataframe with the column header Calc_Average_Score that contains that calculated average.\n",
    "df['Calc_Average_Score'] = round(df.groupby('Hotel_Name').Reviewer_Score.transform('mean'), 1)\n",
    "# print(df['Calc_Average_Score'][0:10].to_string())"
   ],
   "id": "61d7bae8ec4beb54"
  },
  {
   "metadata": {
    "ExecuteTime": {
     "end_time": "2025-06-04T10:01:08.576203Z",
     "start_time": "2025-06-04T10:01:06.840740Z"
    }
   },
   "cell_type": "code",
   "source": [
    "# 6 Do any hotels have the same Average_Score and Calc_Average_Score?\n",
    "# define a function that takes a row and performs some calculation with it\n",
    "def get_difference_review_avg(row):\n",
    "    return row[\"Average_Score\"] - row[\"Calc_Average_Score\"]\n",
    "# Add a new column with the difference between the two average scores\n",
    "df[\"Average_Score_Difference\"] = df.apply(get_difference_review_avg, axis = 1)\n",
    "# print hotels that have the same average score\n",
    "same_avg = df[df[\"Average_Score_Difference\"] == 0]\n",
    "print(same_avg[[\"Hotel_Name\", \"Average_Score\", \"Calc_Average_Score\"]][0:10].to_string(index=False))"
   ],
   "id": "b19ddaf25b0ebe6",
   "outputs": [
    {
     "name": "stdout",
     "output_type": "stream",
     "text": [
      "                      Hotel_Name  Average_Score  Calc_Average_Score\n",
      "The Park Grand London Paddington            7.7                 7.7\n",
      "The Park Grand London Paddington            7.7                 7.7\n",
      "The Park Grand London Paddington            7.7                 7.7\n",
      "The Park Grand London Paddington            7.7                 7.7\n",
      "The Park Grand London Paddington            7.7                 7.7\n",
      "The Park Grand London Paddington            7.7                 7.7\n",
      "The Park Grand London Paddington            7.7                 7.7\n",
      "The Park Grand London Paddington            7.7                 7.7\n",
      "The Park Grand London Paddington            7.7                 7.7\n",
      "The Park Grand London Paddington            7.7                 7.7\n"
     ]
    }
   ],
   "execution_count": 11
  },
  {
   "metadata": {
    "ExecuteTime": {
     "end_time": "2025-06-05T01:13:26.775010Z",
     "start_time": "2025-06-05T01:13:26.660154Z"
    }
   },
   "cell_type": "code",
   "source": [
    "# 7 Calculate and print out how many rows have column Negative_Review values of \"No Negative\"\n",
    "no_negative_reviews = df[df['Negative_Review'] == 'No Negative']\n",
    "# print(no_negative_reviews[['Hotel_Name', 'Negative_Review']][0:20].to_string())\n",
    "print('No Negative counts: ' + str(len(no_negative_reviews.index)))\n",
    "\n",
    "# 8 Calculate and print out how many rows have column Positive_Review values of \"No Positive\"\n",
    "no_positive_reviews = df[df['Positive_Review'] == 'No Positive']\n",
    "# print(no_positive_reviews[['Hotel_Name', 'Positive_Review']][0:20].to_string())\n",
    "print('No Positive counts: ' + str(len(no_positive_reviews.index)))\n",
    "\n",
    "# 9 Calculate and print out how many rows have column Negative_Review values of \"No Negative\" and Positive_Review values of \"No Positive\"\n",
    "no_reviews = df[(df['Negative_Review'] == 'No Negative') & (df['Positive_Review'] == 'No Positive')]\n",
    "print('No Positive counts: ' + str(len(no_reviews.index)))\n",
    "print(no_reviews[['Hotel_Name', 'Negative_Review', 'Positive_Review']][0:20].to_string())"
   ],
   "id": "a2ff3755d581682f",
   "outputs": [
    {
     "name": "stdout",
     "output_type": "stream",
     "text": [
      "No Negative counts: 127890\n",
      "No Positive counts: 35946\n",
      "No Positive counts: 127\n",
      "                                       Hotel_Name Negative_Review Positive_Review\n",
      "1403                      Apex Temple Court Hotel     No Negative     No Positive\n",
      "7272                Park Plaza County Hall London     No Negative     No Positive\n",
      "7892                    Hotel Trianon Rive Gauche     No Negative     No Positive\n",
      "21443                 Novotel London Tower Bridge     No Negative     No Positive\n",
      "22770                   W London Leicester Square     No Negative     No Positive\n",
      "27079                               The Grosvenor     No Negative     No Positive\n",
      "27135                               The Grosvenor     No Negative     No Positive\n",
      "33812                          11 Cadogan Gardens     No Negative     No Positive\n",
      "40033                                  Arbor City     No Negative     No Positive\n",
      "52650                    Hilton London Paddington     No Negative     No Positive\n",
      "55638                             COQ Hotel Paris     No Negative     No Positive\n",
      "55781                             Mill sime H tel     No Negative     No Positive\n",
      "62702              Hotel Indigo London Paddington     No Negative     No Positive\n",
      "66641  Britannia International Hotel Canary Wharf     No Negative     No Positive\n",
      "66844  Britannia International Hotel Canary Wharf     No Negative     No Positive\n",
      "67454  Britannia International Hotel Canary Wharf     No Negative     No Positive\n",
      "72237                    Park Avenue Baker Street     No Negative     No Positive\n",
      "84222             Mercure London Kensington Hotel     No Negative     No Positive\n",
      "90640                  Novotel Paris Gare De Lyon     No Negative     No Positive\n",
      "91494                        The Trafalgar Hilton     No Negative     No Positive\n"
     ]
    }
   ],
   "execution_count": 34
  },
  {
   "metadata": {},
   "cell_type": "markdown",
   "source": "## Building a sentiment analysis model",
   "id": "60eff81e04d1f050"
  },
  {
   "metadata": {},
   "cell_type": "markdown",
   "source": "#### Clean the data",
   "id": "ec965461aba7ffd4"
  },
  {
   "metadata": {},
   "cell_type": "code",
   "source": [
    "# 1 drop the columns don't need\n",
    "df = df.drop(['lat', 'lng', 'Additional_Number_of_Scoring','Review_Total_Negative_Word_Counts', 'Review_Total_Positive_Word_Counts', 'Review_Date', 'days_since_review', 'Total_Number_of_Reviews_Reviewer_Has_Given'], axis=1)"
   ],
   "id": "d2ed469a7682fa05",
   "outputs": [],
   "execution_count": null
  },
  {
   "metadata": {
    "ExecuteTime": {
     "end_time": "2025-06-05T01:50:47.099730Z",
     "start_time": "2025-06-05T01:50:47.016717Z"
    }
   },
   "cell_type": "code",
   "source": [
    "# 2 Replace Hotel_Address values with just the city and country\n",
    "def replace_address(row):\n",
    "    if \"Netherlands\" in row[\"Hotel_Address\"]:\n",
    "        return \"Amsterdam, Netherlands\"\n",
    "    elif \"Barcelona\" in row[\"Hotel_Address\"]:\n",
    "        return \"Barcelona, Spain\"\n",
    "    elif \"United Kingdom\" in row[\"Hotel_Address\"]:\n",
    "        return \"London, United Kingdom\"\n",
    "    elif \"Milan\" in row[\"Hotel_Address\"]:\n",
    "        return \"Milan, Italy\"\n",
    "    elif \"France\" in row[\"Hotel_Address\"]:\n",
    "        return \"Paris, France\"\n",
    "    elif \"Vienna\" in row[\"Hotel_Address\"]:\n",
    "        return \"Vienna, Austria\"\n",
    "df[\"Hotel_Address\"] = df.apply(replace_address, axis = 1)\n",
    "print(df[\"Hotel_Address\"].value_counts())\n",
    "display(df.groupby(\"Hotel_Address\").agg({\"Hotel_Name\": \"nunique\"}))"
   ],
   "id": "24c13aeb737c430a",
   "outputs": [
    {
     "name": "stdout",
     "output_type": "stream",
     "text": [
      "Hotel_Address\n",
      "London, United Kingdom    262301\n",
      "Barcelona, Spain           60149\n",
      "Paris, France              59928\n",
      "Amsterdam, Netherlands     57214\n",
      "Vienna, Austria            38939\n",
      "Milan, Italy               37207\n",
      "Name: count, dtype: int64\n"
     ]
    },
    {
     "data": {
      "text/plain": [
       "                        Hotel_Name\n",
       "Hotel_Address                     \n",
       "Amsterdam, Netherlands         105\n",
       "Barcelona, Spain               211\n",
       "London, United Kingdom         400\n",
       "Milan, Italy                   162\n",
       "Paris, France                  458\n",
       "Vienna, Austria                158"
      ],
      "text/html": [
       "<div>\n",
       "<style scoped>\n",
       "    .dataframe tbody tr th:only-of-type {\n",
       "        vertical-align: middle;\n",
       "    }\n",
       "\n",
       "    .dataframe tbody tr th {\n",
       "        vertical-align: top;\n",
       "    }\n",
       "\n",
       "    .dataframe thead th {\n",
       "        text-align: right;\n",
       "    }\n",
       "</style>\n",
       "<table border=\"1\" class=\"dataframe\">\n",
       "  <thead>\n",
       "    <tr style=\"text-align: right;\">\n",
       "      <th></th>\n",
       "      <th>Hotel_Name</th>\n",
       "    </tr>\n",
       "    <tr>\n",
       "      <th>Hotel_Address</th>\n",
       "      <th></th>\n",
       "    </tr>\n",
       "  </thead>\n",
       "  <tbody>\n",
       "    <tr>\n",
       "      <th>Amsterdam, Netherlands</th>\n",
       "      <td>105</td>\n",
       "    </tr>\n",
       "    <tr>\n",
       "      <th>Barcelona, Spain</th>\n",
       "      <td>211</td>\n",
       "    </tr>\n",
       "    <tr>\n",
       "      <th>London, United Kingdom</th>\n",
       "      <td>400</td>\n",
       "    </tr>\n",
       "    <tr>\n",
       "      <th>Milan, Italy</th>\n",
       "      <td>162</td>\n",
       "    </tr>\n",
       "    <tr>\n",
       "      <th>Paris, France</th>\n",
       "      <td>458</td>\n",
       "    </tr>\n",
       "    <tr>\n",
       "      <th>Vienna, Austria</th>\n",
       "      <td>158</td>\n",
       "    </tr>\n",
       "  </tbody>\n",
       "</table>\n",
       "</div>"
      ]
     },
     "metadata": {},
     "output_type": "display_data"
    }
   ],
   "execution_count": 41
  },
  {
   "metadata": {
    "ExecuteTime": {
     "end_time": "2025-06-05T02:24:43.215648Z",
     "start_time": "2025-06-05T02:24:43.178637Z"
    }
   },
   "cell_type": "code",
   "source": [
    "# 3 Replace Total_Number_of_Reviews, Average_Score with actual data in the dataset\n",
    "df.Total_Number_of_Reviews = df.groupby('Hotel_Name').transform('count')\n",
    "df.Average_Score = round(df.groupby('Hotel_Name').Reviewer_Score.transform('mean'), 1)"
   ],
   "id": "8d49d2ade52c60a5",
   "outputs": [],
   "execution_count": 44
  },
  {
   "metadata": {},
   "cell_type": "markdown",
   "source": "#### Filtering tags",
   "id": "141806c97ceadd8d"
  },
  {
   "metadata": {
    "ExecuteTime": {
     "end_time": "2025-06-05T03:37:51.276261Z",
     "start_time": "2025-06-05T03:37:51.042556Z"
    }
   },
   "cell_type": "code",
   "source": [
    "# Remove opening and closing brackets\n",
    "df.Tags = df.Tags.str.strip(\"[']\")\n",
    "# remove all quotes too\n",
    "df.Tags = df.Tags.str.replace(\" ', '\", \",\", regex = False)"
   ],
   "id": "9ca8dbf36d458267",
   "outputs": [],
   "execution_count": 45
  },
  {
   "metadata": {
    "ExecuteTime": {
     "end_time": "2025-06-06T02:40:25.495835Z",
     "start_time": "2025-06-06T02:40:24.297027Z"
    }
   },
   "cell_type": "code",
   "source": [
    "# Process the Tags into new columns\n",
    "df[\"Leisure_trip\"] = df.Tags.apply(lambda tag: 1 if \"Leisure trip\" in tag else 0)\n",
    "df[\"Couple\"] = df.Tags.apply(lambda tag: 1 if \"Couple\" in tag else 0)\n",
    "df[\"Solo_traveler\"] = df.Tags.apply(lambda tag: 1 if \"Solo traveler\" in tag else 0)\n",
    "df[\"Business_trip\"] = df.Tags.apply(lambda tag: 1 if \"Business trip\" in tag else 0)\n",
    "df[\"Group\"] = df.Tags.apply(lambda tag: 1 if \"Group\" in tag or \"Travelers with friends\" in tag else 0)\n",
    "df[\"Family_with_young_children\"] = df.Tags.apply(lambda tag: 1 if \"Family with young children\" in tag else 0)\n",
    "df[\"Family_with_older_children\"] = df.Tags.apply(lambda tag: 1 if \"Family with older children\" in tag else 0)\n",
    "df[\"With_a_pet\"] = df.Tags.apply(lambda tag: 1 if \"With a pet\" in tag else 0)"
   ],
   "id": "8ae752df01f3d1c0",
   "outputs": [],
   "execution_count": 46
  },
  {
   "metadata": {
    "ExecuteTime": {
     "end_time": "2025-06-06T02:45:20.064632Z",
     "start_time": "2025-06-06T02:45:19.962977Z"
    }
   },
   "cell_type": "code",
   "source": [
    "df[\"Leisure_trip\"].value_counts()\n",
    "# count the number of rows for Leisure_trip == 1\n",
    "print(\"Leisure trip counts: \" + str(len(df[df[\"Leisure_trip\"] == 1].index)))"
   ],
   "id": "ab215d48f3068ed4",
   "outputs": [
    {
     "name": "stdout",
     "output_type": "stream",
     "text": [
      "Leisure trip counts: 417778\n"
     ]
    }
   ],
   "execution_count": 51
  },
  {
   "metadata": {},
   "cell_type": "markdown",
   "source": "#### Save your file",
   "id": "8cdc5f8f74d714a2"
  },
  {
   "metadata": {
    "ExecuteTime": {
     "end_time": "2025-06-06T02:52:44.487582Z",
     "start_time": "2025-06-06T02:52:39.462376Z"
    }
   },
   "cell_type": "code",
   "source": [
    "# Saving new data file with calculated columns\n",
    "df.to_csv(r'Hotel_Reviews_Filtered.csv', index = False)"
   ],
   "id": "98d6b4d5ee5e9728",
   "outputs": [],
   "execution_count": 56
  },
  {
   "metadata": {},
   "cell_type": "markdown",
   "source": "## Sentiment Analysis Operations",
   "id": "a166a43b2238fdc"
  },
  {
   "metadata": {},
   "cell_type": "markdown",
   "source": "#### load and save the filtered data",
   "id": "e286829225901218"
  },
  {
   "metadata": {
    "ExecuteTime": {
     "end_time": "2025-06-06T07:26:43.613046Z",
     "start_time": "2025-06-06T07:26:41.617829Z"
    }
   },
   "cell_type": "code",
   "source": [
    "import time\n",
    "import pandas as pd\n",
    "import nltk as nltk\n",
    "from nltk.corpus import stopwords\n",
    "from nltk.sentiment.vader import SentimentIntensityAnalyzer\n",
    "nltk.download('vader_lexicon')\n",
    "\n",
    "# Load the filtered hotel reviews from CSV\n",
    "new_df = pd.read_csv('Hotel_Reviews_Filtered.csv')"
   ],
   "id": "8fbbb433404c9c57",
   "outputs": [
    {
     "name": "stderr",
     "output_type": "stream",
     "text": [
      "[nltk_data] Downloading package vader_lexicon to\n",
      "[nltk_data]     C:\\Users\\lvgy\\AppData\\Roaming\\nltk_data...\n"
     ]
    }
   ],
   "execution_count": 61
  },
  {
   "metadata": {},
   "cell_type": "markdown",
   "source": "#### Removing stop words",
   "id": "4e07e1f83b8d747d"
  },
  {
   "metadata": {
    "ExecuteTime": {
     "end_time": "2025-06-06T07:26:48.951730Z",
     "start_time": "2025-06-06T07:26:47.070920Z"
    }
   },
   "cell_type": "code",
   "source": [
    "\n",
    "# Remove stop words - can be slow for a lot of text!\n",
    "# Ryan Han (ryanxjhan on Kaggle) has a great post measuring performance of different stop words removal approaches\n",
    "# https://www.kaggle.com/ryanxjhan/fast-stop-words-removal # using the approach that Ryan recommends\n",
    "start = time.time()\n",
    "cache = set(stopwords.words(\"english\"))\n",
    "def remove_stopwords(review):\n",
    "    text = \" \".join([word for word in review.split() if word not in cache])\n",
    "    return text\n",
    "\n",
    "# Remove the stop words from both columns\n",
    "new_df.Negative_Review = new_df.Negative_Review.apply(remove_stopwords)\n",
    "new_df.Positive_Review = new_df.Positive_Review.apply(remove_stopwords)"
   ],
   "id": "11615230cd197127",
   "outputs": [],
   "execution_count": 62
  },
  {
   "metadata": {},
   "cell_type": "markdown",
   "source": "#### Performing sentiment analysis",
   "id": "c15b4ed09812fba1"
  },
  {
   "metadata": {
    "ExecuteTime": {
     "end_time": "2025-06-06T07:32:35.573594Z",
     "start_time": "2025-06-06T07:32:35.544279Z"
    }
   },
   "cell_type": "code",
   "source": [
    "from nltk.sentiment.vader import SentimentIntensityAnalyzer\n",
    "\n",
    "# Create the vader sentiment analyser (there are others in NLTK you can try too)\n",
    "vader_sentiment = SentimentIntensityAnalyzer()\n",
    "# Hutto, C.J. & Gilbert, E.E. (2014). VADER: A Parsimonious Rule-based Model for Sentiment Analysis of Social Media Text. Eighth International Conference on Weblogs and Social Media (ICWSM-14). Ann Arbor, MI, June 2014.\n",
    "\n",
    "# There are 3 possibilities of input for a review:\n",
    "# It could be \"No Negative\", in which case, return 0\n",
    "# It could be \"No Positive\", in which case, return 0\n",
    "# It could be a review, in which case calculate the sentiment\n",
    "def calc_sentiment(review):\n",
    "    if review == \"No Negative\" or review == \"No Positive\":\n",
    "        return 0\n",
    "    return vader_sentiment.polarity_scores(review)[\"compound\"]"
   ],
   "id": "9da75f4ffd80ac03",
   "outputs": [],
   "execution_count": 63
  },
  {
   "metadata": {
    "ExecuteTime": {
     "end_time": "2025-06-06T07:36:16.463395Z",
     "start_time": "2025-06-06T07:34:39.448265Z"
    }
   },
   "cell_type": "code",
   "source": [
    "# Add a negative sentiment and positive sentiment column\n",
    "print(\"Calculating sentiment columns for both positive and negative reviews\")\n",
    "start = time.time()\n",
    "new_df[\"Negative_Sentiment\"] = new_df.Negative_Review.apply(calc_sentiment)\n",
    "new_df[\"Positive_Sentiment\"] = new_df.Positive_Review.apply(calc_sentiment)\n",
    "end = time.time()\n",
    "print(\"Calculating sentiment took \" + str(round(end - start, 2)) + \" seconds\")"
   ],
   "id": "604357724b912c51",
   "outputs": [
    {
     "name": "stdout",
     "output_type": "stream",
     "text": [
      "Calculating sentiment columns for both positive and negative reviews\n",
      "Calculating sentiment took 97.01 seconds\n"
     ]
    }
   ],
   "execution_count": 65
  },
  {
   "metadata": {
    "ExecuteTime": {
     "end_time": "2025-06-06T07:49:40.011672Z",
     "start_time": "2025-06-06T07:49:39.722085Z"
    }
   },
   "cell_type": "code",
   "source": [
    "# to print of the results and see if the sentiment matches the review\n",
    "new_df = new_df.sort_values(by=[\"Negative_Sentiment\"], ascending=True)\n",
    "print(new_df[[\"Negative_Review\", \"Negative_Sentiment\"]])\n",
    "new_df = new_df.sort_values(by=[\"Positive_Sentiment\"], ascending=True)\n",
    "print(new_df[[\"Positive_Review\", \"Positive_Sentiment\"]])"
   ],
   "id": "48202d8dbcc1b02f",
   "outputs": [
    {
     "name": "stdout",
     "output_type": "stream",
     "text": [
      "                                          Negative_Review  Negative_Sentiment\n",
      "186584  So bad experience memories I hotel The first n...             -0.9920\n",
      "129503  First charged twice room booked booking second...             -0.9896\n",
      "307286  The staff Had bad experience even booking Janu...             -0.9889\n",
      "201953  Everything DO NOT STAY AT THIS HOTEL I never i...             -0.9886\n",
      "452092  No WLAN room Incredibly rude restaurant staff ...             -0.9884\n",
      "...                                                   ...                 ...\n",
      "138365  Wifi terribly slow I speed test network upload...              0.9938\n",
      "79215   I find anything hotel first I walked past hote...              0.9938\n",
      "278506  The property great location There bakery next ...              0.9945\n",
      "339189  Guys I like hotel I wish return next year Howe...              0.9948\n",
      "480509  I travel lot far visited countless number hote...              0.9957\n",
      "\n",
      "[515738 rows x 2 columns]\n",
      "                                          Positive_Review  Positive_Sentiment\n",
      "137893  Bathroom Shower We going stay twice hotel 2 ni...             -0.9820\n",
      "5839    I completely disappointed mad since reception ...             -0.9780\n",
      "64158   get everything extra internet parking breakfas...             -0.9751\n",
      "124178  I didnt like anythig Room small Asked upgrade ...             -0.9721\n",
      "489137  Very rude manager abusive staff reception Dirt...             -0.9703\n",
      "...                                                   ...                 ...\n",
      "322920  From moment stepped doors Guesthouse Hotel sta...              0.9985\n",
      "417442  We celebrated wedding night Langham I commend ...              0.9985\n",
      "132492  We arrived super cute boutique hotel area expl...              0.9987\n",
      "287419  When first arrived hotel staff incredibly frie...              0.9987\n",
      "179007  We went Andaz 40th birthday celebration This a...              0.9991\n",
      "\n",
      "[515738 rows x 2 columns]\n"
     ]
    }
   ],
   "execution_count": 67
  },
  {
   "metadata": {
    "ExecuteTime": {
     "end_time": "2025-06-06T07:51:18.419687Z",
     "start_time": "2025-06-06T07:51:15.754479Z"
    }
   },
   "cell_type": "code",
   "source": [
    "# save\n",
    "# Reorder the columns (This is cosmetic, but to make it easier to explore the data later)\n",
    "new_df = new_df.reindex([\"Hotel_Name\", \"Hotel_Address\", \"Total_Number_of_Reviews\", \"Average_Score\", \"Reviewer_Score\", \"Negative_Sentiment\", \"Positive_Sentiment\", \"Reviewer_Nationality\", \"Leisure_trip\", \"Couple\", \"Solo_traveler\", \"Business_trip\", \"Group\", \"Family_with_young_children\", \"Family_with_older_children\", \"With_a_pet\", \"Negative_Review\", \"Positive_Review\"], axis=1)\n",
    "\n",
    "print(\"Saving results to Hotel_Reviews_NLP.csv\")\n",
    "new_df.to_csv(r\"Hotel_Reviews_NLP.csv\", index = False)"
   ],
   "id": "b804dcda92c48d88",
   "outputs": [
    {
     "name": "stdout",
     "output_type": "stream",
     "text": [
      "Saving results to Hotel_Reviews_NLP.csv\n"
     ]
    }
   ],
   "execution_count": 68
  }
 ],
 "metadata": {
  "kernelspec": {
   "display_name": "Python 3",
   "language": "python",
   "name": "python3"
  },
  "language_info": {
   "codemirror_mode": {
    "name": "ipython",
    "version": 2
   },
   "file_extension": ".py",
   "mimetype": "text/x-python",
   "name": "python",
   "nbconvert_exporter": "python",
   "pygments_lexer": "ipython2",
   "version": "2.7.6"
  }
 },
 "nbformat": 4,
 "nbformat_minor": 5
}
