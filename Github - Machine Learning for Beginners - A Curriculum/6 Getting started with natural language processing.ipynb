{
 "cells": [
  {
   "metadata": {},
   "cell_type": "markdown",
   "source": "## Sentiment analysis with hotel reviews",
   "id": "d80866ba6cbf7983"
  },
  {
   "metadata": {},
   "cell_type": "markdown",
   "source": "### Processing the data",
   "id": "8cb330c5ee0b3442"
  },
  {
   "metadata": {},
   "cell_type": "markdown",
   "source": "#### Load the data",
   "id": "cdb5b3a05d949669"
  },
  {
   "cell_type": "code",
   "id": "initial_id",
   "metadata": {
    "collapsed": true,
    "ExecuteTime": {
     "end_time": "2025-06-04T09:49:35.910583Z",
     "start_time": "2025-06-04T09:49:34.423919Z"
    }
   },
   "source": [
    "# Load the hotel reviews from CSV\n",
    "import pandas as pd\n",
    "import time\n",
    "# importing time so the start and end time can be used to calculate file loading time\n",
    "print(\"Loading data file now, this could take a while depending on file size\")\n",
    "start = time.time()\n",
    "# df is 'DataFrame' - make sure you downloaded the file to the data folder\n",
    "df = pd.read_csv('Hotel_Reviews.csv')\n",
    "end = time.time()\n",
    "print(\"Loading took \" + str(round(end - start, 2)) + \" seconds\")"
   ],
   "outputs": [
    {
     "name": "stdout",
     "output_type": "stream",
     "text": [
      "Loading data file now, this could take a while depending on file size\n",
      "Loading took 1.48 seconds\n"
     ]
    }
   ],
   "execution_count": 2
  },
  {
   "metadata": {},
   "cell_type": "markdown",
   "source": "#### Dataframe operations",
   "id": "1c70980bb8a57041"
  },
  {
   "metadata": {
    "ExecuteTime": {
     "end_time": "2025-06-04T10:00:09.668064Z",
     "start_time": "2025-06-04T10:00:03.545737Z"
    }
   },
   "cell_type": "code",
   "source": [
    "# 1. Print out the shape of the data frame you have just loaded (the shape is the number of rows and columns)\n",
    "df.shape\n",
    "# the followings are the columns in the dataframe\n",
    "# Index(['Hotel_Address', 'Additional_Number_of_Scoring', 'Review_Date',\n",
    "#        'Average_Score', 'Hotel_Name', 'Reviewer_Nationality',\n",
    "#        'Negative_Review', 'Review_Total_Negative_Word_Counts',\n",
    "#        'Total_Number_of_Reviews', 'Positive_Review',\n",
    "#        'Review_Total_Positive_Word_Counts',\n",
    "#        'Total_Number_of_Reviews_Reviewer_Has_Given', 'Reviewer_Score', 'Tags',\n",
    "#        'days_since_review', 'lat', 'lng'],\n",
    "#       dtype='object')\n",
    "\n",
    "# 2 Calculate the frequency count for reviewer nationalities\n",
    "# 2.1 How many distinct values are there for the column Reviewer_Nationality and what are they?\n",
    "nationality_freq = df[\"Reviewer_Nationality\"].value_counts()\n",
    "# print(nationality_freq)\n",
    "# 2.2 What reviewer nationality are the top 10 in the dataset (print country and number of reviews)?\n",
    "# print(nationality_freq[0:10].to_string())\n",
    "\n",
    "# 3 What was the most frequently reviewed hotel for each of the top 10 most reviewer nationalities\n",
    "for nat in nationality_freq[:10].index:\n",
    "    # First, extract all the rows that match the criteria into a new dataframe\n",
    "    nat_df = df[df[\"Reviewer_Nationality\"] == nat]\n",
    "    # Now get the hotel freq\n",
    "    freq = nat_df[\"Hotel_Name\"].value_counts()\n",
    "    # print(\"[\" + str(nat).strip() + \"] was [\" + str(freq.index[0]) + \"] with [\" + str(freq[0]) + \"] reviews.\")\n",
    "\n",
    "# 4 How many reviews are there per hotel (frequency count of hotel) in the dataset?\n",
    "nationality_freq = df[\"Hotel_Name\"].value_counts()\n",
    "# print(nationality_freq)\n",
    "# print(nationality_freq[0:10].to_string())"
   ],
   "id": "ad5df95f624b37db",
   "outputs": [
    {
     "name": "stderr",
     "output_type": "stream",
     "text": [
      "IOPub data rate exceeded.\n",
      "The Jupyter server will temporarily stop sending output\n",
      "to the client in order to avoid crashing it.\n",
      "To change this limit, set the config variable\n",
      "`--ServerApp.iopub_data_rate_limit`.\n",
      "\n",
      "Current values:\n",
      "ServerApp.iopub_data_rate_limit=1000000.0 (bytes/sec)\n",
      "ServerApp.rate_limit_window=3.0 (secs)\n",
      "\n"
     ]
    }
   ],
   "execution_count": 10
  },
  {
   "metadata": {},
   "cell_type": "code",
   "outputs": [],
   "execution_count": null,
   "source": [
    "# 5 calculate an average score. Add a new column to your dataframe with the column header Calc_Average_Score that contains that calculated average.\n",
    "df['Calc_Average_Score'] = round(df.groupby('Hotel_Name').Reviewer_Score.transform('mean'), 1)\n",
    "# print(df['Calc_Average_Score'][0:10].to_string())"
   ],
   "id": "61d7bae8ec4beb54"
  },
  {
   "metadata": {
    "ExecuteTime": {
     "end_time": "2025-06-04T10:01:08.576203Z",
     "start_time": "2025-06-04T10:01:06.840740Z"
    }
   },
   "cell_type": "code",
   "source": [
    "# 6 Do any hotels have the same Average_Score and Calc_Average_Score?\n",
    "# define a function that takes a row and performs some calculation with it\n",
    "def get_difference_review_avg(row):\n",
    "    return row[\"Average_Score\"] - row[\"Calc_Average_Score\"]\n",
    "# Add a new column with the difference between the two average scores\n",
    "df[\"Average_Score_Difference\"] = df.apply(get_difference_review_avg, axis = 1)\n",
    "# print hotels that have the same average score\n",
    "same_avg = df[df[\"Average_Score_Difference\"] == 0]\n",
    "print(same_avg[[\"Hotel_Name\", \"Average_Score\", \"Calc_Average_Score\"]][0:10].to_string(index=False))"
   ],
   "id": "b19ddaf25b0ebe6",
   "outputs": [
    {
     "name": "stdout",
     "output_type": "stream",
     "text": [
      "                      Hotel_Name  Average_Score  Calc_Average_Score\n",
      "The Park Grand London Paddington            7.7                 7.7\n",
      "The Park Grand London Paddington            7.7                 7.7\n",
      "The Park Grand London Paddington            7.7                 7.7\n",
      "The Park Grand London Paddington            7.7                 7.7\n",
      "The Park Grand London Paddington            7.7                 7.7\n",
      "The Park Grand London Paddington            7.7                 7.7\n",
      "The Park Grand London Paddington            7.7                 7.7\n",
      "The Park Grand London Paddington            7.7                 7.7\n",
      "The Park Grand London Paddington            7.7                 7.7\n",
      "The Park Grand London Paddington            7.7                 7.7\n"
     ]
    }
   ],
   "execution_count": 11
  },
  {
   "metadata": {
    "ExecuteTime": {
     "end_time": "2025-06-04T10:12:03.237529Z",
     "start_time": "2025-06-04T10:12:03.130130Z"
    }
   },
   "cell_type": "code",
   "source": [
    "# 7 Calculate and print out how many rows have column Negative_Review values of \"No Negative\"\n",
    "no_negative_reviews = df[df['Negative_Review'] == 'No Negative']\n",
    "# print(no_negative_reviews[['Hotel_Name', 'Negative_Review']][0:20].to_string())\n",
    "\n",
    "# 8 Calculate and print out how many rows have column Positive_Review values of \"No Positive\"\n",
    "no_positive_reviews = df[df['Positive_Review'] == 'No Positive']\n",
    "# print(no_positive_reviews[['Hotel_Name', 'Positive_Review']][0:20].to_string())\n",
    "\n",
    "# 9 Calculate and print out how many rows have column Negative_Review values of \"No Negative\" and Positive_Review values of \"No Positive\"\n",
    "no_reviews = df[(df['Negative_Review'] == 'No Negative') & (df['Positive_Review'] == 'No Positive')]\n",
    "print(no_reviews[['Hotel_Name', 'Negative_Review', 'Positive_Review']][0:20].to_string())"
   ],
   "id": "a2ff3755d581682f",
   "outputs": [
    {
     "name": "stdout",
     "output_type": "stream",
     "text": [
      "                                       Hotel_Name Negative_Review Positive_Review\n",
      "1403                      Apex Temple Court Hotel     No Negative     No Positive\n",
      "7272                Park Plaza County Hall London     No Negative     No Positive\n",
      "7892                    Hotel Trianon Rive Gauche     No Negative     No Positive\n",
      "21443                 Novotel London Tower Bridge     No Negative     No Positive\n",
      "22770                   W London Leicester Square     No Negative     No Positive\n",
      "27079                               The Grosvenor     No Negative     No Positive\n",
      "27135                               The Grosvenor     No Negative     No Positive\n",
      "33812                          11 Cadogan Gardens     No Negative     No Positive\n",
      "40033                                  Arbor City     No Negative     No Positive\n",
      "52650                    Hilton London Paddington     No Negative     No Positive\n",
      "55638                             COQ Hotel Paris     No Negative     No Positive\n",
      "55781                             Mill sime H tel     No Negative     No Positive\n",
      "62702              Hotel Indigo London Paddington     No Negative     No Positive\n",
      "66641  Britannia International Hotel Canary Wharf     No Negative     No Positive\n",
      "66844  Britannia International Hotel Canary Wharf     No Negative     No Positive\n",
      "67454  Britannia International Hotel Canary Wharf     No Negative     No Positive\n",
      "72237                    Park Avenue Baker Street     No Negative     No Positive\n",
      "84222             Mercure London Kensington Hotel     No Negative     No Positive\n",
      "90640                  Novotel Paris Gare De Lyon     No Negative     No Positive\n",
      "91494                        The Trafalgar Hilton     No Negative     No Positive\n"
     ]
    }
   ],
   "execution_count": 28
  }
 ],
 "metadata": {
  "kernelspec": {
   "display_name": "Python 3",
   "language": "python",
   "name": "python3"
  },
  "language_info": {
   "codemirror_mode": {
    "name": "ipython",
    "version": 2
   },
   "file_extension": ".py",
   "mimetype": "text/x-python",
   "name": "python",
   "nbconvert_exporter": "python",
   "pygments_lexer": "ipython2",
   "version": "2.7.6"
  }
 },
 "nbformat": 4,
 "nbformat_minor": 5
}
