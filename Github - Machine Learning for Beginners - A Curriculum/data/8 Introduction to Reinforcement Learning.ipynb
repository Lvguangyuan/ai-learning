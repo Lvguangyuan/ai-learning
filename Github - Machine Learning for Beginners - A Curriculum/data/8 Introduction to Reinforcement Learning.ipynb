{
 "cells": [
  {
   "metadata": {},
   "cell_type": "markdown",
   "source": "## Introduction to Reinforcement Learning and Q-Learning",
   "id": "380dc6bf7b17bdcb"
  },
  {
   "cell_type": "code",
   "id": "initial_id",
   "metadata": {
    "collapsed": true,
    "ExecuteTime": {
     "end_time": "2025-06-11T07:53:17.597550Z",
     "start_time": "2025-06-11T07:53:17.521365Z"
    }
   },
   "source": [
    "from rlboard import *\n",
    "\n",
    "width, height = 8,8\n",
    "m = Board(width,height)\n",
    "m.randomize(seed=13)\n",
    "m.plot()"
   ],
   "outputs": [
    {
     "ename": "error",
     "evalue": "OpenCV(4.11.0) D:\\a\\opencv-python\\opencv-python\\opencv\\modules\\imgproc\\src\\color.cpp:199: error: (-215:Assertion failed) !_src.empty() in function 'cv::cvtColor'\n",
     "output_type": "error",
     "traceback": [
      "\u001B[31m---------------------------------------------------------------------------\u001B[39m",
      "\u001B[31merror\u001B[39m                                     Traceback (most recent call last)",
      "\u001B[36mCell\u001B[39m\u001B[36m \u001B[39m\u001B[32mIn[2]\u001B[39m\u001B[32m, line 4\u001B[39m\n\u001B[32m      1\u001B[39m \u001B[38;5;28;01mfrom\u001B[39;00m\u001B[38;5;250m \u001B[39m\u001B[34;01mrlboard\u001B[39;00m\u001B[38;5;250m \u001B[39m\u001B[38;5;28;01mimport\u001B[39;00m *\n\u001B[32m      3\u001B[39m width, height = \u001B[32m8\u001B[39m,\u001B[32m8\u001B[39m\n\u001B[32m----> \u001B[39m\u001B[32m4\u001B[39m m = \u001B[43mBoard\u001B[49m\u001B[43m(\u001B[49m\u001B[43mwidth\u001B[49m\u001B[43m,\u001B[49m\u001B[43mheight\u001B[49m\u001B[43m)\u001B[49m\n\u001B[32m      5\u001B[39m m.randomize(seed=\u001B[32m13\u001B[39m)\n\u001B[32m      6\u001B[39m m.plot()\n",
      "\u001B[36mFile \u001B[39m\u001B[32mD:\\SafeWorkspace\\GitProjects\\Study\\ai-learning\\Github - Machine Learning for Beginners - A Curriculum\\data\\../common\\rlboard.py:60\u001B[39m, in \u001B[36mBoard.__init__\u001B[39m\u001B[34m(self, width, height, size)\u001B[39m\n\u001B[32m     57\u001B[39m \u001B[38;5;28mself\u001B[39m.grid_thickness = \u001B[32m1\u001B[39m\n\u001B[32m     58\u001B[39m \u001B[38;5;28mself\u001B[39m.grid_line_type = cv2.LINE_AA\n\u001B[32m     59\u001B[39m \u001B[38;5;28mself\u001B[39m.pics = {\n\u001B[32m---> \u001B[39m\u001B[32m60\u001B[39m     \u001B[33m\"\u001B[39m\u001B[33mwolf\u001B[39m\u001B[33m\"\u001B[39m : \u001B[43mimload\u001B[49m\u001B[43m(\u001B[49m\u001B[33;43m'\u001B[39;49m\u001B[33;43mimages/wolf.png\u001B[39;49m\u001B[33;43m'\u001B[39;49m\u001B[43m,\u001B[49m\u001B[43msize\u001B[49m\u001B[43m-\u001B[49m\u001B[32;43m4\u001B[39;49m\u001B[43m)\u001B[49m,\n\u001B[32m     61\u001B[39m     \u001B[33m\"\u001B[39m\u001B[33mapple\u001B[39m\u001B[33m\"\u001B[39m : imload(\u001B[33m'\u001B[39m\u001B[33mimages/apple.png\u001B[39m\u001B[33m'\u001B[39m,size-\u001B[32m4\u001B[39m),\n\u001B[32m     62\u001B[39m     \u001B[33m\"\u001B[39m\u001B[33mhuman\u001B[39m\u001B[33m\"\u001B[39m : imload(\u001B[33m'\u001B[39m\u001B[33mimages/human.png\u001B[39m\u001B[33m'\u001B[39m,size-\u001B[32m4\u001B[39m)\n\u001B[32m     63\u001B[39m }\n\u001B[32m     64\u001B[39m \u001B[38;5;28mself\u001B[39m.human = (\u001B[32m0\u001B[39m,\u001B[32m0\u001B[39m)\n\u001B[32m     65\u001B[39m \u001B[38;5;28mself\u001B[39m.frame_no = \u001B[32m0\u001B[39m\n",
      "\u001B[36mFile \u001B[39m\u001B[32mD:\\SafeWorkspace\\GitProjects\\Study\\ai-learning\\Github - Machine Learning for Beginners - A Curriculum\\data\\../common\\rlboard.py:20\u001B[39m, in \u001B[36mimload\u001B[39m\u001B[34m(fname, size)\u001B[39m\n\u001B[32m     18\u001B[39m \u001B[38;5;28;01mdef\u001B[39;00m\u001B[38;5;250m \u001B[39m\u001B[34mimload\u001B[39m(fname,size):\n\u001B[32m     19\u001B[39m     img = cv2.imread(fname)\n\u001B[32m---> \u001B[39m\u001B[32m20\u001B[39m     img = \u001B[43mcv2\u001B[49m\u001B[43m.\u001B[49m\u001B[43mcvtColor\u001B[49m\u001B[43m(\u001B[49m\u001B[43mimg\u001B[49m\u001B[43m,\u001B[49m\u001B[43mcv2\u001B[49m\u001B[43m.\u001B[49m\u001B[43mCOLOR_BGR2RGB\u001B[49m\u001B[43m)\u001B[49m\n\u001B[32m     21\u001B[39m     img = cv2.resize(img,(size,size),interpolation=cv2.INTER_LANCZOS4)\n\u001B[32m     22\u001B[39m     img = img / np.max(img)\n",
      "\u001B[31merror\u001B[39m: OpenCV(4.11.0) D:\\a\\opencv-python\\opencv-python\\opencv\\modules\\imgproc\\src\\color.cpp:199: error: (-215:Assertion failed) !_src.empty() in function 'cv::cvtColor'\n"
     ]
    }
   ],
   "execution_count": 2
  }
 ],
 "metadata": {
  "kernelspec": {
   "display_name": "Python 3",
   "language": "python",
   "name": "python3"
  },
  "language_info": {
   "codemirror_mode": {
    "name": "ipython",
    "version": 2
   },
   "file_extension": ".py",
   "mimetype": "text/x-python",
   "name": "python",
   "nbconvert_exporter": "python",
   "pygments_lexer": "ipython2",
   "version": "2.7.6"
  }
 },
 "nbformat": 4,
 "nbformat_minor": 5
}
