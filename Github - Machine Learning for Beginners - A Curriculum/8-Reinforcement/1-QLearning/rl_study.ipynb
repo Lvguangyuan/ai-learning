{
 "cells": [
  {
   "metadata": {},
   "cell_type": "markdown",
   "source": "## Introduction to Reinforcement Learning and Q-Learning",
   "id": "bc0dd74a2d4db770"
  },
  {
   "metadata": {},
   "cell_type": "markdown",
   "source": "### The environment",
   "id": "7eace6d9263725e4"
  },
  {
   "cell_type": "code",
   "id": "initial_id",
   "metadata": {
    "collapsed": true
   },
   "source": [
    "from rlboard import *\n",
    "\n",
    "width, height = 8,8\n",
    "m = Board(width,height)\n",
    "m.randomize(seed=13)\n",
    "m.plot()"
   ],
   "outputs": [],
   "execution_count": null
  },
  {
   "metadata": {},
   "cell_type": "markdown",
   "source": "### Actions and policy",
   "id": "4d105201941fa6cb"
  },
  {
   "metadata": {},
   "cell_type": "code",
   "source": [
    "actions = { \"U\" : (0,-1), \"D\" : (0,1), \"L\" : (-1,0), \"R\" : (1,0) }\n",
    "action_idx = { a : i for i,a in enumerate(actions.keys()) }"
   ],
   "id": "76be57ae6515a920",
   "outputs": [],
   "execution_count": null
  },
  {
   "metadata": {},
   "cell_type": "markdown",
   "source": "### Random walk",
   "id": "a0d0a84e2e5da1e6"
  },
  {
   "metadata": {},
   "cell_type": "code",
   "source": [
    "def random_policy(m):\n",
    "    return random.choice(list(actions))\n",
    "\n",
    "def walk(m,policy,start_position=None):\n",
    "    n = 0 # number of steps\n",
    "    # set initial position\n",
    "    if start_position:\n",
    "        m.human = start_position\n",
    "    else:\n",
    "        m.random_start()\n",
    "    while True:\n",
    "        if m.at() == Board.Cell.apple:\n",
    "            print(\"Found an apple at\", n)\n",
    "            return n # success!\n",
    "        if m.at() in [Board.Cell.wolf, Board.Cell.water]:\n",
    "            print(\"Failed at\", n)\n",
    "            return -1 # eaten by wolf or drowned\n",
    "        while True:\n",
    "            a = actions[policy(m)]\n",
    "            new_pos = m.move_pos(m.human,a)\n",
    "            if m.is_valid(new_pos) and m.at(new_pos)!=Board.Cell.water:\n",
    "                m.move(a) # do the actual move\n",
    "                break\n",
    "        n+=1\n",
    "        # clear output\n",
    "        clear_output(wait=True)\n",
    "        m.plot()"
   ],
   "id": "11e99b36d7f3b269",
   "outputs": [],
   "execution_count": null
  },
  {
   "metadata": {
    "ExecuteTime": {
     "end_time": "2025-06-13T09:58:38.961246Z",
     "start_time": "2025-06-13T09:58:38.954525Z"
    }
   },
   "cell_type": "code",
   "source": [
    "import time\n",
    "from IPython.display import clear_output\n",
    "import matplotlib.pyplot as plt        # <- only needed for titles\n",
    "from IPython.core.display_functions import clear_output\n",
    "\n",
    "def walk_with_animation(m, policy, delay=0.25, start_position=None):\n",
    "    n = 0 # number of steps\n",
    "    # set initial position\n",
    "    if start_position:\n",
    "        m.human = start_position\n",
    "    else:\n",
    "        m.random_start()\n",
    "    while True:\n",
    "\n",
    "        # --- draw the board ----------------------------------------------\n",
    "        clear_output(wait=True)         # clear the previous frame\n",
    "        m.plot()                        # your existing Board.plot()\n",
    "        plt.title(f\"Step {n}\")          # optional: show step number\n",
    "        plt.show()\n",
    "        time.sleep(delay)               # pause so the frame is visible\n",
    "\n",
    "        if m.at() == Board.Cell.apple:\n",
    "            print(\"Found an apple at\", n)\n",
    "            return n # success!\n",
    "        if m.at() in [Board.Cell.wolf, Board.Cell.water]:\n",
    "            print(\"Failed at\", n)\n",
    "            return -1 # eaten by wolf or drowned\n",
    "        hasBeenTo = m.at()\n",
    "        while True:\n",
    "            a = actions[policy(m)]\n",
    "            new_pos = m.move_pos(m.human,a)\n",
    "            while True:\n",
    "                if np.array_equal(new_pos, hasBeenTo):\n",
    "                    a = actions[policy(m)]\n",
    "                    new_pos = m.move_pos(m.human,a)\n",
    "                else:\n",
    "                    break\n",
    "            print(\"new_pos: \", new_pos)\n",
    "            if m.is_valid(new_pos) and m.at(new_pos)!=Board.Cell.water:\n",
    "                m.move(a) # do the actual move\n",
    "                hasBeenTo = new_pos\n",
    "                break\n",
    "        n+=1\n",
    "        # clear output\n",
    "        clear_output(wait=True)\n",
    "        m.plot()"
   ],
   "id": "e8bfeb2fcf953ae0",
   "outputs": [],
   "execution_count": 46
  },
  {
   "metadata": {},
   "cell_type": "code",
   "source": [
    "# walk(m,random_policy)\n",
    "walk_with_animation(m, random_policy, delay=0.8)\n"
   ],
   "id": "2009b9283cef5909",
   "outputs": [],
   "execution_count": null
  },
  {
   "metadata": {},
   "cell_type": "code",
   "source": [
    "def print_statistics(policy):\n",
    "    s,w,n = 0,0,0\n",
    "    for _ in range(2):\n",
    "        # z = walk(m,policy)\n",
    "        z = walk_with_animation(m, policy, delay=0.3)\n",
    "        if z<0:\n",
    "            w+=1\n",
    "        else:\n",
    "            s += z\n",
    "            n += 1\n",
    "        m.plot()\n",
    "    print(f\"Average path length = {s/n}, eaten by wolf: {w} times\")\n",
    "\n",
    "print_statistics(random_policy)"
   ],
   "id": "b06575e578bed787",
   "outputs": [],
   "execution_count": null
  },
  {
   "metadata": {},
   "cell_type": "markdown",
   "source": "### Reward function",
   "id": "fd60df85f1d39a7b"
  },
  {
   "metadata": {},
   "cell_type": "code",
   "source": [
    "move_reward = -0.1\n",
    "goal_reward = 10\n",
    "end_reward = -10\n",
    "\n",
    "def reward(m,pos=None):\n",
    "    pos = pos or m.human\n",
    "    if not m.is_valid(pos):\n",
    "        return end_reward\n",
    "    x = m.at(pos)\n",
    "    if x==Board.Cell.water or x == Board.Cell.wolf:\n",
    "        return end_reward\n",
    "    if x==Board.Cell.apple:\n",
    "        return goal_reward\n",
    "    return move_reward"
   ],
   "id": "f734eb3ba703a918",
   "outputs": [],
   "execution_count": null
  },
  {
   "metadata": {},
   "cell_type": "markdown",
   "source": "### Q-Learning",
   "id": "8bd39ddae376096b"
  },
  {
   "metadata": {},
   "cell_type": "code",
   "source": [
    "# Create Q-Table.\n",
    "Q = np.ones((width,height,len(actions)),dtype=np.float64) * 1.0/len(actions)\n",
    "\n",
    "# m.plot(Q)\n",
    "print(Q.min())\n",
    "print(Q.max())\n",
    "print(Q.sum())\n",
    "print(Q[3,4])"
   ],
   "id": "24cb20796f9b7d8b",
   "outputs": [],
   "execution_count": null
  },
  {
   "metadata": {},
   "cell_type": "code",
   "source": [
    "# Create a function probs():\n",
    "def probs(v,eps=1e-4):\n",
    "    v = v-v.min()+eps\n",
    "    v = v/v.sum()\n",
    "    return v"
   ],
   "id": "5ef85069467569f9",
   "outputs": [],
   "execution_count": null
  },
  {
   "metadata": {},
   "cell_type": "code",
   "source": [
    "# Run them learning algorithm\n",
    "lpath = []\n",
    "for epoch in range(5000):\n",
    "    # Pick initial point\n",
    "    m.random_start()\n",
    "\n",
    "    # Start travelling\n",
    "    n=0\n",
    "    cum_reward = 0\n",
    "    while True:\n",
    "        x,y = m.human\n",
    "        v = probs(Q[x,y])\n",
    "        a = random.choices(list(actions),weights=v)[0]\n",
    "        dpos = actions[a]\n",
    "        m.move(dpos,check_correctness=False) # we allow player to move outside the board, which terminates episode\n",
    "        r = reward(m)\n",
    "        cum_reward += r\n",
    "        if r==end_reward or cum_reward < -1000:\n",
    "            lpath.append(n)\n",
    "            break\n",
    "        alpha = np.exp(-n / 10e5)\n",
    "        gamma = 0.5\n",
    "        ai = action_idx[a]\n",
    "        Q[x,y,ai] = (1 - alpha) * Q[x,y,ai] + alpha * (r + gamma * Q[x+dpos[0], y+dpos[1]].max())\n",
    "        n+=1"
   ],
   "id": "f70264a914fae616",
   "outputs": [],
   "execution_count": null
  },
  {
   "metadata": {},
   "cell_type": "code",
   "source": [
    "m.plot(Q)\n",
    "print(Q.min())\n",
    "print(Q.max())\n",
    "print(Q.sum())\n"
   ],
   "id": "1157d2300ec6f352",
   "outputs": [],
   "execution_count": null
  },
  {
   "metadata": {},
   "cell_type": "markdown",
   "source": "### Checking the policy",
   "id": "c662fff3b3522921"
  },
  {
   "metadata": {},
   "cell_type": "code",
   "source": [
    "def qpolicy_strict(m):\n",
    "    x,y = m.human\n",
    "    v = probs(Q[x,y])\n",
    "    a = list(actions)[np.argmax(v)]\n",
    "    return a\n",
    "\n",
    "walk_with_animation(m,qpolicy_strict, delay=0.5, start_position=(5,4))"
   ],
   "id": "d1001ed13486ae7d",
   "execution_count": 57,
   "outputs": [
    {
     "data": {
      "text/plain": [
       "<Figure size 1100x600 with 1 Axes>"
      ],
      "image/png": "[encoded data removed]"
     },
     "metadata": {},
     "output_type": "display_data"
    },
    {
     "name": "stdout",
     "output_type": "stream",
     "text": [
      "Found an apple at 4\n"
     ]
    },
    {
     "data": {
      "text/plain": [
       "4"
      ]
     },
     "execution_count": 57,
     "metadata": {},
     "output_type": "execute_result"
    }
   ]
  }
 ],
 "metadata": {
  "kernelspec": {
   "display_name": "Python 3",
   "language": "python",
   "name": "python3"
  },
  "language_info": {
   "codemirror_mode": {
    "name": "ipython",
    "version": 2
   },
   "file_extension": ".py",
   "mimetype": "text/x-python",
   "name": "python",
   "nbconvert_exporter": "python",
   "pygments_lexer": "ipython2",
   "version": "2.7.6"
  }
 },
 "nbformat": 4,
 "nbformat_minor": 5
}
