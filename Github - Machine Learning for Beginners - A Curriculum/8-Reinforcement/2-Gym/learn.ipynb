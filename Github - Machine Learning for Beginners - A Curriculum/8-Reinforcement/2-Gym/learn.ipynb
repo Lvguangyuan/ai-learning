{
 "cells": [
  {
   "metadata": {},
   "cell_type": "markdown",
   "source": "## Using a gym simulation environment",
   "id": "2ef3f695e57c0280"
  },
  {
   "metadata": {},
   "cell_type": "markdown",
   "source": "### OpenAI Gym\n",
   "id": "f1a73f2c75a53b11"
  },
  {
   "metadata": {
    "ExecuteTime": {
     "end_time": "2025-06-17T07:00:22.488879Z",
     "start_time": "2025-06-17T07:00:22.486089Z"
    }
   },
   "cell_type": "code",
   "source": [
    "import gym\n",
    "import matplotlib.pyplot as plt\n",
    "import numpy as np\n",
    "import random"
   ],
   "id": "aa9ad811855f4753",
   "outputs": [],
   "execution_count": 16
  },
  {
   "metadata": {},
   "cell_type": "markdown",
   "source": "#### initialize the environment",
   "id": "fe7364652cf5704c"
  },
  {
   "metadata": {
    "ExecuteTime": {
     "end_time": "2025-06-17T07:00:22.522517Z",
     "start_time": "2025-06-17T07:00:22.516316Z"
    }
   },
   "cell_type": "code",
   "source": [
    "env = gym.make(\"CartPole-v1\", render_mode=\"rgb_array\")  # render needs to be declared\n",
    "print(\"env.action_space: \", env.action_space)\n",
    "print(\"env.observation_space: \", env.observation_space)\n",
    "print(\"env.action_space.sample(): \", env.action_space.sample())\n",
    "\n",
    "print(\"env.observation_space.low: \", env.observation_space.low)\n",
    "print(\"env.observation_space.high: \", env.observation_space.high)"
   ],
   "id": "cc276fb5b91e4402",
   "outputs": [
    {
     "name": "stdout",
     "output_type": "stream",
     "text": [
      "env.action_space:  Discrete(2)\n",
      "env.observation_space:  Box([-4.8000002e+00 -3.4028235e+38 -4.1887903e-01 -3.4028235e+38], [4.8000002e+00 3.4028235e+38 4.1887903e-01 3.4028235e+38], (4,), float32)\n",
      "env.action_space.sample():  1\n",
      "env.observation_space.low:  [-4.8000002e+00 -3.4028235e+38 -4.1887903e-01 -3.4028235e+38]\n",
      "env.observation_space.high:  [4.8000002e+00 3.4028235e+38 4.1887903e-01 3.4028235e+38]\n"
     ]
    }
   ],
   "execution_count": 17
  },
  {
   "metadata": {
    "ExecuteTime": {
     "end_time": "2025-06-18T06:31:39.059332Z",
     "start_time": "2025-06-18T06:31:39.055128Z"
    }
   },
   "cell_type": "code",
   "source": [
    "# env.reset()\n",
    "# frame = env.render()           # ← ndarray, shape (400, 600, 3)\n",
    "# plt.imshow(frame)\n",
    "# plt.axis(\"off\")                # optional\n",
    "# plt.show()\n",
    "\n",
    "def show_animation(frame):\n",
    "    plt.imshow(frame)\n",
    "    plt.axis(\"off\")\n",
    "    display.display(plt.gcf())\n",
    "    display.clear_output(wait=True)  # overwrite previous frame\n",
    "    time.sleep(1 / 30)"
   ],
   "id": "70b4e5d989216f65",
   "outputs": [],
   "execution_count": 38
  },
  {
   "metadata": {},
   "cell_type": "markdown",
   "source": "####  run a short simulation",
   "id": "e6fae4a92e1c7a9"
  },
  {
   "metadata": {
    "ExecuteTime": {
     "end_time": "2025-06-18T06:40:44.965221Z",
     "start_time": "2025-06-18T06:40:44.666225Z"
    }
   },
   "cell_type": "code",
   "source": [
    "from IPython import display\n",
    "import time\n",
    "\n",
    "cum_rew = 0\n",
    "obs, info = env.reset(seed=42)  # reset returns (obs, info)\n",
    "for i in range(100):\n",
    "    frame = env.render()\n",
    "    # show_animation(frame)\n",
    "    obs, rew, terminated, truncated, info = env.step(env.action_space.sample())\n",
    "    cum_rew += rew\n",
    "print('reward:', cum_rew)"
   ],
   "id": "702a4de76fdde2cb",
   "outputs": [
    {
     "name": "stdout",
     "output_type": "stream",
     "text": [
      "reward: 19.0\n"
     ]
    }
   ],
   "execution_count": 46
  },
  {
   "metadata": {},
   "cell_type": "markdown",
   "source": "### State discretization",
   "id": "3bc7db591a734ed2"
  },
  {
   "metadata": {},
   "cell_type": "markdown",
   "source": "#### create function to discretize observations",
   "id": "95b67375dd790f86"
  },
  {
   "metadata": {
    "ExecuteTime": {
     "end_time": "2025-06-17T07:00:50.590109Z",
     "start_time": "2025-06-17T07:00:50.584676Z"
    }
   },
   "cell_type": "code",
   "source": [
    "def discretize(x):\n",
    "    return tuple((x / np.array([0.25, 0.25, 0.01, 0.1])).astype(int))\n",
    "\n",
    "\n",
    "def create_bins(i, num):\n",
    "    return np.arange(num + 1) * (i[1] - i[0]) / num + i[0]\n",
    "\n",
    "\n",
    "print(\"Sample bins for interval (-5,5) with 10 bins\\n\", create_bins((-5, 5), 10))\n",
    "\n",
    "ints = [(-5, 5), (-2, 2), (-0.5, 0.5), (-2, 2)]  # intervals of values for each parameter\n",
    "nbins = [20, 20, 10, 10]  # number of bins for each parameter\n",
    "bins = [create_bins(ints[i], nbins[i]) for i in range(4)]\n",
    "\n",
    "\n",
    "def discretize_bins(x):\n",
    "    return tuple(np.digitize(x[i], bins[i]) for i in range(4))"
   ],
   "id": "e09376ce6f4cbed6",
   "outputs": [
    {
     "name": "stdout",
     "output_type": "stream",
     "text": [
      "Sample bins for interval (-5,5) with 10 bins\n",
      " [-5. -4. -3. -2. -1.  0.  1.  2.  3.  4.  5.]\n"
     ]
    }
   ],
   "execution_count": 21
  },
  {
   "metadata": {},
   "cell_type": "markdown",
   "source": "#### run simulation to observe discrete environment values",
   "id": "5176b4e2e932a7e0"
  },
  {
   "metadata": {
    "ExecuteTime": {
     "end_time": "2025-06-17T07:00:52.051554Z",
     "start_time": "2025-06-17T07:00:51.998324Z"
    }
   },
   "cell_type": "code",
   "source": [
    "env.reset()\n",
    "for _ in range(20):\n",
    "    env.render()\n",
    "    obs, rew, terminated, truncated, info = env.step(env.action_space.sample())\n",
    "    print(obs)\n",
    "    print(discretize_bins(obs))\n",
    "    # print(discretize(obs))"
   ],
   "id": "2a45e13ca4497ab5",
   "outputs": [
    {
     "name": "stdout",
     "output_type": "stream",
     "text": [
      "[-0.03963102 -0.14792429  0.0266861   0.32941288]\n",
      "(np.int64(10), np.int64(10), np.int64(6), np.int64(6))\n",
      "[-0.04258951 -0.34341577  0.03327436  0.63039047]\n",
      "(np.int64(10), np.int64(9), np.int64(6), np.int64(7))\n",
      "[-0.04945782 -0.14877352  0.04588217  0.34836957]\n",
      "(np.int64(10), np.int64(10), np.int64(6), np.int64(6))\n",
      "[-0.05243329  0.04566683  0.05284956  0.0705006 ]\n",
      "(np.int64(10), np.int64(11), np.int64(6), np.int64(6))\n",
      "[-0.05151996  0.23999283  0.05425957 -0.20505087]\n",
      "(np.int64(10), np.int64(12), np.int64(6), np.int64(5))\n",
      "[-0.0467201   0.43429855  0.05015855 -0.48013604]\n",
      "(np.int64(10), np.int64(13), np.int64(6), np.int64(4))\n",
      "[-0.03803413  0.23850575  0.04055583 -0.17207576]\n",
      "(np.int64(10), np.int64(12), np.int64(6), np.int64(5))\n",
      "[-0.03326401  0.04282752  0.03711431  0.13312039]\n",
      "(np.int64(10), np.int64(11), np.int64(6), np.int64(6))\n",
      "[-0.03240746  0.23739873  0.03977672 -0.14762634]\n",
      "(np.int64(10), np.int64(12), np.int64(6), np.int64(5))\n",
      "[-0.02765949  0.43192914  0.0368242  -0.4274999 ]\n",
      "(np.int64(10), np.int64(13), np.int64(6), np.int64(4))\n",
      "[-0.01902091  0.23630553  0.0282742  -0.12343954]\n",
      "(np.int64(10), np.int64(12), np.int64(6), np.int64(5))\n",
      "[-0.01429479  0.04079016  0.02580541  0.17802782]\n",
      "(np.int64(10), np.int64(11), np.int64(6), np.int64(6))\n",
      "[-0.01347899 -0.1546914   0.02936596  0.47873846]\n",
      "(np.int64(10), np.int64(10), np.int64(6), np.int64(7))\n",
      "[-0.01657282  0.04000393  0.03894074  0.19545375]\n",
      "(np.int64(10), np.int64(11), np.int64(6), np.int64(6))\n",
      "[-0.01577274  0.23454785  0.04284981 -0.08469523]\n",
      "(np.int64(10), np.int64(12), np.int64(6), np.int64(5))\n",
      "[-0.01108178  0.0388387   0.0411559   0.22119302]\n",
      "(np.int64(10), np.int64(11), np.int64(6), np.int64(6))\n",
      "[-0.01030501 -0.15684661  0.04557976  0.52656883]\n",
      "(np.int64(10), np.int64(10), np.int64(6), np.int64(7))\n",
      "[-0.01344194  0.03760535  0.05611114  0.24858965]\n",
      "(np.int64(10), np.int64(11), np.int64(6), np.int64(6))\n",
      "[-0.01268983  0.23188294  0.06108293 -0.02588008]\n",
      "(np.int64(10), np.int64(12), np.int64(6), np.int64(5))\n",
      "[-0.00805218  0.42607814  0.06056533 -0.2986824 ]\n",
      "(np.int64(10), np.int64(13), np.int64(6), np.int64(5))\n"
     ]
    }
   ],
   "execution_count": 22
  },
  {
   "metadata": {},
   "cell_type": "markdown",
   "source": "### The Q-Table structure",
   "id": "82deda278d019abf"
  },
  {
   "metadata": {
    "ExecuteTime": {
     "end_time": "2025-06-17T07:00:53.779113Z",
     "start_time": "2025-06-17T07:00:53.774503Z"
    }
   },
   "cell_type": "code",
   "source": [
    "Q = {}\n",
    "actions = (0, 1)\n",
    "\n",
    "# returns a list of Q-Table values for a given state that corresponds to all possible actions.\n",
    "def qvalues(state):\n",
    "    return [Q.get((state, a), 0) for a in actions]"
   ],
   "id": "fb587386f8eda480",
   "outputs": [],
   "execution_count": 23
  },
  {
   "metadata": {},
   "cell_type": "markdown",
   "source": "### start Q-Learning",
   "id": "f9de930f1a18e33f"
  },
  {
   "metadata": {},
   "cell_type": "markdown",
   "source": "#### set hyperparameters\n",
   "id": "61c023eba065e2b6"
  },
  {
   "metadata": {
    "ExecuteTime": {
     "end_time": "2025-06-17T07:00:55.078117Z",
     "start_time": "2025-06-17T07:00:55.073702Z"
    }
   },
   "cell_type": "code",
   "source": [
    "alpha = 0.3\n",
    "gamma = 0.9\n",
    "epsilon = 0.90\n",
    "\n",
    "\n",
    "def probs(v, eps=1e-4):\n",
    "    v = v - v.min() + eps\n",
    "    v = v / v.sum()\n",
    "    return v"
   ],
   "id": "7de0429de71d5539",
   "outputs": [],
   "execution_count": 24
  },
  {
   "metadata": {},
   "cell_type": "markdown",
   "source": "#### start the learning loop",
   "id": "23829cd7feeb707d"
  },
  {
   "metadata": {
    "jupyter": {
     "is_executing": true
    },
    "ExecuteTime": {
     "start_time": "2025-06-18T06:47:25.031338Z"
    }
   },
   "cell_type": "code",
   "source": [
    "Qmax = 0\n",
    "cum_rewards = []\n",
    "rewards = []\n",
    "for epoch in range(1000):\n",
    "    obs, info = env.reset()\n",
    "    done = False\n",
    "    cum_reward = 0\n",
    "    # == do the simulation ==\n",
    "    while not done:\n",
    "        s = discretize(obs)\n",
    "        if random.random() < epsilon:\n",
    "            # exploitation - chose the action according to Q-Table probabilities\n",
    "            v = probs(np.array(qvalues(s)))\n",
    "            a = random.choices(actions, weights=v)[0]\n",
    "        else:\n",
    "            # exploration - randomly chose the action\n",
    "            a = np.random.randint(env.action_space.n)\n",
    "\n",
    "        obs, rew, terminated, truncated, info = env.step(a)\n",
    "        cum_reward += rew\n",
    "        ns = discretize(obs)\n",
    "        Q[(s, a)] = (1 - alpha) * Q.get((s, a), 0) + alpha * (rew + gamma * max(qvalues(ns)))\n",
    "        # show_animation(env.render())\n",
    "        # print('cum_reward: ', cum_reward, ' rew:' , rew, ' s: ', s, ' action: ', a)\n",
    "        if cum_reward >= 100:\n",
    "            done = True\n",
    "    cum_rewards.append(cum_reward)\n",
    "    rewards.append(cum_reward)\n",
    "    print('start learning ', epoch)\n",
    "    # == Periodically print results and calculate average reward ==\n",
    "    # if epoch % 500 == 0:\n",
    "    #     print(f\"{epoch}: {np.average(cum_rewards)}, alpha={alpha}, epsilon={epsilon}\")\n",
    "    #     if np.average(cum_rewards) > Qmax:\n",
    "    #         Qmax = np.average(cum_rewards)\n",
    "    #         Qbest = Q\n",
    "    #     cum_rewards = []"
   ],
   "id": "bbae21f2776eb2a1",
   "outputs": [],
   "execution_count": null
  },
  {
   "metadata": {
    "ExecuteTime": {
     "end_time": "2025-06-17T07:15:22.464740Z",
     "start_time": "2025-06-17T07:15:22.317530Z"
    }
   },
   "cell_type": "code",
   "source": "plt.plot(rewards)\n",
   "id": "f404549aaef49969",
   "outputs": [
    {
     "data": {
      "text/plain": [
       "[<matplotlib.lines.Line2D at 0x164ddbae0d0>]"
      ]
     },
     "execution_count": 31,
     "metadata": {},
     "output_type": "execute_result"
    },
    {
     "data": {
      "text/plain": [
       "<Figure size 640x480 with 1 Axes>"
      ],
      "image/png": "[encoded data removed]"
     },
     "metadata": {},
     "output_type": "display_data"
    }
   ],
   "execution_count": 31
  },
  {
   "metadata": {
    "ExecuteTime": {
     "end_time": "2025-06-17T07:16:52.256619Z",
     "start_time": "2025-06-17T07:16:52.154401Z"
    }
   },
   "cell_type": "code",
   "source": [
    "def running_average(x,window):\n",
    "    return np.convolve(x,np.ones(window)/window,mode='valid')\n",
    "\n",
    "plt.plot(running_average(rewards,100))"
   ],
   "id": "aa18c7da847ce8ab",
   "outputs": [
    {
     "data": {
      "text/plain": [
       "[<matplotlib.lines.Line2D at 0x164f61e8050>]"
      ]
     },
     "execution_count": 32,
     "metadata": {},
     "output_type": "execute_result"
    },
    {
     "data": {
      "text/plain": [
       "<Figure size 640x480 with 1 Axes>"
      ],
      "image/png": "[encoded data removed]"
     },
     "metadata": {},
     "output_type": "display_data"
    }
   ],
   "execution_count": 32
  },
  {
   "metadata": {},
   "cell_type": "markdown",
   "source": "### see how the trained model behaves",
   "id": "83101a9361ded21c"
  },
  {
   "metadata": {
    "ExecuteTime": {
     "end_time": "2025-06-18T06:41:03.701610Z",
     "start_time": "2025-06-18T06:41:03.684982Z"
    }
   },
   "cell_type": "code",
   "source": [
    "obs, info = env.reset()\n",
    "cum_rew = 0\n",
    "for i in range(100):\n",
    "    s = discretize(obs)\n",
    "    # show_animation(env.render())\n",
    "    v = probs(np.array(qvalues(s)))\n",
    "    a = random.choices(actions,weights=v)[0]\n",
    "    obs, rew, terminated, truncated, info = env.step(a)\n",
    "    cum_rew += rew\n",
    "print('reward:', cum_rew)\n",
    "env.close()"
   ],
   "id": "2bf0b5ee5cdfbbe",
   "outputs": [
    {
     "name": "stdout",
     "output_type": "stream",
     "text": [
      "reward: 26.0\n"
     ]
    }
   ],
   "execution_count": 50
  }
 ],
 "metadata": {
  "kernelspec": {
   "display_name": "Python 3",
   "language": "python",
   "name": "python3"
  },
  "language_info": {
   "codemirror_mode": {
    "name": "ipython",
    "version": 2
   },
   "file_extension": ".py",
   "mimetype": "text/x-python",
   "name": "python",
   "nbconvert_exporter": "python",
   "pygments_lexer": "ipython2",
   "version": "2.7.6"
  }
 },
 "nbformat": 4,
 "nbformat_minor": 5
}
