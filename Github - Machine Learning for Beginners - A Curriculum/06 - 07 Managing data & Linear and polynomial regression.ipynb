{
 "cells": [
  {
   "metadata": {},
   "cell_type": "markdown",
   "source": "# Build a regression model",
   "id": "c68038e649f286b"
  },
  {
   "metadata": {},
   "cell_type": "markdown",
   "source": "## Preparing data",
   "id": "d75281ff6e0fc40e"
  },
  {
   "metadata": {},
   "cell_type": "markdown",
   "source": "### First, check for missing dates",
   "id": "f4f415f57ff9fda9"
  },
  {
   "cell_type": "code",
   "id": "initial_id",
   "metadata": {
    "collapsed": true,
    "ExecuteTime": {
     "end_time": "2025-05-24T03:18:29.084184Z",
     "start_time": "2025-05-24T03:18:29.071579Z"
    }
   },
   "source": [
    "import pandas as pd\n",
    "pumpkins = pd.read_csv('./US-pumpkins.csv')\n",
    "\n",
    "# filter data by selecting only pumpkins with the string 'bushel' in their Package column\n",
    "pumpkins = pumpkins[pumpkins['Package'].str.contains('bushel', case=True, regex=True)]\n",
    "\n",
    "# Use the head() function to view the first five rows.\n",
    "pumpkins.head()\n",
    "\n",
    "# Check if there is missing data in the current dataframe:\n",
    "pumpkins.isnull().sum()\n",
    "\n",
    "# select only the columns you need, using the loc function\n",
    "columns_to_select = ['Package', 'Low Price', 'High Price', 'Date', 'Variety', 'City Name']\n",
    "pumpkins = pumpkins.loc[:, columns_to_select]\n",
    "print(pumpkins)"
   ],
   "outputs": [
    {
     "name": "stdout",
     "output_type": "stream",
     "text": [
      "                   Package  Low Price  High Price     Date    Variety  \\\n",
      "70    1 1/9 bushel cartons      15.00        15.0  9/24/16   PIE TYPE   \n",
      "71    1 1/9 bushel cartons      18.00        18.0  9/24/16   PIE TYPE   \n",
      "72    1 1/9 bushel cartons      18.00        18.0  10/1/16   PIE TYPE   \n",
      "73    1 1/9 bushel cartons      17.00        17.0  10/1/16   PIE TYPE   \n",
      "74    1 1/9 bushel cartons      15.00        15.0  10/8/16   PIE TYPE   \n",
      "...                    ...        ...         ...      ...        ...   \n",
      "1738    1/2 bushel cartons      15.00        15.0  9/30/16  MINIATURE   \n",
      "1739    1/2 bushel cartons      13.75        15.0  9/30/16  MINIATURE   \n",
      "1740    1/2 bushel cartons      10.75        15.0  9/30/16  MINIATURE   \n",
      "1741    1/2 bushel cartons      12.00        12.0  9/30/16  MINIATURE   \n",
      "1742    1/2 bushel cartons      12.00        12.0  9/30/16  MINIATURE   \n",
      "\n",
      "      City Name  \n",
      "70    BALTIMORE  \n",
      "71    BALTIMORE  \n",
      "72    BALTIMORE  \n",
      "73    BALTIMORE  \n",
      "74    BALTIMORE  \n",
      "...         ...  \n",
      "1738  ST. LOUIS  \n",
      "1739  ST. LOUIS  \n",
      "1740  ST. LOUIS  \n",
      "1741  ST. LOUIS  \n",
      "1742  ST. LOUIS  \n",
      "\n",
      "[415 rows x 6 columns]\n"
     ]
    }
   ],
   "execution_count": 109
  },
  {
   "metadata": {},
   "cell_type": "markdown",
   "source": "### Second, determine average price of pumpkin",
   "id": "c134d3307d0c84e"
  },
  {
   "metadata": {
    "ExecuteTime": {
     "end_time": "2025-05-24T03:18:29.126003Z",
     "start_time": "2025-05-24T03:18:29.108406Z"
    }
   },
   "cell_type": "code",
   "source": [
    "# To calculate the average\n",
    "price = (pumpkins['Low Price'] + pumpkins['High Price']) / 2\n",
    "month = pd.DatetimeIndex(pumpkins['Date']).month\n",
    "# print(price)\n",
    "# print(month)\n",
    "new_pumpkins = pd.DataFrame({\n",
    "    'Month': month,\n",
    "    'Package': pumpkins['Package'],\n",
    "    'Low Price': pumpkins['Low Price'],\n",
    "    'High Price': pumpkins['High Price'],\n",
    "    'Price': price,\n",
    "    'Variety': pumpkins['Variety'],\n",
    "    'City Name': pumpkins['City Name']\n",
    "})\n",
    "# print(new_pumpkins)\n",
    "\n",
    "# to normalize the pricing so that you show the pricing per bushel\n",
    "new_pumpkins.loc[new_pumpkins['Package'].str.contains('1 1/9'), 'Price'] = price/(1 + 1/9)\n",
    "new_pumpkins.loc[new_pumpkins['Package'].str.contains('1/2'), 'Price'] = price/(1/2)\n",
    "print(new_pumpkins)\n"
   ],
   "id": "597cc4b5d57252d8",
   "outputs": [
    {
     "name": "stdout",
     "output_type": "stream",
     "text": [
      "      Month               Package  Low Price  High Price  Price    Variety  \\\n",
      "70        9  1 1/9 bushel cartons      15.00        15.0  13.50   PIE TYPE   \n",
      "71        9  1 1/9 bushel cartons      18.00        18.0  16.20   PIE TYPE   \n",
      "72       10  1 1/9 bushel cartons      18.00        18.0  16.20   PIE TYPE   \n",
      "73       10  1 1/9 bushel cartons      17.00        17.0  15.30   PIE TYPE   \n",
      "74       10  1 1/9 bushel cartons      15.00        15.0  13.50   PIE TYPE   \n",
      "...     ...                   ...        ...         ...    ...        ...   \n",
      "1738      9    1/2 bushel cartons      15.00        15.0  30.00  MINIATURE   \n",
      "1739      9    1/2 bushel cartons      13.75        15.0  28.75  MINIATURE   \n",
      "1740      9    1/2 bushel cartons      10.75        15.0  25.75  MINIATURE   \n",
      "1741      9    1/2 bushel cartons      12.00        12.0  24.00  MINIATURE   \n",
      "1742      9    1/2 bushel cartons      12.00        12.0  24.00  MINIATURE   \n",
      "\n",
      "      City Name  \n",
      "70    BALTIMORE  \n",
      "71    BALTIMORE  \n",
      "72    BALTIMORE  \n",
      "73    BALTIMORE  \n",
      "74    BALTIMORE  \n",
      "...         ...  \n",
      "1738  ST. LOUIS  \n",
      "1739  ST. LOUIS  \n",
      "1740  ST. LOUIS  \n",
      "1741  ST. LOUIS  \n",
      "1742  ST. LOUIS  \n",
      "\n",
      "[415 rows x 7 columns]\n"
     ]
    }
   ],
   "execution_count": 110
  },
  {
   "metadata": {},
   "cell_type": "markdown",
   "source": "# Correlation",
   "id": "6b9995b84ef80639"
  },
  {
   "metadata": {},
   "cell_type": "markdown",
   "source": "## Looking for Correlation",
   "id": "d2f9c0689c5c4c70"
  },
  {
   "metadata": {
    "ExecuteTime": {
     "end_time": "2025-05-24T03:18:29.209938Z",
     "start_time": "2025-05-24T03:18:29.148041Z"
    }
   },
   "cell_type": "code",
   "source": [
    "# create some basic plots to display the new dataframe you just created\n",
    "import matplotlib.pyplot as plt\n",
    "\n",
    "price = new_pumpkins.Price\n",
    "month = new_pumpkins.Month\n",
    "plt.scatter(price, month)\n",
    "plt.show()"
   ],
   "id": "40fb92ba2479eb8a",
   "outputs": [
    {
     "data": {
      "text/plain": [
       "<Figure size 640x480 with 1 Axes>"
      ],
      "image/png": "[encoded data removed]"
     },
     "metadata": {},
     "output_type": "display_data"
    }
   ],
   "execution_count": 111
  },
  {
   "metadata": {
    "ExecuteTime": {
     "end_time": "2025-05-24T03:18:29.293215Z",
     "start_time": "2025-05-24T03:18:29.236232Z"
    }
   },
   "cell_type": "code",
   "source": [
    "# To get charts to display useful data, you usually need to group the data somehow.\n",
    "\n",
    "new_pumpkins.groupby(['Month'])['Price'].mean().plot(kind='bar')\n",
    "plt.ylabel(\"Pumpkin Price\")"
   ],
   "id": "8b7aa75389d28dd0",
   "outputs": [
    {
     "data": {
      "text/plain": [
       "Text(0, 0.5, 'Pumpkin Price')"
      ]
     },
     "execution_count": 112,
     "metadata": {},
     "output_type": "execute_result"
    },
    {
     "data": {
      "text/plain": [
       "<Figure size 640x480 with 1 Axes>"
      ],
      "image/png": "[encoded data removed]"
     },
     "metadata": {},
     "output_type": "display_data"
    }
   ],
   "execution_count": 112
  },
  {
   "metadata": {},
   "cell_type": "markdown",
   "source": "### using the corr function to see correlations",
   "id": "5ea58a8c08ba98ad"
  },
  {
   "metadata": {
    "ExecuteTime": {
     "end_time": "2025-05-24T03:18:29.385960Z",
     "start_time": "2025-05-24T03:18:29.312288Z"
    }
   },
   "cell_type": "code",
   "source": [
    "from datetime import datetime\n",
    "\n",
    "print(new_pumpkins['Month'].corr(new_pumpkins['Price']))\n",
    "\n",
    "# add a new column \"day of year\" to the dataframe\n",
    "# day_of_year = pd.to_datetime(pumpkins['Date']).apply(lambda dt: (dt-datetime(dt.year,1,1)).days)\n",
    "day_of_year = pd.to_datetime(pumpkins['Date'], format='mixed').apply(lambda dt: (dt - datetime(dt.year, 1, 1)).days)\n",
    "new_pumpkins['DayOfYear'] = day_of_year\n",
    "print(new_pumpkins['DayOfYear'].corr(new_pumpkins['Price']))\n",
    "plt.scatter(new_pumpkins.Price, new_pumpkins.DayOfYear)\n",
    "plt.show()"
   ],
   "id": "af7257dfbf57625",
   "outputs": [
    {
     "name": "stdout",
     "output_type": "stream",
     "text": [
      "-0.1491291363427862\n",
      "-0.16690092505934478\n"
     ]
    },
    {
     "data": {
      "text/plain": [
       "<Figure size 640x480 with 1 Axes>"
      ],
      "image/png": "[encoded data removed]"
     },
     "metadata": {},
     "output_type": "display_data"
    }
   ],
   "execution_count": 113
  },
  {
   "metadata": {},
   "cell_type": "markdown",
   "source": "### To find clusters' relationship",
   "id": "36af7d87d878deaa"
  },
  {
   "metadata": {
    "ExecuteTime": {
     "end_time": "2025-05-24T03:18:29.568121Z",
     "start_time": "2025-05-24T03:18:29.414607Z"
    }
   },
   "cell_type": "code",
   "source": [
    "ax=None\n",
    "colors = ['red','blue','green','yellow']\n",
    "for i,var in enumerate(new_pumpkins['Variety'].unique()):\n",
    "    df = new_pumpkins[new_pumpkins['Variety']==var]\n",
    "    ax = df.plot.scatter('DayOfYear','Price',ax=ax,c=colors[i],label=var)\n"
   ],
   "id": "6dc73e9d8d89c56d",
   "outputs": [
    {
     "data": {
      "text/plain": [
       "<Figure size 640x480 with 1 Axes>"
      ],
      "image/png": "[encoded data removed]"
     },
     "metadata": {},
     "output_type": "display_data"
    }
   ],
   "execution_count": 114
  },
  {
   "metadata": {},
   "cell_type": "markdown",
   "source": "### To see the effect according to Our investigation",
   "id": "ab1205f9ba22635c"
  },
  {
   "metadata": {
    "ExecuteTime": {
     "end_time": "2025-05-24T03:18:29.667718Z",
     "start_time": "2025-05-24T03:18:29.597541Z"
    }
   },
   "cell_type": "code",
   "source": "new_pumpkins.groupby('Variety')['Price'].mean().plot(kind='bar')",
   "id": "f05df866c2ada047",
   "outputs": [
    {
     "data": {
      "text/plain": [
       "<Axes: xlabel='Variety'>"
      ]
     },
     "execution_count": 115,
     "metadata": {},
     "output_type": "execute_result"
    },
    {
     "data": {
      "text/plain": [
       "<Figure size 640x480 with 1 Axes>"
      ],
      "image/png": "[encoded data removed]"
     },
     "metadata": {},
     "output_type": "display_data"
    }
   ],
   "execution_count": 115
  },
  {
   "metadata": {
    "ExecuteTime": {
     "end_time": "2025-05-24T03:18:29.777337Z",
     "start_time": "2025-05-24T03:18:29.697179Z"
    }
   },
   "cell_type": "code",
   "source": [
    "pie_pumpkins = new_pumpkins[new_pumpkins['Variety']=='PIE TYPE']\n",
    "pie_pumpkins.plot.scatter('DayOfYear','Price')\n",
    "print(pie_pumpkins['DayOfYear'].corr(pie_pumpkins['Price']))"
   ],
   "id": "78cd11fec7705925",
   "outputs": [
    {
     "name": "stdout",
     "output_type": "stream",
     "text": [
      "-0.26678559691441883\n"
     ]
    },
    {
     "data": {
      "text/plain": [
       "<Figure size 640x480 with 1 Axes>"
      ],
      "image/png": "[encoded data removed]"
     },
     "metadata": {},
     "output_type": "display_data"
    }
   ],
   "execution_count": 116
  },
  {
   "metadata": {},
   "cell_type": "markdown",
   "source": "### Clean Data",
   "id": "a9ed070db421d3a6"
  },
  {
   "metadata": {
    "ExecuteTime": {
     "end_time": "2025-05-24T03:18:29.805864Z",
     "start_time": "2025-05-24T03:18:29.799554Z"
    }
   },
   "cell_type": "code",
   "source": [
    "pie_pumpkins.dropna(inplace=True)\n",
    "pie_pumpkins.info()"
   ],
   "id": "a2ec37fa1a1ea760",
   "outputs": [
    {
     "name": "stdout",
     "output_type": "stream",
     "text": [
      "<class 'pandas.core.frame.DataFrame'>\n",
      "Index: 144 entries, 70 to 1630\n",
      "Data columns (total 8 columns):\n",
      " #   Column      Non-Null Count  Dtype  \n",
      "---  ------      --------------  -----  \n",
      " 0   Month       144 non-null    int32  \n",
      " 1   Package     144 non-null    object \n",
      " 2   Low Price   144 non-null    float64\n",
      " 3   High Price  144 non-null    float64\n",
      " 4   Price       144 non-null    float64\n",
      " 5   Variety     144 non-null    object \n",
      " 6   City Name   144 non-null    object \n",
      " 7   DayOfYear   144 non-null    int64  \n",
      "dtypes: float64(3), int32(1), int64(1), object(3)\n",
      "memory usage: 9.6+ KB\n"
     ]
    },
    {
     "name": "stderr",
     "output_type": "stream",
     "text": [
      "C:\\Users\\lvgy\\AppData\\Local\\Temp\\ipykernel_35344\\664819136.py:1: SettingWithCopyWarning: \n",
      "A value is trying to be set on a copy of a slice from a DataFrame\n",
      "\n",
      "See the caveats in the documentation: https://pandas.pydata.org/pandas-docs/stable/user_guide/indexing.html#returning-a-view-versus-a-copy\n",
      "  pie_pumpkins.dropna(inplace=True)\n"
     ]
    }
   ],
   "execution_count": 117
  },
  {
   "metadata": {},
   "cell_type": "markdown",
   "source": "## Simple Linear Regression",
   "id": "29dc58766a231500"
  },
  {
   "metadata": {
    "ExecuteTime": {
     "end_time": "2025-05-24T03:18:29.839435Z",
     "start_time": "2025-05-24T03:18:29.836252Z"
    }
   },
   "cell_type": "code",
   "source": [
    "# use the Scikit-learn library\n",
    "from sklearn.linear_model import LinearRegression\n",
    "from sklearn.metrics import mean_squared_error\n",
    "from sklearn.model_selection import train_test_split\n"
   ],
   "id": "9883b9a3e0676189",
   "outputs": [],
   "execution_count": 118
  },
  {
   "metadata": {},
   "cell_type": "markdown",
   "source": "### separating input values (features) and the expected output (label)",
   "id": "2f2a8d16ebbbb7d3"
  },
  {
   "metadata": {
    "ExecuteTime": {
     "end_time": "2025-05-24T03:18:29.881436Z",
     "start_time": "2025-05-24T03:18:29.874639Z"
    }
   },
   "cell_type": "code",
   "source": [
    "X = pie_pumpkins['DayOfYear'].to_numpy().reshape(-1,1)\n",
    "print(X)\n",
    "y = pie_pumpkins['Price']\n",
    "print(y)\n",
    "X_train, X_test, y_train, y_test = train_test_split(X, y, test_size=0.2, random_state=0)\n"
   ],
   "id": "927a476faf69af15",
   "outputs": [
    {
     "name": "stdout",
     "output_type": "stream",
     "text": [
      "[[267]\n",
      " [267]\n",
      " [274]\n",
      " [274]\n",
      " [281]\n",
      " [281]\n",
      " [281]\n",
      " [281]\n",
      " [288]\n",
      " [288]\n",
      " [288]\n",
      " [295]\n",
      " [295]\n",
      " [295]\n",
      " [302]\n",
      " [302]\n",
      " [302]\n",
      " [258]\n",
      " [265]\n",
      " [265]\n",
      " [265]\n",
      " [272]\n",
      " [272]\n",
      " [309]\n",
      " [316]\n",
      " [323]\n",
      " [330]\n",
      " [267]\n",
      " [274]\n",
      " [281]\n",
      " [288]\n",
      " [295]\n",
      " [302]\n",
      " [309]\n",
      " [316]\n",
      " [323]\n",
      " [330]\n",
      " [337]\n",
      " [267]\n",
      " [274]\n",
      " [281]\n",
      " [288]\n",
      " [295]\n",
      " [302]\n",
      " [309]\n",
      " [316]\n",
      " [323]\n",
      " [330]\n",
      " [337]\n",
      " [344]\n",
      " [265]\n",
      " [272]\n",
      " [267]\n",
      " [267]\n",
      " [267]\n",
      " [274]\n",
      " [274]\n",
      " [274]\n",
      " [281]\n",
      " [281]\n",
      " [281]\n",
      " [288]\n",
      " [288]\n",
      " [288]\n",
      " [295]\n",
      " [295]\n",
      " [295]\n",
      " [302]\n",
      " [302]\n",
      " [302]\n",
      " [309]\n",
      " [309]\n",
      " [309]\n",
      " [316]\n",
      " [316]\n",
      " [316]\n",
      " [323]\n",
      " [323]\n",
      " [323]\n",
      " [330]\n",
      " [330]\n",
      " [337]\n",
      " [337]\n",
      " [344]\n",
      " [344]\n",
      " [237]\n",
      " [244]\n",
      " [244]\n",
      " [251]\n",
      " [251]\n",
      " [258]\n",
      " [258]\n",
      " [265]\n",
      " [265]\n",
      " [272]\n",
      " [272]\n",
      " [281]\n",
      " [288]\n",
      " [295]\n",
      " [302]\n",
      " [309]\n",
      " [316]\n",
      " [323]\n",
      " [330]\n",
      " [337]\n",
      " [272]\n",
      " [267]\n",
      " [274]\n",
      " [281]\n",
      " [288]\n",
      " [295]\n",
      " [302]\n",
      " [309]\n",
      " [265]\n",
      " [267]\n",
      " [274]\n",
      " [281]\n",
      " [288]\n",
      " [295]\n",
      " [302]\n",
      " [309]\n",
      " [251]\n",
      " [258]\n",
      " [265]\n",
      " [272]\n",
      " [295]\n",
      " [302]\n",
      " [309]\n",
      " [251]\n",
      " [258]\n",
      " [258]\n",
      " [265]\n",
      " [272]\n",
      " [288]\n",
      " [295]\n",
      " [302]\n",
      " [309]\n",
      " [316]\n",
      " [288]\n",
      " [295]\n",
      " [302]\n",
      " [237]\n",
      " [258]\n",
      " [265]]\n",
      "70      13.5\n",
      "71      16.2\n",
      "72      16.2\n",
      "73      15.3\n",
      "74      13.5\n",
      "        ... \n",
      "1626    10.8\n",
      "1627    10.8\n",
      "1628    17.1\n",
      "1629    16.2\n",
      "1630    18.0\n",
      "Name: Price, Length: 144, dtype: float64\n"
     ]
    }
   ],
   "execution_count": 119
  },
  {
   "metadata": {},
   "cell_type": "markdown",
   "source": "###  training the actual Linear Regression model",
   "id": "43e22c34b86c6977"
  },
  {
   "metadata": {
    "ExecuteTime": {
     "end_time": "2025-05-24T03:18:29.907777Z",
     "start_time": "2025-05-24T03:18:29.902410Z"
    }
   },
   "cell_type": "code",
   "source": [
    "lin_reg = LinearRegression()\n",
    "lin_reg.fit(X_train,y_train)"
   ],
   "id": "3cdd996e07f4f902",
   "outputs": [
    {
     "data": {
      "text/plain": [
       "LinearRegression()"
      ],
      "text/html": [
       "<style>#sk-container-id-4 {\n",
       "  /* Definition of color scheme common for light and dark mode */\n",
       "  --sklearn-color-text: #000;\n",
       "  --sklearn-color-text-muted: #666;\n",
       "  --sklearn-color-line: gray;\n",
       "  /* Definition of color scheme for unfitted estimators */\n",
       "  --sklearn-color-unfitted-level-0: #fff5e6;\n",
       "  --sklearn-color-unfitted-level-1: #f6e4d2;\n",
       "  --sklearn-color-unfitted-level-2: #ffe0b3;\n",
       "  --sklearn-color-unfitted-level-3: chocolate;\n",
       "  /* Definition of color scheme for fitted estimators */\n",
       "  --sklearn-color-fitted-level-0: #f0f8ff;\n",
       "  --sklearn-color-fitted-level-1: #d4ebff;\n",
       "  --sklearn-color-fitted-level-2: #b3dbfd;\n",
       "  --sklearn-color-fitted-level-3: cornflowerblue;\n",
       "\n",
       "  /* Specific color for light theme */\n",
       "  --sklearn-color-text-on-default-background: var(--sg-text-color, var(--theme-code-foreground, var(--jp-content-font-color1, black)));\n",
       "  --sklearn-color-background: var(--sg-background-color, var(--theme-background, var(--jp-layout-color0, white)));\n",
       "  --sklearn-color-border-box: var(--sg-text-color, var(--theme-code-foreground, var(--jp-content-font-color1, black)));\n",
       "  --sklearn-color-icon: #696969;\n",
       "\n",
       "  @media (prefers-color-scheme: dark) {\n",
       "    /* Redefinition of color scheme for dark theme */\n",
       "    --sklearn-color-text-on-default-background: var(--sg-text-color, var(--theme-code-foreground, var(--jp-content-font-color1, white)));\n",
       "    --sklearn-color-background: var(--sg-background-color, var(--theme-background, var(--jp-layout-color0, #111)));\n",
       "    --sklearn-color-border-box: var(--sg-text-color, var(--theme-code-foreground, var(--jp-content-font-color1, white)));\n",
       "    --sklearn-color-icon: #878787;\n",
       "  }\n",
       "}\n",
       "\n",
       "#sk-container-id-4 {\n",
       "  color: var(--sklearn-color-text);\n",
       "}\n",
       "\n",
       "#sk-container-id-4 pre {\n",
       "  padding: 0;\n",
       "}\n",
       "\n",
       "#sk-container-id-4 input.sk-hidden--visually {\n",
       "  border: 0;\n",
       "  clip: rect(1px 1px 1px 1px);\n",
       "  clip: rect(1px, 1px, 1px, 1px);\n",
       "  height: 1px;\n",
       "  margin: -1px;\n",
       "  overflow: hidden;\n",
       "  padding: 0;\n",
       "  position: absolute;\n",
       "  width: 1px;\n",
       "}\n",
       "\n",
       "#sk-container-id-4 div.sk-dashed-wrapped {\n",
       "  border: 1px dashed var(--sklearn-color-line);\n",
       "  margin: 0 0.4em 0.5em 0.4em;\n",
       "  box-sizing: border-box;\n",
       "  padding-bottom: 0.4em;\n",
       "  background-color: var(--sklearn-color-background);\n",
       "}\n",
       "\n",
       "#sk-container-id-4 div.sk-container {\n",
       "  /* jupyter's `normalize.less` sets `[hidden] { display: none; }`\n",
       "     but bootstrap.min.css set `[hidden] { display: none !important; }`\n",
       "     so we also need the `!important` here to be able to override the\n",
       "     default hidden behavior on the sphinx rendered scikit-learn.org.\n",
       "     See: https://github.com/scikit-learn/scikit-learn/issues/21755 */\n",
       "  display: inline-block !important;\n",
       "  position: relative;\n",
       "}\n",
       "\n",
       "#sk-container-id-4 div.sk-text-repr-fallback {\n",
       "  display: none;\n",
       "}\n",
       "\n",
       "div.sk-parallel-item,\n",
       "div.sk-serial,\n",
       "div.sk-item {\n",
       "  /* draw centered vertical line to link estimators */\n",
       "  background-image: linear-gradient(var(--sklearn-color-text-on-default-background), var(--sklearn-color-text-on-default-background));\n",
       "  background-size: 2px 100%;\n",
       "  background-repeat: no-repeat;\n",
       "  background-position: center center;\n",
       "}\n",
       "\n",
       "/* Parallel-specific style estimator block */\n",
       "\n",
       "#sk-container-id-4 div.sk-parallel-item::after {\n",
       "  content: \"\";\n",
       "  width: 100%;\n",
       "  border-bottom: 2px solid var(--sklearn-color-text-on-default-background);\n",
       "  flex-grow: 1;\n",
       "}\n",
       "\n",
       "#sk-container-id-4 div.sk-parallel {\n",
       "  display: flex;\n",
       "  align-items: stretch;\n",
       "  justify-content: center;\n",
       "  background-color: var(--sklearn-color-background);\n",
       "  position: relative;\n",
       "}\n",
       "\n",
       "#sk-container-id-4 div.sk-parallel-item {\n",
       "  display: flex;\n",
       "  flex-direction: column;\n",
       "}\n",
       "\n",
       "#sk-container-id-4 div.sk-parallel-item:first-child::after {\n",
       "  align-self: flex-end;\n",
       "  width: 50%;\n",
       "}\n",
       "\n",
       "#sk-container-id-4 div.sk-parallel-item:last-child::after {\n",
       "  align-self: flex-start;\n",
       "  width: 50%;\n",
       "}\n",
       "\n",
       "#sk-container-id-4 div.sk-parallel-item:only-child::after {\n",
       "  width: 0;\n",
       "}\n",
       "\n",
       "/* Serial-specific style estimator block */\n",
       "\n",
       "#sk-container-id-4 div.sk-serial {\n",
       "  display: flex;\n",
       "  flex-direction: column;\n",
       "  align-items: center;\n",
       "  background-color: var(--sklearn-color-background);\n",
       "  padding-right: 1em;\n",
       "  padding-left: 1em;\n",
       "}\n",
       "\n",
       "\n",
       "/* Toggleable style: style used for estimator/Pipeline/ColumnTransformer box that is\n",
       "clickable and can be expanded/collapsed.\n",
       "- Pipeline and ColumnTransformer use this feature and define the default style\n",
       "- Estimators will overwrite some part of the style using the `sk-estimator` class\n",
       "*/\n",
       "\n",
       "/* Pipeline and ColumnTransformer style (default) */\n",
       "\n",
       "#sk-container-id-4 div.sk-toggleable {\n",
       "  /* Default theme specific background. It is overwritten whether we have a\n",
       "  specific estimator or a Pipeline/ColumnTransformer */\n",
       "  background-color: var(--sklearn-color-background);\n",
       "}\n",
       "\n",
       "/* Toggleable label */\n",
       "#sk-container-id-4 label.sk-toggleable__label {\n",
       "  cursor: pointer;\n",
       "  display: flex;\n",
       "  width: 100%;\n",
       "  margin-bottom: 0;\n",
       "  padding: 0.5em;\n",
       "  box-sizing: border-box;\n",
       "  text-align: center;\n",
       "  align-items: start;\n",
       "  justify-content: space-between;\n",
       "  gap: 0.5em;\n",
       "}\n",
       "\n",
       "#sk-container-id-4 label.sk-toggleable__label .caption {\n",
       "  font-size: 0.6rem;\n",
       "  font-weight: lighter;\n",
       "  color: var(--sklearn-color-text-muted);\n",
       "}\n",
       "\n",
       "#sk-container-id-4 label.sk-toggleable__label-arrow:before {\n",
       "  /* Arrow on the left of the label */\n",
       "  content: \"▸\";\n",
       "  float: left;\n",
       "  margin-right: 0.25em;\n",
       "  color: var(--sklearn-color-icon);\n",
       "}\n",
       "\n",
       "#sk-container-id-4 label.sk-toggleable__label-arrow:hover:before {\n",
       "  color: var(--sklearn-color-text);\n",
       "}\n",
       "\n",
       "/* Toggleable content - dropdown */\n",
       "\n",
       "#sk-container-id-4 div.sk-toggleable__content {\n",
       "  max-height: 0;\n",
       "  max-width: 0;\n",
       "  overflow: hidden;\n",
       "  text-align: left;\n",
       "  /* unfitted */\n",
       "  background-color: var(--sklearn-color-unfitted-level-0);\n",
       "}\n",
       "\n",
       "#sk-container-id-4 div.sk-toggleable__content.fitted {\n",
       "  /* fitted */\n",
       "  background-color: var(--sklearn-color-fitted-level-0);\n",
       "}\n",
       "\n",
       "#sk-container-id-4 div.sk-toggleable__content pre {\n",
       "  margin: 0.2em;\n",
       "  border-radius: 0.25em;\n",
       "  color: var(--sklearn-color-text);\n",
       "  /* unfitted */\n",
       "  background-color: var(--sklearn-color-unfitted-level-0);\n",
       "}\n",
       "\n",
       "#sk-container-id-4 div.sk-toggleable__content.fitted pre {\n",
       "  /* unfitted */\n",
       "  background-color: var(--sklearn-color-fitted-level-0);\n",
       "}\n",
       "\n",
       "#sk-container-id-4 input.sk-toggleable__control:checked~div.sk-toggleable__content {\n",
       "  /* Expand drop-down */\n",
       "  max-height: 200px;\n",
       "  max-width: 100%;\n",
       "  overflow: auto;\n",
       "}\n",
       "\n",
       "#sk-container-id-4 input.sk-toggleable__control:checked~label.sk-toggleable__label-arrow:before {\n",
       "  content: \"▾\";\n",
       "}\n",
       "\n",
       "/* Pipeline/ColumnTransformer-specific style */\n",
       "\n",
       "#sk-container-id-4 div.sk-label input.sk-toggleable__control:checked~label.sk-toggleable__label {\n",
       "  color: var(--sklearn-color-text);\n",
       "  background-color: var(--sklearn-color-unfitted-level-2);\n",
       "}\n",
       "\n",
       "#sk-container-id-4 div.sk-label.fitted input.sk-toggleable__control:checked~label.sk-toggleable__label {\n",
       "  background-color: var(--sklearn-color-fitted-level-2);\n",
       "}\n",
       "\n",
       "/* Estimator-specific style */\n",
       "\n",
       "/* Colorize estimator box */\n",
       "#sk-container-id-4 div.sk-estimator input.sk-toggleable__control:checked~label.sk-toggleable__label {\n",
       "  /* unfitted */\n",
       "  background-color: var(--sklearn-color-unfitted-level-2);\n",
       "}\n",
       "\n",
       "#sk-container-id-4 div.sk-estimator.fitted input.sk-toggleable__control:checked~label.sk-toggleable__label {\n",
       "  /* fitted */\n",
       "  background-color: var(--sklearn-color-fitted-level-2);\n",
       "}\n",
       "\n",
       "#sk-container-id-4 div.sk-label label.sk-toggleable__label,\n",
       "#sk-container-id-4 div.sk-label label {\n",
       "  /* The background is the default theme color */\n",
       "  color: var(--sklearn-color-text-on-default-background);\n",
       "}\n",
       "\n",
       "/* On hover, darken the color of the background */\n",
       "#sk-container-id-4 div.sk-label:hover label.sk-toggleable__label {\n",
       "  color: var(--sklearn-color-text);\n",
       "  background-color: var(--sklearn-color-unfitted-level-2);\n",
       "}\n",
       "\n",
       "/* Label box, darken color on hover, fitted */\n",
       "#sk-container-id-4 div.sk-label.fitted:hover label.sk-toggleable__label.fitted {\n",
       "  color: var(--sklearn-color-text);\n",
       "  background-color: var(--sklearn-color-fitted-level-2);\n",
       "}\n",
       "\n",
       "/* Estimator label */\n",
       "\n",
       "#sk-container-id-4 div.sk-label label {\n",
       "  font-family: monospace;\n",
       "  font-weight: bold;\n",
       "  display: inline-block;\n",
       "  line-height: 1.2em;\n",
       "}\n",
       "\n",
       "#sk-container-id-4 div.sk-label-container {\n",
       "  text-align: center;\n",
       "}\n",
       "\n",
       "/* Estimator-specific */\n",
       "#sk-container-id-4 div.sk-estimator {\n",
       "  font-family: monospace;\n",
       "  border: 1px dotted var(--sklearn-color-border-box);\n",
       "  border-radius: 0.25em;\n",
       "  box-sizing: border-box;\n",
       "  margin-bottom: 0.5em;\n",
       "  /* unfitted */\n",
       "  background-color: var(--sklearn-color-unfitted-level-0);\n",
       "}\n",
       "\n",
       "#sk-container-id-4 div.sk-estimator.fitted {\n",
       "  /* fitted */\n",
       "  background-color: var(--sklearn-color-fitted-level-0);\n",
       "}\n",
       "\n",
       "/* on hover */\n",
       "#sk-container-id-4 div.sk-estimator:hover {\n",
       "  /* unfitted */\n",
       "  background-color: var(--sklearn-color-unfitted-level-2);\n",
       "}\n",
       "\n",
       "#sk-container-id-4 div.sk-estimator.fitted:hover {\n",
       "  /* fitted */\n",
       "  background-color: var(--sklearn-color-fitted-level-2);\n",
       "}\n",
       "\n",
       "/* Specification for estimator info (e.g. \"i\" and \"?\") */\n",
       "\n",
       "/* Common style for \"i\" and \"?\" */\n",
       "\n",
       ".sk-estimator-doc-link,\n",
       "a:link.sk-estimator-doc-link,\n",
       "a:visited.sk-estimator-doc-link {\n",
       "  float: right;\n",
       "  font-size: smaller;\n",
       "  line-height: 1em;\n",
       "  font-family: monospace;\n",
       "  background-color: var(--sklearn-color-background);\n",
       "  border-radius: 1em;\n",
       "  height: 1em;\n",
       "  width: 1em;\n",
       "  text-decoration: none !important;\n",
       "  margin-left: 0.5em;\n",
       "  text-align: center;\n",
       "  /* unfitted */\n",
       "  border: var(--sklearn-color-unfitted-level-1) 1pt solid;\n",
       "  color: var(--sklearn-color-unfitted-level-1);\n",
       "}\n",
       "\n",
       ".sk-estimator-doc-link.fitted,\n",
       "a:link.sk-estimator-doc-link.fitted,\n",
       "a:visited.sk-estimator-doc-link.fitted {\n",
       "  /* fitted */\n",
       "  border: var(--sklearn-color-fitted-level-1) 1pt solid;\n",
       "  color: var(--sklearn-color-fitted-level-1);\n",
       "}\n",
       "\n",
       "/* On hover */\n",
       "div.sk-estimator:hover .sk-estimator-doc-link:hover,\n",
       ".sk-estimator-doc-link:hover,\n",
       "div.sk-label-container:hover .sk-estimator-doc-link:hover,\n",
       ".sk-estimator-doc-link:hover {\n",
       "  /* unfitted */\n",
       "  background-color: var(--sklearn-color-unfitted-level-3);\n",
       "  color: var(--sklearn-color-background);\n",
       "  text-decoration: none;\n",
       "}\n",
       "\n",
       "div.sk-estimator.fitted:hover .sk-estimator-doc-link.fitted:hover,\n",
       ".sk-estimator-doc-link.fitted:hover,\n",
       "div.sk-label-container:hover .sk-estimator-doc-link.fitted:hover,\n",
       ".sk-estimator-doc-link.fitted:hover {\n",
       "  /* fitted */\n",
       "  background-color: var(--sklearn-color-fitted-level-3);\n",
       "  color: var(--sklearn-color-background);\n",
       "  text-decoration: none;\n",
       "}\n",
       "\n",
       "/* Span, style for the box shown on hovering the info icon */\n",
       ".sk-estimator-doc-link span {\n",
       "  display: none;\n",
       "  z-index: 9999;\n",
       "  position: relative;\n",
       "  font-weight: normal;\n",
       "  right: .2ex;\n",
       "  padding: .5ex;\n",
       "  margin: .5ex;\n",
       "  width: min-content;\n",
       "  min-width: 20ex;\n",
       "  max-width: 50ex;\n",
       "  color: var(--sklearn-color-text);\n",
       "  box-shadow: 2pt 2pt 4pt #999;\n",
       "  /* unfitted */\n",
       "  background: var(--sklearn-color-unfitted-level-0);\n",
       "  border: .5pt solid var(--sklearn-color-unfitted-level-3);\n",
       "}\n",
       "\n",
       ".sk-estimator-doc-link.fitted span {\n",
       "  /* fitted */\n",
       "  background: var(--sklearn-color-fitted-level-0);\n",
       "  border: var(--sklearn-color-fitted-level-3);\n",
       "}\n",
       "\n",
       ".sk-estimator-doc-link:hover span {\n",
       "  display: block;\n",
       "}\n",
       "\n",
       "/* \"?\"-specific style due to the `<a>` HTML tag */\n",
       "\n",
       "#sk-container-id-4 a.estimator_doc_link {\n",
       "  float: right;\n",
       "  font-size: 1rem;\n",
       "  line-height: 1em;\n",
       "  font-family: monospace;\n",
       "  background-color: var(--sklearn-color-background);\n",
       "  border-radius: 1rem;\n",
       "  height: 1rem;\n",
       "  width: 1rem;\n",
       "  text-decoration: none;\n",
       "  /* unfitted */\n",
       "  color: var(--sklearn-color-unfitted-level-1);\n",
       "  border: var(--sklearn-color-unfitted-level-1) 1pt solid;\n",
       "}\n",
       "\n",
       "#sk-container-id-4 a.estimator_doc_link.fitted {\n",
       "  /* fitted */\n",
       "  border: var(--sklearn-color-fitted-level-1) 1pt solid;\n",
       "  color: var(--sklearn-color-fitted-level-1);\n",
       "}\n",
       "\n",
       "/* On hover */\n",
       "#sk-container-id-4 a.estimator_doc_link:hover {\n",
       "  /* unfitted */\n",
       "  background-color: var(--sklearn-color-unfitted-level-3);\n",
       "  color: var(--sklearn-color-background);\n",
       "  text-decoration: none;\n",
       "}\n",
       "\n",
       "#sk-container-id-4 a.estimator_doc_link.fitted:hover {\n",
       "  /* fitted */\n",
       "  background-color: var(--sklearn-color-fitted-level-3);\n",
       "}\n",
       "</style><div id=\"sk-container-id-4\" class=\"sk-top-container\"><div class=\"sk-text-repr-fallback\"><pre>LinearRegression()</pre><b>In a Jupyter environment, please rerun this cell to show the HTML representation or trust the notebook. <br />On GitHub, the HTML representation is unable to render, please try loading this page with nbviewer.org.</b></div><div class=\"sk-container\" hidden><div class=\"sk-item\"><div class=\"sk-estimator fitted sk-toggleable\"><input class=\"sk-toggleable__control sk-hidden--visually\" id=\"sk-estimator-id-6\" type=\"checkbox\" checked><label for=\"sk-estimator-id-6\" class=\"sk-toggleable__label fitted sk-toggleable__label-arrow\"><div><div>LinearRegression</div></div><div><a class=\"sk-estimator-doc-link fitted\" rel=\"noreferrer\" target=\"_blank\" href=\"https://scikit-learn.org/1.6/modules/generated/sklearn.linear_model.LinearRegression.html\">?<span>Documentation for LinearRegression</span></a><span class=\"sk-estimator-doc-link fitted\">i<span>Fitted</span></span></div></label><div class=\"sk-toggleable__content fitted\"><pre>LinearRegression()</pre></div> </div></div></div></div>"
      ]
     },
     "execution_count": 120,
     "metadata": {},
     "output_type": "execute_result"
    }
   ],
   "execution_count": 120
  },
  {
   "metadata": {},
   "cell_type": "markdown",
   "source": "### predict and measure the errors",
   "id": "b69acaefdb5f69ca"
  },
  {
   "metadata": {
    "ExecuteTime": {
     "end_time": "2025-05-24T03:18:29.942862Z",
     "start_time": "2025-05-24T03:18:29.938774Z"
    }
   },
   "cell_type": "code",
   "source": [
    "import numpy as np\n",
    "\n",
    "pred = lin_reg.predict(X_test)\n",
    "\n",
    "mse = np.sqrt(mean_squared_error(y_test,pred))\n",
    "print(f'Mean error: {mse:3.3} ({mse/np.mean(pred)*100:3.3}%)')"
   ],
   "id": "9d1556800b755a0b",
   "outputs": [
    {
     "name": "stdout",
     "output_type": "stream",
     "text": [
      "Mean error: 2.76 (17.3%)\n"
     ]
    }
   ],
   "execution_count": 121
  },
  {
   "metadata": {},
   "cell_type": "markdown",
   "source": "### indicator of model quality with the coefficient of determination",
   "id": "f72d9676f1605a96"
  },
  {
   "metadata": {
    "ExecuteTime": {
     "end_time": "2025-05-24T03:18:29.974010Z",
     "start_time": "2025-05-24T03:18:29.970346Z"
    }
   },
   "cell_type": "code",
   "source": [
    "score = lin_reg.score(X_train,y_train)\n",
    "print('Model determination: ', score)"
   ],
   "id": "390fb4960ace6203",
   "outputs": [
    {
     "name": "stdout",
     "output_type": "stream",
     "text": [
      "Model determination:  0.04499342423558461\n"
     ]
    }
   ],
   "execution_count": 122
  },
  {
   "metadata": {},
   "cell_type": "markdown",
   "source": "###  plot the test data together with the regression line",
   "id": "6e057017c8db0d8c"
  },
  {
   "metadata": {
    "ExecuteTime": {
     "end_time": "2025-05-24T03:18:30.066539Z",
     "start_time": "2025-05-24T03:18:29.995790Z"
    }
   },
   "cell_type": "code",
   "source": [
    "plt.scatter(X_test,y_test)\n",
    "plt.plot(X_test,pred)"
   ],
   "id": "b14741beb3784251",
   "outputs": [
    {
     "data": {
      "text/plain": [
       "[<matplotlib.lines.Line2D at 0x2ab4440e0d0>]"
      ]
     },
     "execution_count": 123,
     "metadata": {},
     "output_type": "execute_result"
    },
    {
     "data": {
      "text/plain": [
       "<Figure size 640x480 with 1 Axes>"
      ],
      "image/png": "[encoded data removed]"
     },
     "metadata": {},
     "output_type": "display_data"
    }
   ],
   "execution_count": 123
  },
  {
   "metadata": {},
   "cell_type": "markdown",
   "source": "## Polynomial Regression",
   "id": "77075a0a845bbcfa"
  },
  {
   "metadata": {},
   "cell_type": "markdown",
   "source": "### create a pipeline, adds polynomial features, then trains the regression",
   "id": "6bb300d2f22590dc"
  },
  {
   "metadata": {
    "ExecuteTime": {
     "end_time": "2025-05-24T03:18:30.150194Z",
     "start_time": "2025-05-24T03:18:30.082801Z"
    }
   },
   "cell_type": "code",
   "source": [
    "from sklearn.preprocessing import PolynomialFeatures\n",
    "from sklearn.pipeline import make_pipeline\n",
    "\n",
    "# A pipeline is a chain of estimators.\n",
    "pipeline = make_pipeline(PolynomialFeatures(2), LinearRegression())\n",
    "\n",
    "pipeline.fit(X_train,y_train)\n",
    "pipeline_pred = pipeline.predict(X_test)\n",
    "\n",
    "plt.scatter(X_test,y_test)\n",
    "plt.plot(X_test,pipeline_pred)"
   ],
   "id": "b0790b797c03f074",
   "outputs": [
    {
     "data": {
      "text/plain": [
       "[<matplotlib.lines.Line2D at 0x2ab444539d0>]"
      ]
     },
     "execution_count": 124,
     "metadata": {},
     "output_type": "execute_result"
    },
    {
     "data": {
      "text/plain": [
       "<Figure size 640x480 with 1 Axes>"
      ],
      "image/png": "[encoded data removed]"
     },
     "metadata": {},
     "output_type": "display_data"
    }
   ],
   "execution_count": 124
  },
  {
   "metadata": {},
   "cell_type": "markdown",
   "source": "## Categorical Features",
   "id": "5c9e6d78c055773e"
  },
  {
   "metadata": {},
   "cell_type": "markdown",
   "source": [
    "### convert non-numeric values to numeric form, or encode it\n",
    "#### Simple numeric encoding\n",
    "will build a table of different varieties, and then replace the variety name by an index in that table.\n",
    "#### One-hot encoding\n",
    " will replace the Variety column by 4 different columns, one for each variety. Each column will contain 1 if the corresponding row is of a given variety, and 0 otherwise"
   ],
   "id": "723daa51e1c8985d"
  },
  {
   "metadata": {},
   "cell_type": "markdown",
   "source": "### To train linear regression using one-hot encoded",
   "id": "a4cb8b0bbfe5fa97"
  },
  {
   "metadata": {
    "ExecuteTime": {
     "end_time": "2025-05-24T03:18:30.183Z",
     "start_time": "2025-05-24T03:18:30.171650Z"
    }
   },
   "cell_type": "code",
   "source": [
    "X = pd.get_dummies(new_pumpkins['Variety'])\n",
    "y = new_pumpkins['Price']\n",
    "print(X)\n",
    "\n",
    "# The rest of the code is the same as what we used above to train Linear Regression\n",
    "X_train, X_test, y_train, y_test = train_test_split(X, y, test_size=0.2, random_state=0)\n",
    "\n",
    "lin_reg = LinearRegression()\n",
    "lin_reg.fit(X_train,y_train)\n",
    "\n",
    "pred = lin_reg.predict(X_test)\n",
    "\n",
    "mse = np.sqrt(mean_squared_error(y_test,pred))\n",
    "print(f'Mean error: {mse:3.3} ({mse/np.mean(pred)*100:3.3}%)')\n",
    "\n",
    "score = lin_reg.score(X_train,y_train)\n",
    "print('Model determination: ', score)\n",
    "\n",
    "# plt.scatter(X_test,y_test)\n",
    "# plt.plot(X_test,pred)\n"
   ],
   "id": "c2155124a86f2e8",
   "outputs": [
    {
     "name": "stdout",
     "output_type": "stream",
     "text": [
      "      FAIRYTALE  MINIATURE  MIXED HEIRLOOM VARIETIES  PIE TYPE\n",
      "70        False      False                     False      True\n",
      "71        False      False                     False      True\n",
      "72        False      False                     False      True\n",
      "73        False      False                     False      True\n",
      "74        False      False                     False      True\n",
      "...         ...        ...                       ...       ...\n",
      "1738      False       True                     False     False\n",
      "1739      False       True                     False     False\n",
      "1740      False       True                     False     False\n",
      "1741      False       True                     False     False\n",
      "1742      False       True                     False     False\n",
      "\n",
      "[415 rows x 4 columns]\n",
      "Mean error: 5.26 (19.8%)\n",
      "Model determination:  0.7757064548947359\n"
     ]
    }
   ],
   "execution_count": 125
  },
  {
   "metadata": {},
   "cell_type": "markdown",
   "source": "###  take more categorical features into account To get even more accurate predictions",
   "id": "e3a504f46909d28f"
  },
  {
   "metadata": {
    "ExecuteTime": {
     "end_time": "2025-05-24T03:18:57.580475Z",
     "start_time": "2025-05-24T03:18:57.568981Z"
    }
   },
   "cell_type": "code",
   "source": [
    "X = pd.get_dummies(new_pumpkins['Variety']) \\\n",
    "    .join(new_pumpkins['Month']) \\\n",
    "    .join(pd.get_dummies(new_pumpkins['City Name'])) \\\n",
    "    .join(pd.get_dummies(new_pumpkins['Package']))\n",
    "y = new_pumpkins['Price']\n",
    "\n",
    "# The rest of the code is the same as what we used above to train Linear Regression\n",
    "X_train, X_test, y_train, y_test = train_test_split(X, y, test_size=0.2, random_state=0)\n",
    "\n",
    "lin_reg = LinearRegression()\n",
    "lin_reg.fit(X_train,y_train)\n",
    "\n",
    "pred = lin_reg.predict(X_test)\n",
    "\n",
    "mse = np.sqrt(mean_squared_error(y_test,pred))\n",
    "print(f'Mean error: {mse:3.3} ({mse/np.mean(pred)*100:3.3}%)')\n",
    "\n",
    "score = lin_reg.score(X_train,y_train)\n",
    "print('Model determination: ', score)"
   ],
   "id": "74345c10e9f1d2e4",
   "outputs": [
    {
     "name": "stdout",
     "output_type": "stream",
     "text": [
      "Mean error: 2.84 (10.6%)\n",
      "Model determination:  0.9410368992108207\n"
     ]
    }
   ],
   "execution_count": 127
  },
  {
   "metadata": {},
   "cell_type": "markdown",
   "source": "### take more categorical features to train polynomial regression model",
   "id": "acd12a8e4d1afdd9"
  },
  {
   "metadata": {
    "ExecuteTime": {
     "end_time": "2025-05-24T03:22:23.699441Z",
     "start_time": "2025-05-24T03:22:23.666292Z"
    }
   },
   "cell_type": "code",
   "source": [
    "# set up training data\n",
    "X = pd.get_dummies(new_pumpkins['Variety']) \\\n",
    "    .join(new_pumpkins['Month']) \\\n",
    "    .join(pd.get_dummies(new_pumpkins['City Name'])) \\\n",
    "    .join(pd.get_dummies(new_pumpkins['Package']))\n",
    "y = new_pumpkins['Price']\n",
    "\n",
    "# make train-test split\n",
    "X_train, X_test, y_train, y_test = train_test_split(X, y, test_size=0.2, random_state=0)\n",
    "\n",
    "# setup and train the pipeline\n",
    "pipeline = make_pipeline(PolynomialFeatures(2), LinearRegression())\n",
    "pipeline.fit(X_train,y_train)\n",
    "\n",
    "# predict results for test data\n",
    "pred = pipeline.predict(X_test)\n",
    "\n",
    "# calculate MSE and determination\n",
    "mse = np.sqrt(mean_squared_error(y_test,pred))\n",
    "print(f'Mean error: {mse:3.3} ({mse/np.mean(pred)*100:3.3}%)')\n",
    "\n",
    "score = pipeline.score(X_train,y_train)\n",
    "print('Model determination: ', score)"
   ],
   "id": "d026f23964425f58",
   "outputs": [
    {
     "name": "stdout",
     "output_type": "stream",
     "text": [
      "Mean error: 2.23 (8.28%)\n",
      "Model determination:  0.9658747228525119\n"
     ]
    }
   ],
   "execution_count": 130
  }
 ],
 "metadata": {
  "kernelspec": {
   "display_name": "Python 3",
   "language": "python",
   "name": "python3"
  },
  "language_info": {
   "codemirror_mode": {
    "name": "ipython",
    "version": 2
   },
   "file_extension": ".py",
   "mimetype": "text/x-python",
   "name": "python",
   "nbconvert_exporter": "python",
   "pygments_lexer": "ipython2",
   "version": "2.7.6"
  }
 },
 "nbformat": 4,
 "nbformat_minor": 5
}
