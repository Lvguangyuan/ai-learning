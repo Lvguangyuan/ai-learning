{
 "cells": [
  {
   "cell_type": "code",
   "id": "initial_id",
   "metadata": {
    "collapsed": true,
    "ExecuteTime": {
     "end_time": "2025-07-09T02:24:21.147671Z",
     "start_time": "2025-07-09T02:24:20.013952Z"
    }
   },
   "source": [
    "import pylab\n",
    "import numpy as np\n",
    "from ipywidgets import interact\n",
    "import ipywidgets as widgets\n",
    "import pickle\n",
    "import gzip\n",
    "\n",
    "# pick the seed for reproducability - change it to explore the effects of random variations\n",
    "np.random.seed(1)\n",
    "import random"
   ],
   "outputs": [],
   "execution_count": 1
  },
  {
   "metadata": {
    "ExecuteTime": {
     "end_time": "2025-07-09T02:24:21.913810Z",
     "start_time": "2025-07-09T02:24:21.435607Z"
    }
   },
   "cell_type": "code",
   "source": [
    "\n",
    "with gzip.open(\"../mnist.pkl.gz\", \"rb\") as f:\n",
    "    MNIST = pickle.load(f, encoding=\"latin1\")  # or encoding=\"bytes\"\n",
    "\n",
    "# unpack once\n",
    "(train_set, valid_set, test_set) = MNIST\n",
    "\n",
    "# rebuild the structure the notebook assumes\n",
    "MNIST = {\n",
    "    \"Train\": {\n",
    "        \"Features\": train_set[0],\n",
    "        \"Labels\": train_set[1],\n",
    "    },\n",
    "    \"Validation\": {\n",
    "        \"Features\": valid_set[0],\n",
    "        \"Labels\": valid_set[1],\n",
    "    },\n",
    "    \"Test\": {\n",
    "        \"Features\": test_set[0],\n",
    "        \"Labels\": test_set[1],\n",
    "    },\n",
    "}"
   ],
   "id": "6ab6788b96d4b686",
   "outputs": [],
   "execution_count": 2
  },
  {
   "metadata": {
    "ExecuteTime": {
     "end_time": "2025-07-09T02:24:21.921533Z",
     "start_time": "2025-07-09T02:24:21.917054Z"
    }
   },
   "cell_type": "code",
   "source": [
    "def set_mnist_pos_neg(positive_label, negative_label):\n",
    "    positive_indices = [i for i, j in enumerate(MNIST['Train']['Labels'])\n",
    "                        if j == positive_label]\n",
    "    negative_indices = [i for i, j in enumerate(MNIST['Train']['Labels'])\n",
    "                        if j == negative_label]\n",
    "\n",
    "    positive_images = MNIST['Train']['Features'][positive_indices]\n",
    "    negative_images = MNIST['Train']['Features'][negative_indices]\n",
    "\n",
    "    fig = pylab.figure()\n",
    "    ax = fig.add_subplot(1, 2, 1)\n",
    "    pylab.imshow(positive_images[0].reshape(28, 28), cmap='gray', interpolation='nearest')\n",
    "    ax.set_xticks([])\n",
    "    ax.set_yticks([])\n",
    "    ax = fig.add_subplot(1, 2, 2)\n",
    "    pylab.imshow(negative_images[0].reshape(28, 28), cmap='gray', interpolation='nearest')\n",
    "    ax.set_xticks([])\n",
    "    ax.set_yticks([])\n",
    "    pylab.show()\n",
    "\n",
    "    return positive_images, negative_images"
   ],
   "id": "f79e4a3769ac19f8",
   "outputs": [],
   "execution_count": 3
  },
  {
   "metadata": {
    "ExecuteTime": {
     "end_time": "2025-07-09T02:24:21.943755Z",
     "start_time": "2025-07-09T02:24:21.939950Z"
    }
   },
   "cell_type": "code",
   "source": [
    "def train_graph(weights, positive_examples, negative_examples, num_iterations=100):\n",
    "    if len(weights) == 0:\n",
    "        num_dims = positive_examples.shape[1]\n",
    "        weights = np.zeros((num_dims, 1))  # initialize weights\n",
    "\n",
    "    pos_count = positive_examples.shape[0]\n",
    "    neg_count = negative_examples.shape[0]\n",
    "\n",
    "    report_frequency = 15\n",
    "\n",
    "    for i in range(num_iterations):\n",
    "        pos = random.choice(positive_examples)\n",
    "        neg = random.choice(negative_examples)\n",
    "\n",
    "        z = np.dot(pos, weights)\n",
    "        if z < 0:\n",
    "            weights = weights + pos.reshape(weights.shape)\n",
    "\n",
    "        z = np.dot(neg, weights)\n",
    "        if z >= 0:\n",
    "            weights = weights - neg.reshape(weights.shape)\n",
    "\n",
    "        if i % report_frequency == 0:\n",
    "            pos_out = np.dot(positive_examples, weights)\n",
    "            neg_out = np.dot(negative_examples, weights)\n",
    "            pos_correct = (pos_out >= 0).sum() / float(pos_count)\n",
    "            neg_correct = (neg_out < 0).sum() / float(neg_count)\n",
    "            # print(\"Iteration={}, pos correct={}, neg correct={}\".format(i,pos_correct,neg_correct))\n",
    "\n",
    "    return weights"
   ],
   "id": "bbe398c7d6384ded",
   "outputs": [],
   "execution_count": 4
  },
  {
   "metadata": {},
   "cell_type": "code",
   "source": [
    "cal_weights = []\n",
    "for i in range(10):\n",
    "    cal_weight = []\n",
    "    pos_digit = i\n",
    "    neg_digit = 0\n",
    "    while True:\n",
    "        if neg_digit == pos_digit:\n",
    "            print('Skipping current digit:', neg_digit, ', because it equals pos_digit', pos_digit)\n",
    "            neg_digit += 1\n",
    "            continue\n",
    "        if neg_digit > 9:\n",
    "            break\n",
    "        pos_img, neg_img = set_mnist_pos_neg(pos_digit, neg_digit)\n",
    "        cal_weight = train_graph(cal_weight, pos_img, neg_img, 1000)\n",
    "        neg_digit += 1\n",
    "    cal_weights.append(cal_weight)"
   ],
   "id": "10e72b191eb32dfa",
   "outputs": [],
   "execution_count": null
  },
  {
   "metadata": {
    "ExecuteTime": {
     "end_time": "2025-07-09T02:31:46.933538Z",
     "start_time": "2025-07-09T02:31:46.930240Z"
    }
   },
   "cell_type": "code",
   "source": [
    "# Function to get a random test data point\n",
    "def random_get_test_data():\n",
    "    random_index = random.randint(0, len(MNIST['Test']['Features']) - 1)\n",
    "    return MNIST['Test']['Features'][random_index], MNIST['Test']['Labels'][random_index]"
   ],
   "id": "daeaf3a0cf1d8b7",
   "outputs": [],
   "execution_count": 7
  },
  {
   "metadata": {
    "ExecuteTime": {
     "end_time": "2025-07-09T02:32:26.616572Z",
     "start_time": "2025-07-09T02:32:26.612533Z"
    }
   },
   "cell_type": "code",
   "source": [
    "# show_image function to display an image with its label\n",
    "def show_image(image, label):\n",
    "    fig = pylab.figure(figsize=(2, 2))\n",
    "    ax = fig.add_subplot(1, 1, 1)\n",
    "    pylab.imshow(image.reshape(28, 28), cmap='gray', interpolation='nearest')\n",
    "    ax.set_title('Image is: ' + str(label))\n",
    "    ax.set_xticks([])\n",
    "    ax.set_yticks([])\n",
    "    pylab.show()"
   ],
   "id": "a523f9f8c57964f5",
   "outputs": [],
   "execution_count": 8
  },
  {
   "metadata": {
    "ExecuteTime": {
     "end_time": "2025-07-09T02:32:37.716971Z",
     "start_time": "2025-07-09T02:32:37.682312Z"
    }
   },
   "cell_type": "code",
   "source": [
    "np_cal_weights = np.array(cal_weights).transpose()\n",
    "print(np_cal_weights.shape)\n",
    "test_image, test_label = random_get_test_data()\n",
    "np_test_image = np.reshape(test_image, (1, 784))\n",
    "print(np_test_image.shape)\n",
    "z = np.dot(np_test_image, np_cal_weights)\n",
    "print(z)\n",
    "predicted_label = np.argmax(z)\n",
    "show_image(test_image, test_label)\n",
    "print(\"Predicted label: \", predicted_label)\n",
    "print('Actual Label: ', test_label)"
   ],
   "id": "a02e202547bcd3cc",
   "outputs": [
    {
     "name": "stdout",
     "output_type": "stream",
     "text": [
      "(1, 784, 10)\n",
      "(1, 784)\n",
      "[[[ -96.65924072 -119.85726929  108.97398376  -12.61653137   72.71076965\n",
      "     91.82540894  366.55630493 -263.73834229 -127.2947998   -36.83976746]]]\n"
     ]
    },
    {
     "data": {
      "text/plain": [
       "<Figure size 200x200 with 1 Axes>"
      ],
      "image/png": "[encoded data removed]"
     },
     "metadata": {},
     "output_type": "display_data"
    },
    {
     "name": "stdout",
     "output_type": "stream",
     "text": [
      "Predicted label:  6\n",
      "Actual Label:  6\n"
     ]
    }
   ],
   "execution_count": 18
  },
  {
   "metadata": {
    "ExecuteTime": {
     "end_time": "2025-07-09T02:32:59.435851Z",
     "start_time": "2025-07-09T02:32:59.424005Z"
    }
   },
   "cell_type": "code",
   "source": [
    "np_cal_weights = np.array(cal_weights).transpose()\n",
    "incorrect_count = 0\n",
    "incorrect_images = []\n",
    "for i in range(1000):\n",
    "    test_image, test_label = random_get_test_data()\n",
    "    np_test_image = np.reshape(test_image, (1, 784))\n",
    "    z = np.dot(np_test_image, np_cal_weights)\n",
    "    predicted_label = np.argmax(z)\n",
    "    if predicted_label != test_label:\n",
    "        incorrect_count += 1\n",
    "        incorrect_images.append([test_image, test_label])\n",
    "print(\"Test 1000 times. The accuracy is: \", 1 - (incorrect_count / 1000))"
   ],
   "id": "1f8ce5d553f1ba42",
   "outputs": [
    {
     "name": "stdout",
     "output_type": "stream",
     "text": [
      "Test 1000 times. The accuracy is:  0.5920000000000001\n"
     ]
    }
   ],
   "execution_count": 20
  },
  {
   "metadata": {},
   "cell_type": "markdown",
   "source": "### AI answer",
   "id": "aa3b865067216112"
  },
  {
   "metadata": {
    "ExecuteTime": {
     "end_time": "2025-07-09T03:17:26.937199Z",
     "start_time": "2025-07-09T03:17:25.601411Z"
    }
   },
   "cell_type": "code",
   "source": [
    "import numpy as np\n",
    "np.random.seed(1)                       # reproducibility\n",
    "\n",
    "# 1.  Prepare data -----------------------------------------------------------\n",
    "X_train = MNIST['Train']['Features']     # (50 k, 784)\n",
    "y_train = MNIST['Train']['Labels']       # (50 k,)\n",
    "X_test  = MNIST['Test']['Features']\n",
    "y_test  = MNIST['Test']['Labels']\n",
    "\n",
    "# add bias and centre pixel values at 0\n",
    "def add_bias_and_center(X):\n",
    "    Xc = X.astype(np.float32) - 0.5      # centre\n",
    "    return np.hstack([Xc, np.ones((Xc.shape[0], 1), dtype=np.float32)])\n",
    "\n",
    "X_train_b = add_bias_and_center(X_train) # (50 k, 785)\n",
    "X_test_b  = add_bias_and_center(X_test)\n",
    "\n",
    "# 2.  Multi-class perceptron -------------------------------------------------\n",
    "def train_perceptron(X, y, n_classes=10, n_epochs=10, lr=1.0):\n",
    "    W = np.zeros((n_classes, X.shape[1]), dtype=np.float32)   # (10, 785)\n",
    "    for epoch in range(n_epochs):\n",
    "        idx = np.random.permutation(len(X))                   # shuffle\n",
    "        for i in idx:\n",
    "            xi = X[i]\n",
    "            yi = y[i]\n",
    "            scores = W @ xi\n",
    "            y_pred = scores.argmax()\n",
    "            if y_pred != yi:                                  # perceptron update\n",
    "                W[yi] += lr * xi\n",
    "                W[y_pred] -= lr * xi\n",
    "    return W\n",
    "\n",
    "def predict(W, X):\n",
    "    return (X @ W.T).argmax(axis=1)\n",
    "\n",
    "W = train_perceptron(X_train_b, y_train, n_epochs=10, lr=1.0)\n",
    "\n",
    "# 3.  Evaluate ---------------------------------------------------------------\n",
    "y_pred = predict(W, X_test_b)\n",
    "acc = (y_pred == y_test).mean()\n",
    "print(f\"Test accuracy = {acc*100:.2f}%\")\n"
   ],
   "id": "824d192652294b22",
   "outputs": [
    {
     "name": "stdout",
     "output_type": "stream",
     "text": [
      "Test accuracy = 89.52%\n"
     ]
    }
   ],
   "execution_count": 29
  },
  {
   "metadata": {
    "ExecuteTime": {
     "end_time": "2025-07-09T03:21:47.989040Z",
     "start_time": "2025-07-09T03:21:47.986062Z"
    }
   },
   "cell_type": "code",
   "source": [
    "def add_bias_and_center_for_one(X):\n",
    "    Xc = X.astype(np.float32) - 0.5      # centre\n",
    "    return np.hstack([Xc, 1])\n"
   ],
   "id": "95e8944d45c1d29f",
   "outputs": [],
   "execution_count": 33
  },
  {
   "metadata": {
    "ExecuteTime": {
     "end_time": "2025-07-09T03:19:13.288325Z",
     "start_time": "2025-07-09T03:19:13.281611Z"
    }
   },
   "cell_type": "code",
   "source": "np.ones((10, 1), dtype=np.float32)",
   "id": "79cb4140a9b62a18",
   "outputs": [
    {
     "data": {
      "text/plain": [
       "array([[1.],\n",
       "       [1.],\n",
       "       [1.],\n",
       "       [1.],\n",
       "       [1.],\n",
       "       [1.],\n",
       "       [1.],\n",
       "       [1.],\n",
       "       [1.],\n",
       "       [1.]], dtype=float32)"
      ]
     },
     "execution_count": 32,
     "metadata": {},
     "output_type": "execute_result"
    }
   ],
   "execution_count": 32
  },
  {
   "metadata": {
    "ExecuteTime": {
     "end_time": "2025-07-09T03:24:40.387535Z",
     "start_time": "2025-07-09T03:24:40.365095Z"
    }
   },
   "cell_type": "code",
   "source": [
    "test_image, test_label = random_get_test_data()\n",
    "test_image_bias = add_bias_and_center_for_one(test_image)\n",
    "print(test_image_bias.shape)\n",
    "print(test_image_bias.reshape(test_image_bias.shape[0], 1).shape.transpose())\n",
    "print(test_image.shape[0])"
   ],
   "id": "3cfce74ddba1acf",
   "outputs": [
    {
     "name": "stdout",
     "output_type": "stream",
     "text": [
      "(785,)\n"
     ]
    },
    {
     "ename": "AttributeError",
     "evalue": "'tuple' object has no attribute 'transpose'",
     "output_type": "error",
     "traceback": [
      "\u001B[31m---------------------------------------------------------------------------\u001B[39m",
      "\u001B[31mAttributeError\u001B[39m                            Traceback (most recent call last)",
      "\u001B[36mCell\u001B[39m\u001B[36m \u001B[39m\u001B[32mIn[41]\u001B[39m\u001B[32m, line 4\u001B[39m\n\u001B[32m      2\u001B[39m test_image_bias = add_bias_and_center_for_one(test_image)\n\u001B[32m      3\u001B[39m \u001B[38;5;28mprint\u001B[39m(test_image_bias.shape)\n\u001B[32m----> \u001B[39m\u001B[32m4\u001B[39m \u001B[38;5;28mprint\u001B[39m(\u001B[43mtest_image_bias\u001B[49m\u001B[43m.\u001B[49m\u001B[43mreshape\u001B[49m\u001B[43m(\u001B[49m\u001B[43mtest_image_bias\u001B[49m\u001B[43m.\u001B[49m\u001B[43mshape\u001B[49m\u001B[43m[\u001B[49m\u001B[32;43m0\u001B[39;49m\u001B[43m]\u001B[49m\u001B[43m,\u001B[49m\u001B[43m \u001B[49m\u001B[32;43m1\u001B[39;49m\u001B[43m)\u001B[49m\u001B[43m.\u001B[49m\u001B[43mshape\u001B[49m\u001B[43m.\u001B[49m\u001B[43mtranspose\u001B[49m())\n\u001B[32m      5\u001B[39m \u001B[38;5;28mprint\u001B[39m(test_image.shape[\u001B[32m0\u001B[39m])\n",
      "\u001B[31mAttributeError\u001B[39m: 'tuple' object has no attribute 'transpose'"
     ]
    }
   ],
   "execution_count": 41
  },
  {
   "metadata": {
    "ExecuteTime": {
     "end_time": "2025-07-09T03:25:06.363616Z",
     "start_time": "2025-07-09T03:25:06.341980Z"
    }
   },
   "cell_type": "code",
   "source": [
    "incorrect_count = 0\n",
    "incorrect_images = []\n",
    "for i in range(1000):\n",
    "    test_image, test_label = random_get_test_data()\n",
    "    test_image_bias = add_bias_and_center_for_one(test_image)\n",
    "    test_image_bias.reshape(test_image_bias.shape[0], 1)\n",
    "    predicted_label = np.argmax(test_image_bias)\n",
    "    # np_test_image = np.reshape(test_image, (1, 784))\n",
    "    z = np.dot(W, test_image_bias)\n",
    "    predicted_label = np.argmax(z)\n",
    "    if predicted_label != test_label:\n",
    "        incorrect_count += 1\n",
    "        incorrect_images.append([test_image, test_label])\n",
    "print(\"Test 1000 times. The accuracy is: \", 1 - (incorrect_count / 1000))"
   ],
   "id": "e13fa98c8865f631",
   "outputs": [
    {
     "name": "stdout",
     "output_type": "stream",
     "text": [
      "Test 1000 times. The accuracy is:  0.878\n"
     ]
    }
   ],
   "execution_count": 44
  },
  {
   "metadata": {
    "ExecuteTime": {
     "end_time": "2025-07-09T03:27:37.498516Z",
     "start_time": "2025-07-09T03:27:37.459515Z"
    }
   },
   "cell_type": "code",
   "source": [
    "test_image, test_label = random_get_test_data()\n",
    "test_image_bias = add_bias_and_center_for_one(test_image)\n",
    "test_image_bias.reshape(test_image_bias.shape[0], 1)\n",
    "z = np.dot(W, test_image_bias)\n",
    "print(z)\n",
    "predicted_label = np.argmax(z)\n",
    "show_image(test_image, test_label)\n",
    "print(\"Predicted label: \", predicted_label)\n",
    "print('Actual Label: ', test_label)"
   ],
   "id": "ce34e25c1bd8e65e",
   "outputs": [
    {
     "name": "stdout",
     "output_type": "stream",
     "text": [
      "[-519.32839966 -547.56872559   49.59884644  164.04827881  189.94480896\n",
      "  132.99295044   32.77819824  193.52958679  141.00160217  163.00285339]\n"
     ]
    },
    {
     "data": {
      "text/plain": [
       "<Figure size 200x200 with 1 Axes>"
      ],
      "image/png": "[encoded data removed]"
     },
     "metadata": {},
     "output_type": "display_data"
    },
    {
     "name": "stdout",
     "output_type": "stream",
     "text": [
      "Predicted label:  7\n",
      "Actual Label:  7\n"
     ]
    }
   ],
   "execution_count": 89
  }
 ],
 "metadata": {
  "kernelspec": {
   "display_name": "Python 3",
   "language": "python",
   "name": "python3"
  },
  "language_info": {
   "codemirror_mode": {
    "name": "ipython",
    "version": 2
   },
   "file_extension": ".py",
   "mimetype": "text/x-python",
   "name": "python",
   "nbconvert_exporter": "python",
   "pygments_lexer": "ipython2",
   "version": "2.7.6"
  }
 },
 "nbformat": 4,
 "nbformat_minor": 5
}
