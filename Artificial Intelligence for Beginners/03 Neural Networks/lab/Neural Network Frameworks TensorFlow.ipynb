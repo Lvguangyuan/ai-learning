{
 "cells": [
  {
   "metadata": {},
   "cell_type": "markdown",
   "source": "",
   "id": "187f36597e891f76"
  },
  {
   "cell_type": "code",
   "id": "initial_id",
   "metadata": {
    "collapsed": true,
    "ExecuteTime": {
     "end_time": "2025-07-23T09:30:48.145814Z",
     "start_time": "2025-07-23T09:30:36.896352Z"
    }
   },
   "source": [
    "import tensorflow as tf\n",
    "import numpy as np\n",
    "print(tf.__version__)"
   ],
   "outputs": [
    {
     "name": "stdout",
     "output_type": "stream",
     "text": [
      "2.19.0\n"
     ]
    }
   ],
   "execution_count": 1
  },
  {
   "metadata": {},
   "cell_type": "markdown",
   "source": "### Tensor",
   "id": "b204054fdfba0755"
  },
  {
   "metadata": {
    "ExecuteTime": {
     "end_time": "2025-07-23T09:39:29.945854Z",
     "start_time": "2025-07-23T09:39:29.938733Z"
    }
   },
   "cell_type": "code",
   "source": [
    "# Simple Tensors\n",
    "a = tf.constant([[1,2],[3,4]])\n",
    "print(a)\n",
    "a = tf.random.normal(shape=(10,3))\n",
    "print(a)"
   ],
   "id": "c16ea439530b4dc6",
   "outputs": [
    {
     "name": "stdout",
     "output_type": "stream",
     "text": [
      "tf.Tensor(\n",
      "[[1 2]\n",
      " [3 4]], shape=(2, 2), dtype=int32)\n",
      "tf.Tensor(\n",
      "[[-0.4651596  -0.8539137  -0.25799525]\n",
      " [ 0.27528653  1.2314875   0.560645  ]\n",
      " [ 0.53391385  1.2758503  -1.6841404 ]\n",
      " [ 2.6365745   1.6241635   0.19978046]\n",
      " [-0.04775254 -0.0859173  -1.2985988 ]\n",
      " [ 1.06283     0.9465916  -0.8372951 ]\n",
      " [ 1.3345139  -0.28215015 -0.56369656]\n",
      " [ 0.4384501  -0.03311989 -0.13612434]\n",
      " [ 1.9585599  -0.4552838  -0.28859288]\n",
      " [ 1.0223869   0.50663084  2.0662005 ]], shape=(10, 3), dtype=float32)\n"
     ]
    }
   ],
   "execution_count": 9
  },
  {
   "metadata": {
    "ExecuteTime": {
     "end_time": "2025-07-23T09:39:34.604257Z",
     "start_time": "2025-07-23T09:39:34.598319Z"
    }
   },
   "cell_type": "code",
   "source": [
    "# To extract numpy-array from tensor, use .numpy()\n",
    "print(a-a[0])\n",
    "print(tf.exp(a)[0].numpy())"
   ],
   "id": "faf88031a208fc17",
   "outputs": [
    {
     "name": "stdout",
     "output_type": "stream",
     "text": [
      "tf.Tensor(\n",
      "[[ 0.          0.          0.        ]\n",
      " [ 0.7404461   2.0854013   0.81864023]\n",
      " [ 0.99907345  2.129764   -1.4261452 ]\n",
      " [ 3.1017342   2.4780772   0.4577757 ]\n",
      " [ 0.41740707  0.76799643 -1.0406035 ]\n",
      " [ 1.5279896   1.8005054  -0.57929987]\n",
      " [ 1.7996736   0.5717636  -0.30570132]\n",
      " [ 0.9036097   0.8207938   0.12187091]\n",
      " [ 2.4237194   0.39862993 -0.03059763]\n",
      " [ 1.4875464   1.3605446   2.3241959 ]], shape=(10, 3), dtype=float32)\n",
      "[0.62803483 0.42574543 0.7725989 ]\n"
     ]
    }
   ],
   "execution_count": 10
  },
  {
   "metadata": {},
   "cell_type": "markdown",
   "source": "### Variables",
   "id": "4b4f5c0ddf5e0b91"
  },
  {
   "metadata": {
    "ExecuteTime": {
     "end_time": "2025-07-23T09:39:44.475284Z",
     "start_time": "2025-07-23T09:39:44.464677Z"
    }
   },
   "cell_type": "code",
   "source": [
    "# to get a sum of all rows of tensor a\n",
    "s = tf.Variable(tf.zeros_like(a[0]))\n",
    "print(s)\n",
    "for i in a:\n",
    "    s.assign_add(i)\n",
    "\n",
    "print(s)"
   ],
   "id": "b3a8680bfd204f7d",
   "outputs": [
    {
     "name": "stdout",
     "output_type": "stream",
     "text": [
      "<tf.Variable 'Variable:0' shape=(3,) dtype=float32, numpy=array([0., 0., 0.], dtype=float32)>\n",
      "<tf.Variable 'Variable:0' shape=(3,) dtype=float32, numpy=array([ 8.749603 ,  3.8743386, -2.2398174], dtype=float32)>\n"
     ]
    }
   ],
   "execution_count": 11
  },
  {
   "metadata": {
    "ExecuteTime": {
     "end_time": "2025-07-23T09:40:35.264272Z",
     "start_time": "2025-07-23T09:40:35.220730Z"
    }
   },
   "cell_type": "code",
   "source": [
    "# Much better way to do it:\n",
    "tf.reduce_sum(a,axis=0)"
   ],
   "id": "5eafb427de02ebc0",
   "outputs": [
    {
     "data": {
      "text/plain": [
       "<tf.Tensor: shape=(3,), dtype=float32, numpy=array([ 8.749603 ,  3.8743386, -2.2398174], dtype=float32)>"
      ]
     },
     "execution_count": 12,
     "metadata": {},
     "output_type": "execute_result"
    }
   ],
   "execution_count": 12
  }
 ],
 "metadata": {
  "kernelspec": {
   "display_name": "Python 3",
   "language": "python",
   "name": "python3"
  },
  "language_info": {
   "codemirror_mode": {
    "name": "ipython",
    "version": 2
   },
   "file_extension": ".py",
   "mimetype": "text/x-python",
   "name": "python",
   "nbconvert_exporter": "python",
   "pygments_lexer": "ipython2",
   "version": "2.7.6"
  }
 },
 "nbformat": 4,
 "nbformat_minor": 5
}
