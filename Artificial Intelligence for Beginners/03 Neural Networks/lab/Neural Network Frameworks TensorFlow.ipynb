{
 "cells": [
  {
   "metadata": {},
   "cell_type": "markdown",
   "source": "",
   "id": "187f36597e891f76"
  },
  {
   "cell_type": "code",
   "id": "initial_id",
   "metadata": {
    "collapsed": true,
    "ExecuteTime": {
     "end_time": "2025-08-12T08:40:29.931302Z",
     "start_time": "2025-08-12T08:40:23.347788Z"
    }
   },
   "source": [
    "import tensorflow as tf\n",
    "import numpy as np\n",
    "print(tf.__version__)"
   ],
   "outputs": [
    {
     "name": "stdout",
     "output_type": "stream",
     "text": [
      "2.19.0\n"
     ]
    }
   ],
   "execution_count": 2
  },
  {
   "metadata": {},
   "cell_type": "markdown",
   "source": "### Tensor",
   "id": "b204054fdfba0755"
  },
  {
   "metadata": {
    "ExecuteTime": {
     "end_time": "2025-08-12T08:40:29.991030Z",
     "start_time": "2025-08-12T08:40:29.941309Z"
    }
   },
   "cell_type": "code",
   "source": [
    "# Simple Tensors\n",
    "a = tf.constant([[1,2],[3,4]])\n",
    "print(a)\n",
    "a = tf.random.normal(shape=(10,3))\n",
    "print(a)"
   ],
   "id": "c16ea439530b4dc6",
   "outputs": [
    {
     "name": "stdout",
     "output_type": "stream",
     "text": [
      "tf.Tensor(\n",
      "[[1 2]\n",
      " [3 4]], shape=(2, 2), dtype=int32)\n",
      "tf.Tensor(\n",
      "[[ 0.25102624  1.4088442  -0.26785928]\n",
      " [ 1.9406533   1.2183262   2.2927103 ]\n",
      " [-1.0498152   0.6788453   0.9974992 ]\n",
      " [ 1.7176996  -0.5726755  -0.11309607]\n",
      " [ 0.7654475  -0.07678945 -0.6909034 ]\n",
      " [ 0.41023076 -0.14060211  2.2997255 ]\n",
      " [-1.0243208   0.08886398 -1.1842885 ]\n",
      " [-1.5823302  -0.07824718 -1.2612336 ]\n",
      " [ 1.6561967   0.552185    0.44847733]\n",
      " [-0.553807    0.02260866  1.1811088 ]], shape=(10, 3), dtype=float32)\n"
     ]
    }
   ],
   "execution_count": 3
  },
  {
   "metadata": {
    "ExecuteTime": {
     "end_time": "2025-08-12T08:40:30.044373Z",
     "start_time": "2025-08-12T08:40:30.028128Z"
    }
   },
   "cell_type": "code",
   "source": [
    "# To extract numpy-array from tensor, use .numpy()\n",
    "print(a-a[0])\n",
    "print(tf.exp(a)[0].numpy())"
   ],
   "id": "faf88031a208fc17",
   "outputs": [
    {
     "name": "stdout",
     "output_type": "stream",
     "text": [
      "tf.Tensor(\n",
      "[[ 0.          0.          0.        ]\n",
      " [ 1.689627   -0.19051802  2.5605695 ]\n",
      " [-1.3008415  -0.72999895  1.2653584 ]\n",
      " [ 1.4666734  -1.9815197   0.1547632 ]\n",
      " [ 0.5144212  -1.4856337  -0.42304415]\n",
      " [ 0.15920451 -1.5494463   2.5675848 ]\n",
      " [-1.2753471  -1.3199803  -0.9164292 ]\n",
      " [-1.8333565  -1.4870914  -0.9933743 ]\n",
      " [ 1.4051704  -0.85665923  0.7163366 ]\n",
      " [-0.8048333  -1.3862356   1.4489682 ]], shape=(10, 3), dtype=float32)\n",
      "[1.2853439 4.091224  0.7650154]\n"
     ]
    }
   ],
   "execution_count": 4
  },
  {
   "metadata": {},
   "cell_type": "markdown",
   "source": "### Variables",
   "id": "4b4f5c0ddf5e0b91"
  },
  {
   "metadata": {
    "ExecuteTime": {
     "end_time": "2025-08-12T08:40:30.147583Z",
     "start_time": "2025-08-12T08:40:30.124521Z"
    }
   },
   "cell_type": "code",
   "source": [
    "# to get a sum of all rows of tensor a\n",
    "s = tf.Variable(tf.zeros_like(a[0]))\n",
    "print(s)\n",
    "for i in a:\n",
    "    s.assign_add(i)\n",
    "\n",
    "print(s)"
   ],
   "id": "b3a8680bfd204f7d",
   "outputs": [
    {
     "name": "stdout",
     "output_type": "stream",
     "text": [
      "<tf.Variable 'Variable:0' shape=(3,) dtype=float32, numpy=array([0., 0., 0.], dtype=float32)>\n",
      "<tf.Variable 'Variable:0' shape=(3,) dtype=float32, numpy=array([2.5309808, 3.1013598, 3.7021403], dtype=float32)>\n"
     ]
    }
   ],
   "execution_count": 5
  },
  {
   "metadata": {
    "ExecuteTime": {
     "end_time": "2025-08-12T08:40:30.190074Z",
     "start_time": "2025-08-12T08:40:30.181073Z"
    }
   },
   "cell_type": "code",
   "source": [
    "# Much better way to do it:\n",
    "tf.reduce_sum(a,axis=0)"
   ],
   "id": "5eafb427de02ebc0",
   "outputs": [
    {
     "data": {
      "text/plain": [
       "<tf.Tensor: shape=(3,), dtype=float32, numpy=array([2.5309808, 3.1013598, 3.7021403], dtype=float32)>"
      ]
     },
     "execution_count": 6,
     "metadata": {},
     "output_type": "execute_result"
    }
   ],
   "execution_count": 6
  },
  {
   "metadata": {},
   "cell_type": "markdown",
   "source": "### Computing Gradients",
   "id": "7beae6e1f4445fa1"
  },
  {
   "metadata": {
    "ExecuteTime": {
     "end_time": "2025-08-12T08:40:30.245552Z",
     "start_time": "2025-08-12T08:40:30.228575Z"
    }
   },
   "cell_type": "code",
   "source": [
    "a = tf.random.normal(shape=(2, 2))\n",
    "b = tf.random.normal(shape=(2, 2))\n",
    "\n",
    "with tf.GradientTape() as tape:\n",
    "    tape.watch(a)  # Start recording the history of operations applied to `a`\n",
    "    c = tf.sqrt(tf.square(a) + tf.square(b))  # Do some math using `a`\n",
    "    # What's the gradient of `c` with respect to `a`?\n",
    "    dc_da = tape.gradient(c, a)\n",
    "    print(dc_da)"
   ],
   "id": "d2635e10cc318f40",
   "outputs": [
    {
     "name": "stdout",
     "output_type": "stream",
     "text": [
      "tf.Tensor(\n",
      "[[ 0.2737922  -0.55411744]\n",
      " [ 0.40453687 -0.6141799 ]], shape=(2, 2), dtype=float32)\n"
     ]
    }
   ],
   "execution_count": 7
  },
  {
   "metadata": {},
   "cell_type": "markdown",
   "source": "### Example 1: Linear Regression",
   "id": "fe9e52d37899b82"
  },
  {
   "metadata": {},
   "cell_type": "markdown",
   "source": "#### Generate some random data",
   "id": "1cae9628b6047d02"
  },
  {
   "metadata": {
    "ExecuteTime": {
     "end_time": "2025-08-12T08:53:28.048230Z",
     "start_time": "2025-08-12T08:53:27.344281Z"
    }
   },
   "cell_type": "code",
   "source": [
    "import matplotlib.pyplot as plt\n",
    "from sklearn.datasets import make_classification, make_regression\n",
    "from sklearn.model_selection import train_test_split\n",
    "import random"
   ],
   "id": "915eae9c52695738",
   "outputs": [],
   "execution_count": 8
  },
  {
   "metadata": {
    "ExecuteTime": {
     "end_time": "2025-08-12T08:53:54.743746Z",
     "start_time": "2025-08-12T08:53:54.594204Z"
    }
   },
   "cell_type": "code",
   "source": [
    "np.random.seed(13) # pick the seed for reproducability - change it to explore the effects of random variations\n",
    "\n",
    "train_x = np.linspace(0, 3, 120)\n",
    "train_labels = 2 * train_x + 0.9 + np.random.randn(*train_x.shape) * 0.5\n",
    "\n",
    "plt.scatter(train_x,train_labels)"
   ],
   "id": "9f0a34dff923c37d",
   "outputs": [
    {
     "data": {
      "text/plain": [
       "<matplotlib.collections.PathCollection at 0x1bb3bb63aa0>"
      ]
     },
     "execution_count": 9,
     "metadata": {},
     "output_type": "execute_result"
    },
    {
     "data": {
      "text/plain": [
       "<Figure size 640x480 with 1 Axes>"
      ],
      "image/png": "[encoded data removed]"
     },
     "metadata": {},
     "output_type": "display_data"
    }
   ],
   "execution_count": 9
  },
  {
   "metadata": {},
   "cell_type": "markdown",
   "source": "#### define model and loss function",
   "id": "222d9adcd455080f"
  },
  {
   "metadata": {
    "ExecuteTime": {
     "end_time": "2025-08-12T08:57:01.917739Z",
     "start_time": "2025-08-12T08:57:01.904174Z"
    }
   },
   "cell_type": "code",
   "source": [
    "input_dim = 1\n",
    "output_dim = 1\n",
    "learning_rate = 0.1\n",
    "\n",
    "# This is our weight matrix\n",
    "w = tf.Variable([[100.0]])\n",
    "print(w)\n",
    "# This is our bias vector\n",
    "b = tf.Variable(tf.zeros(shape=(output_dim,)))\n",
    "print(b)\n",
    "\n",
    "def f(x):\n",
    "    return tf.matmul(x,w) + b\n",
    "\n",
    "def compute_loss(labels, predictions):\n",
    "    return tf.reduce_mean(tf.square(labels - predictions))"
   ],
   "id": "5a34a5b06ad2ce45",
   "outputs": [
    {
     "name": "stdout",
     "output_type": "stream",
     "text": [
      "<tf.Variable 'Variable:0' shape=(1, 1) dtype=float32, numpy=array([[100.]], dtype=float32)>\n",
      "<tf.Variable 'Variable:0' shape=(1,) dtype=float32, numpy=array([0.], dtype=float32)>\n"
     ]
    }
   ],
   "execution_count": 10
  },
  {
   "metadata": {},
   "cell_type": "markdown",
   "source": "#### Training the model",
   "id": "de24c0aad6e28064"
  },
  {
   "metadata": {
    "ExecuteTime": {
     "end_time": "2025-08-12T09:02:19.570676Z",
     "start_time": "2025-08-12T09:02:19.566077Z"
    }
   },
   "cell_type": "code",
   "source": [
    "def train_on_batch(x, y):\n",
    "    with tf.GradientTape() as tape:\n",
    "        predictions = f(x)\n",
    "        loss = compute_loss(y, predictions)\n",
    "        # Note that `tape.gradient` works with a list as well (w, b).\n",
    "        dloss_dw, dloss_db = tape.gradient(loss, [w, b])\n",
    "    w.assign_sub(learning_rate * dloss_dw)\n",
    "    b.assign_sub(learning_rate * dloss_db)\n",
    "    return loss"
   ],
   "id": "57895b6ff4769a12",
   "outputs": [],
   "execution_count": 11
  },
  {
   "metadata": {
    "ExecuteTime": {
     "end_time": "2025-08-12T09:02:52.493815Z",
     "start_time": "2025-08-12T09:02:52.484328Z"
    }
   },
   "cell_type": "code",
   "source": [
    "# Shuffle the data.\n",
    "indices = np.random.permutation(len(train_x))\n",
    "features = tf.constant(train_x[indices],dtype=tf.float32)\n",
    "labels = tf.constant(train_labels[indices],dtype=tf.float32)"
   ],
   "id": "f6a439331e5ec10d",
   "outputs": [],
   "execution_count": 12
  },
  {
   "metadata": {
    "ExecuteTime": {
     "end_time": "2025-08-12T09:03:16.389148Z",
     "start_time": "2025-08-12T09:03:15.948144Z"
    }
   },
   "cell_type": "code",
   "source": [
    "batch_size = 4\n",
    "for epoch in range(10):\n",
    "    for i in range(0,len(features),batch_size):\n",
    "        loss = train_on_batch(tf.reshape(features[i:i+batch_size],(-1,1)),tf.reshape(labels[i:i+batch_size],(-1,1)))\n",
    "    print('Epoch %d: last batch loss = %.4f' % (epoch, float(loss)))"
   ],
   "id": "9ecd618b177ba3e9",
   "outputs": [
    {
     "name": "stdout",
     "output_type": "stream",
     "text": [
      "Epoch 0: last batch loss = 94.5247\n",
      "Epoch 1: last batch loss = 9.3428\n",
      "Epoch 2: last batch loss = 1.4166\n",
      "Epoch 3: last batch loss = 0.5224\n",
      "Epoch 4: last batch loss = 0.3807\n",
      "Epoch 5: last batch loss = 0.3495\n",
      "Epoch 6: last batch loss = 0.3413\n",
      "Epoch 7: last batch loss = 0.3390\n",
      "Epoch 8: last batch loss = 0.3384\n",
      "Epoch 9: last batch loss = 0.3382\n"
     ]
    }
   ],
   "execution_count": 13
  },
  {
   "metadata": {
    "ExecuteTime": {
     "end_time": "2025-08-12T09:04:46.004360Z",
     "start_time": "2025-08-12T09:04:45.997346Z"
    }
   },
   "cell_type": "code",
   "source": "w,b",
   "id": "d93ffe27bd3b1d5d",
   "outputs": [
    {
     "data": {
      "text/plain": [
       "(<tf.Variable 'Variable:0' shape=(1, 1) dtype=float32, numpy=array([[1.8616778]], dtype=float32)>,\n",
       " <tf.Variable 'Variable:0' shape=(1,) dtype=float32, numpy=array([1.0710956], dtype=float32)>)"
      ]
     },
     "execution_count": 14,
     "metadata": {},
     "output_type": "execute_result"
    }
   ],
   "execution_count": 14
  },
  {
   "metadata": {
    "ExecuteTime": {
     "end_time": "2025-08-12T09:05:07.128285Z",
     "start_time": "2025-08-12T09:05:07.051229Z"
    }
   },
   "cell_type": "code",
   "source": [
    "plt.scatter(train_x,train_labels)\n",
    "x = np.array([min(train_x),max(train_x)])\n",
    "y = w.numpy()[0,0]*x+b.numpy()[0]\n",
    "plt.plot(x,y,color='red')"
   ],
   "id": "4612ae9dd530a9eb",
   "outputs": [
    {
     "data": {
      "text/plain": [
       "[<matplotlib.lines.Line2D at 0x1bb3f981370>]"
      ]
     },
     "execution_count": 15,
     "metadata": {},
     "output_type": "execute_result"
    },
    {
     "data": {
      "text/plain": [
       "<Figure size 640x480 with 1 Axes>"
      ],
      "image/png": "[encoded data removed]"
     },
     "metadata": {},
     "output_type": "display_data"
    }
   ],
   "execution_count": 15
  },
  {
   "metadata": {},
   "cell_type": "markdown",
   "source": "### Example 2: Classification",
   "id": "e800ebb9e274e70c"
  },
  {
   "metadata": {},
   "cell_type": "markdown",
   "source": "#### Generate some random data",
   "id": "63b5feb91171b682"
  },
  {
   "metadata": {
    "ExecuteTime": {
     "end_time": "2025-08-12T09:29:07.659135Z",
     "start_time": "2025-08-12T09:29:07.645856Z"
    }
   },
   "cell_type": "code",
   "source": [
    "np.random.seed(0) # pick the seed for reproducibility - change it to explore the effects of random variations\n",
    "\n",
    "n = 100\n",
    "X, Y = make_classification(n_samples = n, n_features=2,\n",
    "                           n_redundant=0, n_informative=2, flip_y=0.05,class_sep=1.5)\n",
    "X = X.astype(np.float32)\n",
    "Y = Y.astype(np.int32)\n",
    "\n",
    "split = [ 70*n//100, (15+70)*n//100 ]\n",
    "train_x, valid_x, test_x = np.split(X, split)\n",
    "train_labels, valid_labels, test_labels = np.split(Y, split)"
   ],
   "id": "cad6526ed4c0ac51",
   "outputs": [],
   "execution_count": 16
  },
  {
   "metadata": {
    "ExecuteTime": {
     "end_time": "2025-08-12T09:29:45.692871Z",
     "start_time": "2025-08-12T09:29:45.688734Z"
    }
   },
   "cell_type": "code",
   "source": [
    "def plot_dataset(features, labels, W=None, b=None):\n",
    "    # prepare the plot\n",
    "    fig, ax = plt.subplots(1, 1)\n",
    "    ax.set_xlabel('$x_i[0]$ -- (feature 1)')\n",
    "    ax.set_ylabel('$x_i[1]$ -- (feature 2)')\n",
    "    colors = ['r' if l else 'b' for l in labels]\n",
    "    ax.scatter(features[:, 0], features[:, 1], marker='o', c=colors, s=100, alpha = 0.5)\n",
    "    if W is not None:\n",
    "        min_x = min(features[:,0])\n",
    "        max_x = max(features[:,1])\n",
    "        min_y = min(features[:,1])*(1-.1)\n",
    "        max_y = max(features[:,1])*(1+.1)\n",
    "        cx = np.array([min_x,max_x],dtype=np.float32)\n",
    "        cy = (0.5-W[0]*cx-b)/W[1]\n",
    "        ax.plot(cx,cy,'g')\n",
    "        ax.set_ylim(min_y,max_y)\n",
    "    fig.show()"
   ],
   "id": "acc390f14b8b53e5",
   "outputs": [],
   "execution_count": 17
  },
  {
   "metadata": {
    "ExecuteTime": {
     "end_time": "2025-08-12T09:29:52.310619Z",
     "start_time": "2025-08-12T09:29:52.135610Z"
    }
   },
   "cell_type": "code",
   "source": "plot_dataset(train_x, train_labels)",
   "id": "b7fac4f90fa6b890",
   "outputs": [
    {
     "name": "stderr",
     "output_type": "stream",
     "text": [
      "C:\\Users\\lvgy\\AppData\\Local\\Temp\\ipykernel_3680\\1767890495.py:17: UserWarning: FigureCanvasAgg is non-interactive, and thus cannot be shown\n",
      "  fig.show()\n"
     ]
    },
    {
     "data": {
      "text/plain": [
       "<Figure size 640x480 with 1 Axes>"
      ],
      "image/png": "[encoded data removed]"
     },
     "metadata": {},
     "output_type": "display_data"
    }
   ],
   "execution_count": 18
  },
  {
   "metadata": {},
   "cell_type": "markdown",
   "source": "#### Normalizing Data",
   "id": "47c8948f12a32e65"
  },
  {
   "metadata": {
    "ExecuteTime": {
     "end_time": "2025-08-12T09:50:37.021189Z",
     "start_time": "2025-08-12T09:50:37.011404Z"
    }
   },
   "cell_type": "code",
   "source": [
    "train_x_norm = (train_x-np.min(train_x)) / (np.max(train_x)-np.min(train_x))\n",
    "valid_x_norm = (valid_x-np.min(train_x)) / (np.max(train_x)-np.min(train_x))\n",
    "test_x_norm = (test_x-np.min(train_x)) / (np.max(train_x)-np.min(train_x))"
   ],
   "id": "3beb99e2c26c55d8",
   "outputs": [],
   "execution_count": 19
  },
  {
   "metadata": {},
   "cell_type": "markdown",
   "source": "#### Training One-Layer Perceptron",
   "id": "707992afdba7d75c"
  },
  {
   "metadata": {
    "ExecuteTime": {
     "end_time": "2025-08-13T08:06:37.610048Z",
     "start_time": "2025-08-13T08:06:37.298495Z"
    }
   },
   "cell_type": "code",
   "source": [
    "W = tf.Variable(tf.random.normal(shape=(2,1)),dtype=tf.float32)\n",
    "b = tf.Variable(tf.zeros(shape=(1,),dtype=tf.float32))\n",
    "\n",
    "learning_rate = 0.1\n",
    "\n",
    "@tf.function\n",
    "def train_on_batch(x, y):\n",
    "    with tf.GradientTape() as tape:\n",
    "        z = tf.matmul(x, W) + b\n",
    "        loss = tf.reduce_mean(tf.nn.sigmoid_cross_entropy_with_logits(labels=y,logits=z))\n",
    "    dloss_dw, dloss_db = tape.gradient(loss, [W, b])\n",
    "    W.assign_sub(learning_rate * dloss_dw)\n",
    "    b.assign_sub(learning_rate * dloss_db)\n",
    "    return loss"
   ],
   "id": "21a06643f43af9bf",
   "outputs": [],
   "execution_count": 20
  },
  {
   "metadata": {
    "ExecuteTime": {
     "end_time": "2025-08-13T08:07:04.795637Z",
     "start_time": "2025-08-13T08:07:03.243130Z"
    }
   },
   "cell_type": "code",
   "source": [
    "# Create a tf.data.Dataset object for easy batched iteration\n",
    "dataset = tf.data.Dataset.from_tensor_slices((train_x_norm.astype(np.float32), train_labels.astype(np.float32)))\n",
    "dataset = dataset.shuffle(128).batch(2)\n",
    "\n",
    "for epoch in range(10):\n",
    "    for step, (x, y) in enumerate(dataset):\n",
    "        loss = train_on_batch(x, tf.expand_dims(y,1))\n",
    "    print('Epoch %d: last batch loss = %.4f' % (epoch, float(loss)))"
   ],
   "id": "df08e5bf9e5a2f14",
   "outputs": [
    {
     "name": "stdout",
     "output_type": "stream",
     "text": [
      "Epoch 0: last batch loss = 0.6261\n",
      "Epoch 1: last batch loss = 0.4183\n",
      "Epoch 2: last batch loss = 0.5151\n",
      "Epoch 3: last batch loss = 0.3882\n",
      "Epoch 4: last batch loss = 0.5029\n",
      "Epoch 5: last batch loss = 0.4790\n",
      "Epoch 6: last batch loss = 0.5223\n",
      "Epoch 7: last batch loss = 1.2460\n",
      "Epoch 8: last batch loss = 0.2788\n",
      "Epoch 9: last batch loss = 0.3614\n"
     ]
    }
   ],
   "execution_count": 21
  },
  {
   "metadata": {
    "ExecuteTime": {
     "end_time": "2025-08-13T08:07:24.939948Z",
     "start_time": "2025-08-13T08:07:24.710422Z"
    }
   },
   "cell_type": "code",
   "source": "plot_dataset(train_x,train_labels,W.numpy(),b.numpy())",
   "id": "3c032b519c153c2f",
   "outputs": [
    {
     "name": "stderr",
     "output_type": "stream",
     "text": [
      "C:\\Users\\lvgy\\AppData\\Local\\Temp\\ipykernel_3680\\1767890495.py:17: UserWarning: FigureCanvasAgg is non-interactive, and thus cannot be shown\n",
      "  fig.show()\n"
     ]
    },
    {
     "data": {
      "text/plain": [
       "<Figure size 640x480 with 1 Axes>"
      ],
      "image/png": "[encoded data removed]"
     },
     "metadata": {},
     "output_type": "display_data"
    }
   ],
   "execution_count": 22
  },
  {
   "metadata": {
    "ExecuteTime": {
     "end_time": "2025-08-13T08:12:18.306769Z",
     "start_time": "2025-08-13T08:12:17.931412Z"
    }
   },
   "cell_type": "code",
   "source": [
    "pred = tf.matmul(test_x,W)+b\n",
    "fig,ax = plt.subplots(1,2)\n",
    "ax[0].scatter(test_x[:,0],test_x[:,1],c=pred[:,0]>0.5)\n",
    "ax[1].scatter(test_x[:,0],test_x[:,1],c=valid_labels)"
   ],
   "id": "be70a86ce9ef085b",
   "outputs": [
    {
     "data": {
      "text/plain": [
       "<matplotlib.collections.PathCollection at 0x1bb40f50050>"
      ]
     },
     "execution_count": 23,
     "metadata": {},
     "output_type": "execute_result"
    },
    {
     "data": {
      "text/plain": [
       "<Figure size 640x480 with 2 Axes>"
      ],
      "image/png": "[encoded data removed]"
     },
     "metadata": {},
     "output_type": "display_data"
    }
   ],
   "execution_count": 23
  },
  {
   "metadata": {
    "ExecuteTime": {
     "end_time": "2025-08-13T08:13:32.187817Z",
     "start_time": "2025-08-13T08:13:32.117787Z"
    }
   },
   "cell_type": "code",
   "source": "tf.reduce_mean(tf.cast(((pred[0]>0.5)==test_labels),tf.float32))",
   "id": "2084513ec52433df",
   "outputs": [
    {
     "data": {
      "text/plain": [
       "<tf.Tensor: shape=(), dtype=float32, numpy=0.46666666865348816>"
      ]
     },
     "execution_count": 24,
     "metadata": {},
     "output_type": "execute_result"
    }
   ],
   "execution_count": 24
  },
  {
   "metadata": {},
   "cell_type": "markdown",
   "source": "### Using TensorFlow/Keras Optimizers",
   "id": "badf7bc0fc0163c6"
  },
  {
   "metadata": {
    "ExecuteTime": {
     "end_time": "2025-08-13T08:15:51.962305Z",
     "start_time": "2025-08-13T08:15:50.416018Z"
    }
   },
   "cell_type": "code",
   "source": [
    "optimizer = tf.keras.optimizers.Adam(0.01)\n",
    "\n",
    "W = tf.Variable(tf.random.normal(shape=(2,1)))\n",
    "b = tf.Variable(tf.zeros(shape=(1,),dtype=tf.float32))\n",
    "\n",
    "@tf.function\n",
    "def train_on_batch(x, y):\n",
    "    vars = [W, b]\n",
    "    with tf.GradientTape() as tape:\n",
    "        z = tf.sigmoid(tf.matmul(x, W) + b)\n",
    "        loss = tf.reduce_mean(tf.keras.losses.binary_crossentropy(z,y))\n",
    "        correct_prediction = tf.equal(tf.round(y), tf.round(z))\n",
    "        acc = tf.reduce_mean(tf.cast(correct_prediction, tf.float32))\n",
    "        grads = tape.gradient(loss, vars)\n",
    "        optimizer.apply_gradients(zip(grads,vars))\n",
    "    return loss,acc\n",
    "\n",
    "for epoch in range(20):\n",
    "    for step, (x, y) in enumerate(dataset):\n",
    "        loss,acc = train_on_batch(tf.reshape(x,(-1,2)), tf.reshape(y,(-1,1)))\n",
    "    print('Epoch %d: last batch loss = %.4f, acc = %.4f' % (epoch, float(loss),acc))"
   ],
   "id": "bc9e81b7bbd2690a",
   "outputs": [
    {
     "name": "stdout",
     "output_type": "stream",
     "text": [
      "Epoch 0: last batch loss = 8.4002, acc = 0.5000\n",
      "Epoch 1: last batch loss = 8.1297, acc = 0.5000\n",
      "Epoch 2: last batch loss = 7.7476, acc = 0.5000\n",
      "Epoch 3: last batch loss = 9.4475, acc = 0.0000\n",
      "Epoch 4: last batch loss = 7.8971, acc = 0.5000\n",
      "Epoch 5: last batch loss = 8.6549, acc = 0.0000\n",
      "Epoch 6: last batch loss = 7.4503, acc = 0.5000\n",
      "Epoch 7: last batch loss = 8.0015, acc = 0.5000\n",
      "Epoch 8: last batch loss = 9.4254, acc = 0.0000\n",
      "Epoch 9: last batch loss = 7.6715, acc = 0.5000\n",
      "Epoch 10: last batch loss = 6.6700, acc = 1.0000\n",
      "Epoch 11: last batch loss = 7.1234, acc = 0.5000\n",
      "Epoch 12: last batch loss = 7.7365, acc = 0.5000\n",
      "Epoch 13: last batch loss = 6.9591, acc = 0.5000\n",
      "Epoch 14: last batch loss = 6.8363, acc = 1.0000\n",
      "Epoch 15: last batch loss = 7.4768, acc = 1.0000\n",
      "Epoch 16: last batch loss = 6.5287, acc = 1.0000\n",
      "Epoch 17: last batch loss = 6.2364, acc = 1.0000\n",
      "Epoch 18: last batch loss = 7.1870, acc = 1.0000\n",
      "Epoch 19: last batch loss = 6.6534, acc = 1.0000\n"
     ]
    }
   ],
   "execution_count": 25
  },
  {
   "metadata": {},
   "cell_type": "markdown",
   "source": "### Functional API",
   "id": "eced6a6ee1bc5d20"
  },
  {
   "metadata": {
    "ExecuteTime": {
     "end_time": "2025-08-13T08:17:41.328151Z",
     "start_time": "2025-08-13T08:17:40.177331Z"
    }
   },
   "cell_type": "code",
   "source": [
    "inputs = tf.keras.Input(shape=(2,))\n",
    "z = tf.keras.layers.Dense(1,kernel_initializer='glorot_uniform',activation='sigmoid')(inputs)\n",
    "model = tf.keras.models.Model(inputs,z)\n",
    "\n",
    "model.compile(tf.keras.optimizers.Adam(0.1),'binary_crossentropy',['accuracy'])\n",
    "model.summary()\n",
    "h = model.fit(train_x_norm,train_labels,batch_size=8,epochs=15)"
   ],
   "id": "43c923fbdaf09536",
   "outputs": [
    {
     "data": {
      "text/plain": [
       "\u001B[1mModel: \"functional\"\u001B[0m\n"
      ],
      "text/html": [
       "<pre style=\"white-space:pre;overflow-x:auto;line-height:normal;font-family:Menlo,'DejaVu Sans Mono',consolas,'Courier New',monospace\"><span style=\"font-weight: bold\">Model: \"functional\"</span>\n",
       "</pre>\n"
      ]
     },
     "metadata": {},
     "output_type": "display_data"
    },
    {
     "data": {
      "text/plain": [
       "┏━━━━━━━━━━━━━━━━━━━━━━━━━━━━━━━━━┳━━━━━━━━━━━━━━━━━━━━━━━━┳━━━━━━━━━━━━━━━┓\n",
       "┃\u001B[1m \u001B[0m\u001B[1mLayer (type)                   \u001B[0m\u001B[1m \u001B[0m┃\u001B[1m \u001B[0m\u001B[1mOutput Shape          \u001B[0m\u001B[1m \u001B[0m┃\u001B[1m \u001B[0m\u001B[1m      Param #\u001B[0m\u001B[1m \u001B[0m┃\n",
       "┡━━━━━━━━━━━━━━━━━━━━━━━━━━━━━━━━━╇━━━━━━━━━━━━━━━━━━━━━━━━╇━━━━━━━━━━━━━━━┩\n",
       "│ input_layer (\u001B[38;5;33mInputLayer\u001B[0m)        │ (\u001B[38;5;45mNone\u001B[0m, \u001B[38;5;34m2\u001B[0m)              │             \u001B[38;5;34m0\u001B[0m │\n",
       "├─────────────────────────────────┼────────────────────────┼───────────────┤\n",
       "│ dense (\u001B[38;5;33mDense\u001B[0m)                   │ (\u001B[38;5;45mNone\u001B[0m, \u001B[38;5;34m1\u001B[0m)              │             \u001B[38;5;34m3\u001B[0m │\n",
       "└─────────────────────────────────┴────────────────────────┴───────────────┘\n"
      ],
      "text/html": [
       "<pre style=\"white-space:pre;overflow-x:auto;line-height:normal;font-family:Menlo,'DejaVu Sans Mono',consolas,'Courier New',monospace\">┏━━━━━━━━━━━━━━━━━━━━━━━━━━━━━━━━━┳━━━━━━━━━━━━━━━━━━━━━━━━┳━━━━━━━━━━━━━━━┓\n",
       "┃<span style=\"font-weight: bold\"> Layer (type)                    </span>┃<span style=\"font-weight: bold\"> Output Shape           </span>┃<span style=\"font-weight: bold\">       Param # </span>┃\n",
       "┡━━━━━━━━━━━━━━━━━━━━━━━━━━━━━━━━━╇━━━━━━━━━━━━━━━━━━━━━━━━╇━━━━━━━━━━━━━━━┩\n",
       "│ input_layer (<span style=\"color: #0087ff; text-decoration-color: #0087ff\">InputLayer</span>)        │ (<span style=\"color: #00d7ff; text-decoration-color: #00d7ff\">None</span>, <span style=\"color: #00af00; text-decoration-color: #00af00\">2</span>)              │             <span style=\"color: #00af00; text-decoration-color: #00af00\">0</span> │\n",
       "├─────────────────────────────────┼────────────────────────┼───────────────┤\n",
       "│ dense (<span style=\"color: #0087ff; text-decoration-color: #0087ff\">Dense</span>)                   │ (<span style=\"color: #00d7ff; text-decoration-color: #00d7ff\">None</span>, <span style=\"color: #00af00; text-decoration-color: #00af00\">1</span>)              │             <span style=\"color: #00af00; text-decoration-color: #00af00\">3</span> │\n",
       "└─────────────────────────────────┴────────────────────────┴───────────────┘\n",
       "</pre>\n"
      ]
     },
     "metadata": {},
     "output_type": "display_data"
    },
    {
     "data": {
      "text/plain": [
       "\u001B[1m Total params: \u001B[0m\u001B[38;5;34m3\u001B[0m (12.00 B)\n"
      ],
      "text/html": [
       "<pre style=\"white-space:pre;overflow-x:auto;line-height:normal;font-family:Menlo,'DejaVu Sans Mono',consolas,'Courier New',monospace\"><span style=\"font-weight: bold\"> Total params: </span><span style=\"color: #00af00; text-decoration-color: #00af00\">3</span> (12.00 B)\n",
       "</pre>\n"
      ]
     },
     "metadata": {},
     "output_type": "display_data"
    },
    {
     "data": {
      "text/plain": [
       "\u001B[1m Trainable params: \u001B[0m\u001B[38;5;34m3\u001B[0m (12.00 B)\n"
      ],
      "text/html": [
       "<pre style=\"white-space:pre;overflow-x:auto;line-height:normal;font-family:Menlo,'DejaVu Sans Mono',consolas,'Courier New',monospace\"><span style=\"font-weight: bold\"> Trainable params: </span><span style=\"color: #00af00; text-decoration-color: #00af00\">3</span> (12.00 B)\n",
       "</pre>\n"
      ]
     },
     "metadata": {},
     "output_type": "display_data"
    },
    {
     "data": {
      "text/plain": [
       "\u001B[1m Non-trainable params: \u001B[0m\u001B[38;5;34m0\u001B[0m (0.00 B)\n"
      ],
      "text/html": [
       "<pre style=\"white-space:pre;overflow-x:auto;line-height:normal;font-family:Menlo,'DejaVu Sans Mono',consolas,'Courier New',monospace\"><span style=\"font-weight: bold\"> Non-trainable params: </span><span style=\"color: #00af00; text-decoration-color: #00af00\">0</span> (0.00 B)\n",
       "</pre>\n"
      ]
     },
     "metadata": {},
     "output_type": "display_data"
    },
    {
     "name": "stdout",
     "output_type": "stream",
     "text": [
      "Epoch 1/15\n"
     ]
    },
    {
     "ename": "ValueError",
     "evalue": "dtype='string' is not a valid dtype for Keras type promotion.",
     "output_type": "error",
     "traceback": [
      "\u001B[31m---------------------------------------------------------------------------\u001B[39m",
      "\u001B[31mValueError\u001B[39m                                Traceback (most recent call last)",
      "\u001B[36mCell\u001B[39m\u001B[36m \u001B[39m\u001B[32mIn[26]\u001B[39m\u001B[32m, line 7\u001B[39m\n\u001B[32m      5\u001B[39m model.compile(tf.keras.optimizers.Adam(\u001B[32m0.1\u001B[39m),\u001B[33m'\u001B[39m\u001B[33mbinary_crossentropy\u001B[39m\u001B[33m'\u001B[39m,[\u001B[33m'\u001B[39m\u001B[33maccuracy\u001B[39m\u001B[33m'\u001B[39m])\n\u001B[32m      6\u001B[39m model.summary()\n\u001B[32m----> \u001B[39m\u001B[32m7\u001B[39m h = \u001B[43mmodel\u001B[49m\u001B[43m.\u001B[49m\u001B[43mfit\u001B[49m\u001B[43m(\u001B[49m\u001B[43mtrain_x_norm\u001B[49m\u001B[43m,\u001B[49m\u001B[43mtrain_labels\u001B[49m\u001B[43m,\u001B[49m\u001B[43mbatch_size\u001B[49m\u001B[43m=\u001B[49m\u001B[32;43m8\u001B[39;49m\u001B[43m,\u001B[49m\u001B[43mepochs\u001B[49m\u001B[43m=\u001B[49m\u001B[32;43m15\u001B[39;49m\u001B[43m)\u001B[49m\n",
      "\u001B[36mFile \u001B[39m\u001B[32mD:\\SafeWorkspace\\GitProjects\\Study\\ai-learning\\.venv\\Lib\\site-packages\\keras\\src\\utils\\traceback_utils.py:122\u001B[39m, in \u001B[36mfilter_traceback.<locals>.error_handler\u001B[39m\u001B[34m(*args, **kwargs)\u001B[39m\n\u001B[32m    119\u001B[39m     filtered_tb = _process_traceback_frames(e.__traceback__)\n\u001B[32m    120\u001B[39m     \u001B[38;5;66;03m# To get the full stack trace, call:\u001B[39;00m\n\u001B[32m    121\u001B[39m     \u001B[38;5;66;03m# `keras.config.disable_traceback_filtering()`\u001B[39;00m\n\u001B[32m--> \u001B[39m\u001B[32m122\u001B[39m     \u001B[38;5;28;01mraise\u001B[39;00m e.with_traceback(filtered_tb) \u001B[38;5;28;01mfrom\u001B[39;00m\u001B[38;5;250m \u001B[39m\u001B[38;5;28;01mNone\u001B[39;00m\n\u001B[32m    123\u001B[39m \u001B[38;5;28;01mfinally\u001B[39;00m:\n\u001B[32m    124\u001B[39m     \u001B[38;5;28;01mdel\u001B[39;00m filtered_tb\n",
      "\u001B[36mFile \u001B[39m\u001B[32mD:\\SafeWorkspace\\GitProjects\\Study\\ai-learning\\.venv\\Lib\\site-packages\\keras\\src\\backend\\common\\dtypes.py:151\u001B[39m, in \u001B[36m_least_upper_bound\u001B[39m\u001B[34m(*nodes)\u001B[39m\n\u001B[32m    149\u001B[39m \u001B[38;5;28;01mexcept\u001B[39;00m \u001B[38;5;167;01mKeyError\u001B[39;00m:\n\u001B[32m    150\u001B[39m     dtype = \u001B[38;5;28mnext\u001B[39m(n \u001B[38;5;28;01mfor\u001B[39;00m n \u001B[38;5;129;01min\u001B[39;00m N \u001B[38;5;28;01mif\u001B[39;00m n \u001B[38;5;129;01mnot\u001B[39;00m \u001B[38;5;129;01min\u001B[39;00m UB)\n\u001B[32m--> \u001B[39m\u001B[32m151\u001B[39m     \u001B[38;5;28;01mraise\u001B[39;00m \u001B[38;5;167;01mValueError\u001B[39;00m(\n\u001B[32m    152\u001B[39m         \u001B[33mf\u001B[39m\u001B[33m\"\u001B[39m\u001B[38;5;132;01m{\u001B[39;00mdtype\u001B[38;5;132;01m=}\u001B[39;00m\u001B[33m is not a valid dtype for Keras type promotion.\u001B[39m\u001B[33m\"\u001B[39m\n\u001B[32m    153\u001B[39m     )\n\u001B[32m    154\u001B[39m CUB = \u001B[38;5;28mset\u001B[39m.intersection(*bounds)\n\u001B[32m    155\u001B[39m LUB = (CUB & N) \u001B[38;5;129;01mor\u001B[39;00m {c \u001B[38;5;28;01mfor\u001B[39;00m c \u001B[38;5;129;01min\u001B[39;00m CUB \u001B[38;5;28;01mif\u001B[39;00m CUB.issubset(UB[c])}\n",
      "\u001B[31mValueError\u001B[39m: dtype='string' is not a valid dtype for Keras type promotion."
     ]
    }
   ],
   "execution_count": 26
  },
  {
   "metadata": {
    "ExecuteTime": {
     "end_time": "2025-08-13T08:18:06.057755Z",
     "start_time": "2025-08-13T08:18:06.025393Z"
    }
   },
   "cell_type": "code",
   "source": "plt.plot(h.history['accuracy'])",
   "id": "46b610aace959ce0",
   "outputs": [
    {
     "ename": "NameError",
     "evalue": "name 'h' is not defined",
     "output_type": "error",
     "traceback": [
      "\u001B[31m---------------------------------------------------------------------------\u001B[39m",
      "\u001B[31mNameError\u001B[39m                                 Traceback (most recent call last)",
      "\u001B[36mCell\u001B[39m\u001B[36m \u001B[39m\u001B[32mIn[27]\u001B[39m\u001B[32m, line 1\u001B[39m\n\u001B[32m----> \u001B[39m\u001B[32m1\u001B[39m plt.plot(\u001B[43mh\u001B[49m.history[\u001B[33m'\u001B[39m\u001B[33maccuracy\u001B[39m\u001B[33m'\u001B[39m])\n",
      "\u001B[31mNameError\u001B[39m: name 'h' is not defined"
     ]
    }
   ],
   "execution_count": 27
  }
 ],
 "metadata": {
  "kernelspec": {
   "display_name": "Python 3",
   "language": "python",
   "name": "python3"
  },
  "language_info": {
   "codemirror_mode": {
    "name": "ipython",
    "version": 2
   },
   "file_extension": ".py",
   "mimetype": "text/x-python",
   "name": "python",
   "nbconvert_exporter": "python",
   "pygments_lexer": "ipython2",
   "version": "2.7.6"
  }
 },
 "nbformat": 4,
 "nbformat_minor": 5
}
