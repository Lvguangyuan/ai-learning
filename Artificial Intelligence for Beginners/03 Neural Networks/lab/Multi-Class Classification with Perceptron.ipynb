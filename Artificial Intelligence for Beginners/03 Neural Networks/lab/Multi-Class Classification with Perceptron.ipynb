{
 "cells": [
  {
   "metadata": {},
   "cell_type": "markdown",
   "source": "## Multi-Class Classification with Perceptron",
   "id": "a8aa4eb4ec59947"
  },
  {
   "metadata": {},
   "cell_type": "markdown",
   "source": "### Prepare the data",
   "id": "c74c6f0749638807"
  },
  {
   "cell_type": "code",
   "id": "initial_id",
   "metadata": {
    "collapsed": true,
    "ExecuteTime": {
     "end_time": "2025-07-08T06:43:44.992605Z",
     "start_time": "2025-07-08T06:43:44.971835Z"
    }
   },
   "source": [
    "import pylab\n",
    "import numpy as np\n",
    "from ipywidgets import interact\n",
    "import ipywidgets as widgets\n",
    "import pickle\n",
    "import gzip\n",
    "\n",
    "# pick the seed for reproducability - change it to explore the effects of random variations\n",
    "np.random.seed(1)\n",
    "import random"
   ],
   "outputs": [],
   "execution_count": 2
  },
  {
   "metadata": {},
   "cell_type": "markdown",
   "source": "#### import the data",
   "id": "2b964e9cd6abb992"
  },
  {
   "metadata": {
    "ExecuteTime": {
     "end_time": "2025-07-08T06:43:48.342904Z",
     "start_time": "2025-07-08T06:43:47.856573Z"
    }
   },
   "cell_type": "code",
   "source": [
    "\n",
    "with gzip.open(\"../mnist.pkl.gz\", \"rb\") as f:\n",
    "    MNIST = pickle.load(f, encoding=\"latin1\")  # or encoding=\"bytes\"\n",
    "\n",
    "# unpack once\n",
    "(train_set, valid_set, test_set) = MNIST\n",
    "\n",
    "# rebuild the structure the notebook assumes\n",
    "MNIST = {\n",
    "    \"Train\": {\n",
    "        \"Features\": train_set[0],\n",
    "        \"Labels\": train_set[1],\n",
    "    },\n",
    "    \"Validation\": {\n",
    "        \"Features\": valid_set[0],\n",
    "        \"Labels\": valid_set[1],\n",
    "    },\n",
    "    \"Test\": {\n",
    "        \"Features\": test_set[0],\n",
    "        \"Labels\": test_set[1],\n",
    "    },\n",
    "}"
   ],
   "id": "4cdf13ce8ac9d8cd",
   "outputs": [],
   "execution_count": 3
  },
  {
   "metadata": {},
   "cell_type": "markdown",
   "source": "#### plot the data",
   "id": "756fc24d341d063"
  },
  {
   "metadata": {},
   "cell_type": "code",
   "source": [
    "print(MNIST['Train']['Features'][0][130:180])\n",
    "print(MNIST['Train']['Labels'][0])\n",
    "features = MNIST['Train']['Features'].astype(np.float32) / 256.0\n",
    "labels = MNIST['Train']['Labels']\n",
    "fig = pylab.figure(figsize=(10, 5))\n",
    "for i in range(10):\n",
    "    ax = fig.add_subplot(1, 10, i + 1)\n",
    "    pylab.imshow(features[i].reshape(28, 28))\n",
    "pylab.show()"
   ],
   "id": "691dcfd15321b8ba",
   "outputs": [],
   "execution_count": null
  },
  {
   "metadata": {},
   "cell_type": "markdown",
   "source": "#### get the positive and negative data",
   "id": "236320f347aadd2e"
  },
  {
   "metadata": {
    "ExecuteTime": {
     "end_time": "2025-07-08T07:39:10.954570Z",
     "start_time": "2025-07-08T07:39:10.947736Z"
    }
   },
   "cell_type": "code",
   "source": [
    "# def set_mnist_pos_neg(positive_label, negative_label):\n",
    "#     positive_indices = [i for i, j in enumerate(MNIST['Train']['Labels'])\n",
    "#                         if j == positive_label]\n",
    "#     negative_indices = [i for i, j in enumerate(MNIST['Train']['Labels'])\n",
    "#                         if j == negative_label]\n",
    "#\n",
    "#     positive_images = MNIST['Train']['Features'][positive_indices]\n",
    "#     negative_images = MNIST['Train']['Features'][negative_indices]\n",
    "#\n",
    "#     fig = pylab.figure()\n",
    "#     ax = fig.add_subplot(1, 2, 1)\n",
    "#     pylab.imshow(positive_images[0].reshape(28, 28), cmap='gray', interpolation='nearest')\n",
    "#     ax.set_xticks([])\n",
    "#     ax.set_yticks([])\n",
    "#     ax = fig.add_subplot(1, 2, 2)\n",
    "#     pylab.imshow(negative_images[0].reshape(28, 28), cmap='gray', interpolation='nearest')\n",
    "#     ax.set_xticks([])\n",
    "#     ax.set_yticks([])\n",
    "#     pylab.show()\n",
    "#\n",
    "#     return positive_images, negative_images"
   ],
   "id": "724945a37817aad7",
   "outputs": [],
   "execution_count": 6
  },
  {
   "metadata": {
    "ExecuteTime": {
     "end_time": "2025-07-09T02:18:26.923596Z",
     "start_time": "2025-07-09T02:18:26.908688Z"
    }
   },
   "cell_type": "code",
   "source": [
    "positive_indices = [i for i, j in enumerate(MNIST['Train']['Labels']) if j == 0]\n",
    "print(len(positive_indices))\n",
    "negative_indices = [i for i, j in enumerate(MNIST['Train']['Labels'])if j != 0]\n",
    "print(len(negative_indices))"
   ],
   "id": "2f714f4c2100ac3b",
   "outputs": [
    {
     "name": "stdout",
     "output_type": "stream",
     "text": [
      "4932\n",
      "45068\n"
     ]
    }
   ],
   "execution_count": 166
  },
  {
   "metadata": {},
   "cell_type": "code",
   "outputs": [],
   "execution_count": null,
   "source": [
    "def set_mnist_pos_neg(positive_label):\n",
    "    positive_indices = [i for i, j in enumerate(MNIST['Train']['Labels'])\n",
    "                        if j == positive_label]\n",
    "    negative_indices = [i for i, j in enumerate(MNIST['Train']['Labels'])\n",
    "                        if j != positive_label]\n",
    "\n",
    "    positive_images = MNIST['Train']['Features'][positive_indices]\n",
    "    negative_images = MNIST['Train']['Features'][negative_indices]\n",
    "\n",
    "    fig = pylab.figure()\n",
    "    ax = fig.add_subplot(1, 2, 1)\n",
    "    pylab.imshow(positive_images[0].reshape(28, 28), cmap='gray', interpolation='nearest')\n",
    "    ax.set_xticks([])\n",
    "    ax.set_yticks([])\n",
    "    ax = fig.add_subplot(1, 2, 2)\n",
    "    pylab.imshow(negative_images[0].reshape(28, 28), cmap='gray', interpolation='nearest')\n",
    "    ax.set_xticks([])\n",
    "    ax.set_yticks([])\n",
    "    pylab.show()\n",
    "\n",
    "    return positive_images, negative_images"
   ],
   "id": "29a6780768f600fd"
  },
  {
   "metadata": {},
   "cell_type": "markdown",
   "source": "### train the model",
   "id": "e3c5eab180b630d6"
  },
  {
   "metadata": {
    "ExecuteTime": {
     "end_time": "2025-07-08T09:11:18.440248Z",
     "start_time": "2025-07-08T09:11:18.432789Z"
    }
   },
   "cell_type": "code",
   "source": [
    "def train_graph(weights, positive_examples, negative_examples, num_iterations=100):\n",
    "    if len(weights) == 0:\n",
    "        num_dims = positive_examples.shape[1]\n",
    "        weights = np.zeros((num_dims, 1))  # initialize weights\n",
    "\n",
    "    pos_count = positive_examples.shape[0]\n",
    "    neg_count = negative_examples.shape[0]\n",
    "\n",
    "    report_frequency = 15\n",
    "    snapshots = []\n",
    "\n",
    "    for i in range(num_iterations):\n",
    "        pos = random.choice(positive_examples)\n",
    "        neg = random.choice(negative_examples)\n",
    "\n",
    "        z = np.dot(pos, weights)\n",
    "        if z < 0:\n",
    "            weights = weights + pos.reshape(weights.shape)\n",
    "\n",
    "        z = np.dot(neg, weights)\n",
    "        if z >= 0:\n",
    "            weights = weights - neg.reshape(weights.shape)\n",
    "\n",
    "        if i % report_frequency == 0:\n",
    "            pos_out = np.dot(positive_examples, weights)\n",
    "            neg_out = np.dot(negative_examples, weights)\n",
    "            pos_correct = (pos_out >= 0).sum() / float(pos_count)\n",
    "            neg_correct = (neg_out < 0).sum() / float(neg_count)\n",
    "            # make correction a list so it is homogeneous to weights list then numpy array accepts\n",
    "            snapshots.append((weights.flatten(), (pos_correct + neg_correct) / 2.0))\n",
    "\n",
    "    return np.array(snapshots, dtype=object)  # Use dtype=object for mixed types"
   ],
   "id": "3640e990c259d128",
   "outputs": [],
   "execution_count": 83
  },
  {
   "metadata": {
    "ExecuteTime": {
     "end_time": "2025-07-08T08:05:14.724146Z",
     "start_time": "2025-07-08T08:05:14.715069Z"
    }
   },
   "cell_type": "code",
   "source": [
    "def plotit2(snapshots_mn, step):\n",
    "    fig = pylab.figure(figsize=(10, 4))\n",
    "    ax = fig.add_subplot(1, 2, 1)\n",
    "    pylab.imshow(snapshots_mn[step][0].reshape(28, 28), interpolation='nearest')\n",
    "    ax.set_xticks([])\n",
    "    ax.set_yticks([])\n",
    "    pylab.colorbar()\n",
    "    ax = fig.add_subplot(1, 2, 2)\n",
    "    ax.set_ylim([0, 1])\n",
    "    pylab.plot(np.arange(len(snapshots_mn[:, 1])), snapshots_mn[:, 1])\n",
    "    pylab.plot(step, snapshots_mn[step, 1], \"bo\")\n",
    "    pylab.show()\n",
    "\n",
    "\n",
    "def pl3(step): plotit2(snapshots_mn, step)"
   ],
   "id": "50ab37a9593a9185",
   "outputs": [],
   "execution_count": 27
  },
  {
   "metadata": {},
   "cell_type": "markdown",
   "source": "#### train classifier for 1 vs 0",
   "id": "6d768b65f90f90eb"
  },
  {
   "metadata": {},
   "cell_type": "code",
   "source": [
    "pos1, neg1 = set_mnist_pos_neg(1, 0)\n",
    "snapshots_mn = train_graph(pos1, neg1, 1000)\n",
    "interact(pl3, step=widgets.IntSlider(value=0, min=0, max=len(snapshots_mn) - 1))"
   ],
   "id": "c20143328e5b3e13",
   "outputs": [],
   "execution_count": null
  },
  {
   "metadata": {
    "ExecuteTime": {
     "end_time": "2025-07-08T08:59:58.580031Z",
     "start_time": "2025-07-08T08:59:58.559742Z"
    }
   },
   "cell_type": "code",
   "source": [
    "cal_weights_1_vs_0 = snapshots_mn[len(snapshots_mn) -1 ][0]\n",
    "print(cal_weights_1_vs_0)"
   ],
   "id": "f007eb3a97922e4a",
   "outputs": [
    {
     "name": "stdout",
     "output_type": "stream",
     "text": [
      "[ 0.00000000e+00  0.00000000e+00  0.00000000e+00  0.00000000e+00\n",
      "  0.00000000e+00  0.00000000e+00  0.00000000e+00  0.00000000e+00\n",
      "  0.00000000e+00  0.00000000e+00  0.00000000e+00  0.00000000e+00\n",
      "  0.00000000e+00  0.00000000e+00  0.00000000e+00  0.00000000e+00\n",
      "  0.00000000e+00  0.00000000e+00  0.00000000e+00  0.00000000e+00\n",
      "  0.00000000e+00  0.00000000e+00  0.00000000e+00  0.00000000e+00\n",
      "  0.00000000e+00  0.00000000e+00  0.00000000e+00  0.00000000e+00\n",
      "  0.00000000e+00  0.00000000e+00  0.00000000e+00  0.00000000e+00\n",
      "  0.00000000e+00  0.00000000e+00  0.00000000e+00  0.00000000e+00\n",
      "  0.00000000e+00  0.00000000e+00  0.00000000e+00  0.00000000e+00\n",
      "  0.00000000e+00  0.00000000e+00  3.98437500e-01  9.96093750e-01\n",
      "  1.28906250e-01  0.00000000e+00  0.00000000e+00  0.00000000e+00\n",
      "  0.00000000e+00  0.00000000e+00  0.00000000e+00  0.00000000e+00\n",
      "  0.00000000e+00  0.00000000e+00  0.00000000e+00  0.00000000e+00\n",
      "  0.00000000e+00  0.00000000e+00  0.00000000e+00  0.00000000e+00\n",
      "  0.00000000e+00  0.00000000e+00  0.00000000e+00  0.00000000e+00\n",
      "  0.00000000e+00  0.00000000e+00  0.00000000e+00  0.00000000e+00\n",
      "  0.00000000e+00 -7.53906250e-01 -3.12500000e-01  1.98828125e+00\n",
      "  7.42187500e-01  7.81250000e-03  4.57031250e-01  9.88281250e-01\n",
      "  2.34375000e-01  0.00000000e+00  0.00000000e+00  0.00000000e+00\n",
      "  0.00000000e+00  0.00000000e+00  0.00000000e+00  0.00000000e+00\n",
      "  0.00000000e+00  0.00000000e+00  0.00000000e+00  0.00000000e+00\n",
      "  0.00000000e+00  0.00000000e+00 -2.14843750e-01 -9.25781250e-01\n",
      " -9.92187500e-01 -9.96093750e-01 -3.32031250e-01 -2.07031250e-01\n",
      " -9.33593750e-01 -1.01562500e+00 -4.07031250e+00 -3.13671875e+00\n",
      " -8.04687500e-01  1.51953125e+00  3.38281250e+00  3.42187500e+00\n",
      "  2.07031250e-01 -8.35937500e-01  0.00000000e+00  0.00000000e+00\n",
      "  0.00000000e+00  0.00000000e+00  0.00000000e+00  0.00000000e+00\n",
      "  0.00000000e+00  0.00000000e+00  0.00000000e+00  0.00000000e+00\n",
      "  0.00000000e+00 -1.34375000e+00 -1.90625000e+00 -1.58203125e+00\n",
      "  6.28906250e-01  2.03125000e-01 -1.75000000e+00 -3.01953125e+00\n",
      " -3.14062500e+00 -2.45312500e+00 -3.01171875e+00 -7.53906250e-01\n",
      "  1.98437500e+00  1.39843750e+00  3.01953125e+00  2.41015625e+00\n",
      " -5.46875000e-02 -1.10156250e+00 -4.64843750e-01  0.00000000e+00\n",
      "  0.00000000e+00  0.00000000e+00  0.00000000e+00  0.00000000e+00\n",
      "  0.00000000e+00  0.00000000e+00  0.00000000e+00  0.00000000e+00\n",
      "  0.00000000e+00 -1.55859375e+00 -1.94531250e+00 -1.25390625e+00\n",
      "  5.23437500e-01 -1.49609375e+00 -2.92187500e+00 -3.89062500e+00\n",
      " -3.33593750e+00 -2.87500000e+00 -1.98828125e+00 -3.89453125e+00\n",
      " -5.07031250e+00 -7.22656250e-01  1.28125000e+00  1.61718750e+00\n",
      "  7.42187500e-02  5.03906250e-01  9.68750000e-01  2.44140625e+00\n",
      "  1.83984375e+00  0.00000000e+00  0.00000000e+00  0.00000000e+00\n",
      "  0.00000000e+00  0.00000000e+00  0.00000000e+00  0.00000000e+00\n",
      "  0.00000000e+00 -6.91406250e-01 -9.96093750e-01 -9.21875000e-01\n",
      " -3.90625000e-03 -2.33984375e+00 -3.84765625e+00 -2.73046875e+00\n",
      " -5.11718750e-01 -4.64843750e-01 -4.68750000e-01 -2.68750000e+00\n",
      " -3.65234375e+00  1.32812500e-01  1.20703125e+00  1.41015625e+00\n",
      "  7.61718750e-01 -1.62109375e+00 -4.29687500e-01  1.70312500e+00\n",
      "  1.46875000e+00  0.00000000e+00  0.00000000e+00  0.00000000e+00\n",
      "  0.00000000e+00  0.00000000e+00  0.00000000e+00  0.00000000e+00\n",
      "  0.00000000e+00  0.00000000e+00 -8.98437500e-02 -5.19531250e-01\n",
      " -1.38281250e+00 -3.53515625e+00 -3.65625000e+00  1.22265625e+00\n",
      "  6.25000000e-01 -1.66406250e+00 -5.23437500e-01  1.22265625e+00\n",
      " -6.28906250e-01  6.01562500e-01 -1.29687500e+00 -5.46875000e-02\n",
      "  8.20312500e-02 -1.82031250e+00 -6.01562500e-01  1.74609375e+00\n",
      "  8.59375000e-01  0.00000000e+00  0.00000000e+00  0.00000000e+00\n",
      "  0.00000000e+00  0.00000000e+00  0.00000000e+00  0.00000000e+00\n",
      "  0.00000000e+00 -2.03125000e-01  9.37500000e-02 -6.05468750e-01\n",
      " -3.57421875e+00 -3.99609375e+00 -2.84375000e+00  2.69531250e-01\n",
      " -2.07812500e+00 -3.41796875e+00  5.70312500e-01  3.11328125e+00\n",
      "  5.07812500e-02 -5.31250000e-01 -2.98828125e+00  6.36718750e-01\n",
      " -9.45312500e-01 -7.92968750e-01 -1.21093750e-01  1.55078125e+00\n",
      "  3.67187500e-01  0.00000000e+00  0.00000000e+00  0.00000000e+00\n",
      "  0.00000000e+00  0.00000000e+00  0.00000000e+00  0.00000000e+00\n",
      "  0.00000000e+00 -4.49218750e-01 -4.29687500e-01 -2.66015625e+00\n",
      " -3.81250000e+00 -3.80859375e+00 -9.29687500e-01 -1.12890625e+00\n",
      " -9.60937500e-01  2.34375000e-02  0.00000000e+00  3.79687500e+00\n",
      "  3.58203125e+00 -1.35156250e+00 -1.84375000e+00 -1.75781250e-01\n",
      " -1.80468750e+00 -1.04687500e+00 -1.05468750e-01 -1.64062500e-01\n",
      "  1.36718750e-01  0.00000000e+00  0.00000000e+00  0.00000000e+00\n",
      "  0.00000000e+00  0.00000000e+00  0.00000000e+00  0.00000000e+00\n",
      "  0.00000000e+00 -4.64843750e-01 -1.23828125e+00 -2.23046875e+00\n",
      " -1.60156250e+00 -1.35156250e+00 -2.50000000e-01  3.75000000e-01\n",
      "  2.89843750e+00  2.12890625e+00  1.16796875e+00  3.87890625e+00\n",
      "  1.21484375e+00  9.80468750e-01 -1.99218750e-01 -3.67187500e-01\n",
      " -1.37109375e+00 -3.63281250e-01 -1.16015625e+00 -9.53125000e-01\n",
      "  0.00000000e+00  0.00000000e+00  0.00000000e+00  0.00000000e+00\n",
      "  0.00000000e+00  0.00000000e+00  0.00000000e+00  8.59375000e-02\n",
      "  1.25000000e-01 -6.05468750e-01 -9.88281250e-01 -1.72656250e+00\n",
      " -1.24609375e+00 -1.32421875e+00  4.88281250e-01  2.12890625e+00\n",
      "  5.33593750e+00  7.63281250e+00  4.96875000e+00  4.68359375e+00\n",
      "  3.25781250e+00  5.31250000e-01 -1.95312500e+00 -1.92187500e+00\n",
      " -2.33593750e+00 -2.33984375e+00 -1.97265625e+00 -1.06640625e+00\n",
      "  0.00000000e+00  0.00000000e+00  0.00000000e+00  0.00000000e+00\n",
      "  0.00000000e+00  0.00000000e+00  0.00000000e+00  5.46875000e-02\n",
      "  5.46875000e-02 -9.92187500e-01 -9.88281250e-01 -5.82031250e-01\n",
      " -4.14062500e-01 -3.12500000e-02  1.68750000e+00  2.44921875e+00\n",
      "  6.49218750e+00  8.96093750e+00  6.75781250e+00  6.49609375e+00\n",
      "  3.42578125e+00  2.05468750e+00 -2.89062500e+00 -3.36328125e+00\n",
      " -2.90625000e+00 -2.07812500e+00 -1.71875000e+00 -4.02343750e-01\n",
      "  0.00000000e+00  0.00000000e+00  0.00000000e+00  0.00000000e+00\n",
      "  0.00000000e+00  0.00000000e+00  0.00000000e+00  0.00000000e+00\n",
      " -3.35937500e-01 -5.11718750e-01 -7.46093750e-01 -5.23437500e-01\n",
      " -9.53125000e-01 -1.34765625e+00 -5.03906250e-01  2.30468750e-01\n",
      "  4.06250000e+00  4.59765625e+00  6.24609375e+00  5.68359375e+00\n",
      "  4.42968750e+00  1.25390625e+00 -5.04296875e+00 -3.91406250e+00\n",
      " -2.01953125e+00 -1.96093750e+00 -1.26953125e+00  0.00000000e+00\n",
      "  0.00000000e+00  0.00000000e+00  0.00000000e+00  0.00000000e+00\n",
      "  0.00000000e+00  0.00000000e+00  0.00000000e+00  0.00000000e+00\n",
      "  0.00000000e+00  0.00000000e+00  0.00000000e+00 -7.69531250e-01\n",
      " -1.44531250e+00 -2.04296875e+00 -3.71484375e+00 -3.77343750e+00\n",
      "  4.76562500e-01  3.73828125e+00  6.05859375e+00  3.82421875e+00\n",
      "  3.10546875e+00 -1.97656250e+00 -6.22656250e+00 -3.33593750e+00\n",
      " -1.07812500e+00 -1.91015625e+00 -1.23437500e+00 -4.76562500e-01\n",
      " -6.64062500e-01 -9.92187500e-01  0.00000000e+00  0.00000000e+00\n",
      "  0.00000000e+00  0.00000000e+00  0.00000000e+00  0.00000000e+00\n",
      "  0.00000000e+00  0.00000000e+00 -3.90625000e-02 -2.23437500e+00\n",
      " -4.10156250e+00 -4.52734375e+00 -3.75000000e+00 -1.26953125e+00\n",
      "  1.14062500e+00  3.59765625e+00  5.89062500e+00  5.57812500e+00\n",
      "  3.55468750e+00 -7.30468750e+00 -6.25390625e+00 -2.47656250e+00\n",
      " -1.27343750e+00 -2.31640625e+00 -1.92968750e+00 -9.88281250e-01\n",
      " -8.20312500e-01 -3.39843750e-01  0.00000000e+00  0.00000000e+00\n",
      "  0.00000000e+00  0.00000000e+00  0.00000000e+00  0.00000000e+00\n",
      "  0.00000000e+00  0.00000000e+00 -5.35156250e-01 -2.48046875e+00\n",
      " -5.75000000e+00 -5.54687500e+00 -1.98046875e+00 -7.92968750e-01\n",
      " -1.24218750e+00  3.75390625e+00  4.75781250e+00  7.00781250e+00\n",
      "  3.18750000e+00 -6.41015625e+00 -5.74218750e+00 -1.66406250e+00\n",
      " -2.19531250e+00 -2.58984375e+00 -2.13281250e+00 -5.82031250e-01\n",
      " -3.39843750e-01 -4.17968750e-01 -4.17968750e-01  0.00000000e+00\n",
      "  0.00000000e+00  0.00000000e+00  0.00000000e+00  0.00000000e+00\n",
      "  0.00000000e+00 -3.43750000e-01 -1.23828125e+00 -2.84765625e+00\n",
      " -5.48828125e+00 -3.48437500e+00 -2.55859375e+00 -5.32031250e+00\n",
      " -2.09765625e+00 -4.60937500e-01  2.93359375e+00  5.36718750e+00\n",
      "  1.11328125e+00 -5.56250000e+00 -4.69140625e+00 -2.57812500e+00\n",
      " -3.27343750e+00 -2.55859375e+00 -1.95312500e+00 -1.63281250e+00\n",
      " -3.67187500e-01 -5.62500000e-01 -3.35937500e-01  0.00000000e+00\n",
      "  0.00000000e+00  0.00000000e+00  0.00000000e+00  0.00000000e+00\n",
      " -1.87500000e-01  1.56250000e-02 -1.98046875e+00 -3.82031250e+00\n",
      " -3.30078125e+00 -1.57812500e+00 -6.70312500e+00 -4.19531250e+00\n",
      " -2.58984375e+00 -3.41015625e+00  2.01953125e+00  1.63671875e+00\n",
      "  3.55468750e-01 -2.74609375e+00 -2.18750000e+00 -3.34375000e+00\n",
      " -2.88671875e+00 -2.73437500e-01 -5.31250000e-01 -7.57812500e-01\n",
      " -3.63281250e-01  0.00000000e+00  0.00000000e+00  0.00000000e+00\n",
      "  0.00000000e+00  0.00000000e+00  0.00000000e+00 -1.99218750e-01\n",
      " -9.29687500e-01  5.19531250e-01 -5.39062500e-01 -4.76562500e-01\n",
      " -1.72656250e+00 -2.84765625e+00 -5.06640625e+00 -3.34765625e+00\n",
      " -1.57031250e+00 -3.98046875e+00  1.13281250e+00  2.55078125e+00\n",
      "  1.91406250e+00  8.71093750e-01 -4.92187500e-01 -2.15234375e+00\n",
      " -1.37500000e+00  1.25781250e+00  1.44531250e-01 -6.75781250e-01\n",
      " -3.71093750e-01  4.41406250e-01  0.00000000e+00  0.00000000e+00\n",
      "  0.00000000e+00  0.00000000e+00  0.00000000e+00 -4.41406250e-01\n",
      " -2.22656250e-01  6.17187500e-01  2.25000000e+00 -1.79687500e-01\n",
      " -6.52343750e-01 -6.40625000e-01 -2.60156250e+00 -2.10546875e+00\n",
      " -3.62109375e+00 -4.21093750e+00  2.68359375e+00  4.12890625e+00\n",
      "  2.83984375e+00  4.68750000e-02 -5.82031250e-01 -7.81250000e-01\n",
      "  6.64062500e-02 -7.81250000e-03 -9.02343750e-01 -1.23046875e+00\n",
      "  1.40625000e-01  3.47656250e-01  0.00000000e+00  0.00000000e+00\n",
      "  0.00000000e+00  0.00000000e+00  0.00000000e+00 -8.67187500e-01\n",
      " -9.10156250e-01  6.17187500e-01  1.71875000e-01 -1.17968750e+00\n",
      " -7.81250000e-01 -2.69531250e-01 -3.36328125e+00 -2.96093750e+00\n",
      " -4.36718750e+00 -4.49218750e-01  3.85546875e+00  1.63671875e+00\n",
      " -1.49609375e+00 -1.30078125e+00 -9.17968750e-01 -6.87500000e-01\n",
      " -7.26562500e-01 -1.60546875e+00 -2.27734375e+00 -1.16406250e+00\n",
      " -3.78906250e-01  0.00000000e+00  0.00000000e+00  0.00000000e+00\n",
      "  0.00000000e+00  0.00000000e+00  0.00000000e+00 -9.88281250e-01\n",
      " -9.45312500e-01  1.42578125e+00  7.07031250e-01 -1.75781250e+00\n",
      "  1.17187500e-02  1.32812500e-01 -1.92968750e+00 -2.79296875e+00\n",
      " -1.28906250e+00  5.07812500e-01  1.00390625e+00 -5.07812500e-02\n",
      " -1.14062500e+00 -1.62500000e+00 -1.62890625e+00 -2.35156250e+00\n",
      " -8.32031250e-01 -1.32421875e+00 -1.57421875e+00 -4.29687500e-01\n",
      "  0.00000000e+00  0.00000000e+00  0.00000000e+00  0.00000000e+00\n",
      "  0.00000000e+00  0.00000000e+00  0.00000000e+00 -4.37500000e-01\n",
      " -2.14843750e-01  2.28906250e+00  1.71093750e+00  8.98437500e-01\n",
      "  1.01171875e+00  3.24218750e-01  2.26562500e-01  2.22656250e-01\n",
      "  1.17187500e-02  1.94531250e+00  4.68750000e-02  7.89062500e-01\n",
      "  8.20312500e-02 -8.78906250e-01 -1.69531250e+00 -1.08593750e+00\n",
      " -4.76562500e-01 -1.15234375e+00 -6.87500000e-01 -2.73437500e-02\n",
      "  0.00000000e+00  0.00000000e+00  0.00000000e+00  0.00000000e+00\n",
      "  0.00000000e+00  0.00000000e+00  0.00000000e+00  0.00000000e+00\n",
      "  7.81250000e-03  2.06640625e+00  1.65234375e+00  2.20703125e+00\n",
      "  1.75390625e+00  1.46093750e+00  7.53906250e-01  3.32031250e-01\n",
      " -3.94531250e-01 -2.46875000e+00 -2.62500000e+00 -1.98046875e+00\n",
      " -1.94140625e+00 -1.94921875e+00 -1.38671875e+00 -1.54296875e+00\n",
      " -1.15625000e+00 -9.92187500e-01 -2.07031250e-01  0.00000000e+00\n",
      "  0.00000000e+00  0.00000000e+00  0.00000000e+00  0.00000000e+00\n",
      "  0.00000000e+00  0.00000000e+00  0.00000000e+00  0.00000000e+00\n",
      "  0.00000000e+00  0.00000000e+00  0.00000000e+00  0.00000000e+00\n",
      "  0.00000000e+00  0.00000000e+00  0.00000000e+00  0.00000000e+00\n",
      "  0.00000000e+00 -4.60937500e-01 -1.31640625e+00 -1.03906250e+00\n",
      " -5.82031250e-01 -8.98437500e-01 -6.17187500e-01 -3.98437500e-01\n",
      "  0.00000000e+00  0.00000000e+00  0.00000000e+00  0.00000000e+00\n",
      "  0.00000000e+00  0.00000000e+00  0.00000000e+00  0.00000000e+00\n",
      "  0.00000000e+00  0.00000000e+00  0.00000000e+00  0.00000000e+00\n",
      "  0.00000000e+00  0.00000000e+00  0.00000000e+00  0.00000000e+00\n",
      "  0.00000000e+00  0.00000000e+00  0.00000000e+00  0.00000000e+00\n",
      "  0.00000000e+00  0.00000000e+00  0.00000000e+00  0.00000000e+00\n",
      "  0.00000000e+00  0.00000000e+00  0.00000000e+00  0.00000000e+00\n",
      "  0.00000000e+00  0.00000000e+00  0.00000000e+00  0.00000000e+00\n",
      "  0.00000000e+00  0.00000000e+00  0.00000000e+00  0.00000000e+00\n",
      "  0.00000000e+00  0.00000000e+00  0.00000000e+00  0.00000000e+00\n",
      "  0.00000000e+00  0.00000000e+00  0.00000000e+00  0.00000000e+00\n",
      "  0.00000000e+00  0.00000000e+00  0.00000000e+00  0.00000000e+00\n",
      "  0.00000000e+00  0.00000000e+00  0.00000000e+00  0.00000000e+00\n",
      "  0.00000000e+00  0.00000000e+00  0.00000000e+00  0.00000000e+00\n",
      "  0.00000000e+00  0.00000000e+00  0.00000000e+00  0.00000000e+00\n",
      "  0.00000000e+00  0.00000000e+00  0.00000000e+00  0.00000000e+00]\n"
     ]
    }
   ],
   "execution_count": 75
  },
  {
   "metadata": {},
   "cell_type": "markdown",
   "source": "#### train this digit vs. all other digits",
   "id": "fce762c6f20c3d83"
  },
  {
   "metadata": {},
   "cell_type": "code",
   "source": [
    "cal_weights = []\n",
    "for i in range(10):\n",
    "    cal_weight = []\n",
    "    pos_digit = i\n",
    "    neg_digit = 0\n",
    "    while True:\n",
    "        if neg_digit == pos_digit:\n",
    "            print('Skipping current digit:', neg_digit, ', because it equals pos_digit', pos_digit)\n",
    "            neg_digit += 1\n",
    "            continue\n",
    "        if neg_digit > 9:\n",
    "            break\n",
    "        pos_img, neg_img = set_mnist_pos_neg(pos_digit, neg_digit)\n",
    "        train_result = train_graph(cal_weight, pos_img, neg_img, 2000)\n",
    "        cal_weight = train_result[len(train_result) - 1][0]\n",
    "        neg_digit += 1\n",
    "    cal_weights.append(cal_weight)"
   ],
   "id": "fea3d396d3f3580f",
   "outputs": [],
   "execution_count": null
  },
  {
   "metadata": {},
   "cell_type": "code",
   "source": [
    "pos1, neg1 = set_mnist_pos_neg(1, 2)\n",
    "snapshots_mn = train_graph(cal_weights_1_vs_0, pos1, neg1, 1000)\n",
    "interact(pl3, step=widgets.IntSlider(value=0, min=0, max=len(snapshots_mn) - 1))\n",
    "cal_weights_1_vs_2 = snapshots_mn[66][0]"
   ],
   "id": "4d69956108be9165",
   "outputs": [],
   "execution_count": null
  },
  {
   "metadata": {},
   "cell_type": "markdown",
   "source": "### Utility functions",
   "id": "dd173936fcfc6a96"
  },
  {
   "metadata": {
    "ExecuteTime": {
     "end_time": "2025-07-08T08:20:34.302718Z",
     "start_time": "2025-07-08T08:20:34.290752Z"
    }
   },
   "cell_type": "code",
   "source": [
    "# show_image function to display an image with its label\n",
    "def show_image(image, label):\n",
    "    fig = pylab.figure(figsize=(2, 2))\n",
    "    ax = fig.add_subplot(1, 1, 1)\n",
    "    pylab.imshow(image.reshape(28, 28), cmap='gray', interpolation='nearest')\n",
    "    ax.set_title('Image is: ' + str(label))\n",
    "    ax.set_xticks([])\n",
    "    ax.set_yticks([])\n",
    "    pylab.show()"
   ],
   "id": "4181c404d7393db9",
   "outputs": [],
   "execution_count": 37
  },
  {
   "metadata": {
    "ExecuteTime": {
     "end_time": "2025-07-08T08:18:58.116190Z",
     "start_time": "2025-07-08T08:18:58.109583Z"
    }
   },
   "cell_type": "code",
   "source": [
    "# Function to get a random test data point\n",
    "def random_get_test_data():\n",
    "    random_index = random.randint(0, len(MNIST['Test']['Features']) - 1)\n",
    "    return MNIST['Test']['Features'][random_index], MNIST['Test']['Labels'][random_index]"
   ],
   "id": "9a44f69d573f06a0",
   "outputs": [],
   "execution_count": 33
  },
  {
   "metadata": {},
   "cell_type": "code",
   "source": [
    "random_test_image, random_test_label = random_get_test_data()\n",
    "print(\"Random Test Image Label: \", random_test_label)\n",
    "show_image(random_test_image, random_test_label)\n",
    "# random_test_data = random.choice(MNIST['Train']['Features'])\n",
    "# print(random_test_data)\n",
    "# show_image(random_test_data)"
   ],
   "id": "3219f078c612fb7f",
   "outputs": [],
   "execution_count": null
  },
  {
   "metadata": {},
   "cell_type": "markdown",
   "source": "### Predict the labels",
   "id": "454838ba475b53bb"
  },
  {
   "metadata": {},
   "cell_type": "markdown",
   "source": "#### manually check the prediction",
   "id": "3ada4e883d732cc9"
  },
  {
   "metadata": {},
   "cell_type": "code",
   "source": [
    "test_image, test_label = random_get_test_data()\n",
    "show_image(test_image, test_label)\n",
    "z = np.dot(test_image, cal_weights)\n",
    "if z >= 0:\n",
    "    predicted = True\n",
    "else:\n",
    "    predicted = False\n",
    "print(\"Is this data 1: \", predicted)"
   ],
   "id": "3ca5861b7d8f6fe0",
   "outputs": [],
   "execution_count": null
  },
  {
   "metadata": {
    "ExecuteTime": {
     "end_time": "2025-07-09T02:05:48.253283Z",
     "start_time": "2025-07-09T02:05:48.225839Z"
    }
   },
   "cell_type": "code",
   "source": [
    "np_cal_weights = np.array(cal_weights).transpose()\n",
    "print(np_cal_weights.shape)\n",
    "test_image, test_label = random_get_test_data()\n",
    "np_test_image = np.reshape(test_image, (1, 784))\n",
    "print(np_test_image.shape)\n",
    "z = np.dot(np_test_image, np_cal_weights)\n",
    "print(z)\n",
    "predicted_label = np.argmax(z)\n",
    "show_image(test_image, test_label)\n",
    "print(\"Predicted label: \", predicted_label)\n",
    "print('Actual Label: ', test_label)"
   ],
   "id": "efc10744461c18f0",
   "outputs": [
    {
     "name": "stdout",
     "output_type": "stream",
     "text": [
      "(784, 10)\n",
      "(1, 784)\n",
      "[[ -95.77871704 -160.24307251  -96.25193787  -16.27532959 -341.04147339\n",
      "   -24.62098694 -263.0987854   -45.42134094  106.20681763 -179.17393494]]\n"
     ]
    },
    {
     "data": {
      "text/plain": [
       "<Figure size 200x200 with 1 Axes>"
      ],
      "image/png": "[encoded data removed]"
     },
     "metadata": {},
     "output_type": "display_data"
    },
    {
     "name": "stdout",
     "output_type": "stream",
     "text": [
      "Predicted label:  8\n",
      "Actual Label:  3\n"
     ]
    }
   ],
   "execution_count": 151
  },
  {
   "metadata": {},
   "cell_type": "markdown",
   "source": "#### batch prediction",
   "id": "da5721726d6c8731"
  },
  {
   "metadata": {
    "ExecuteTime": {
     "end_time": "2025-07-08T10:08:58.848592Z",
     "start_time": "2025-07-08T10:08:58.832731Z"
    }
   },
   "cell_type": "code",
   "source": [
    "incorrect_count = 0\n",
    "incorrect_images = []\n",
    "for i in range(1000):\n",
    "    test_image, test_label = random_get_test_data()\n",
    "    z = np.dot(test_image, cal_weights)\n",
    "    if z >= 0:\n",
    "        predicted = True\n",
    "    else:\n",
    "        incorrect_count += 1\n",
    "        incorrect_images.append([test_image, test_label])\n",
    "print(\"Is this data 1? Test 1000 times. The accuracy is: \", 1 - (incorrect_count / 1000))"
   ],
   "id": "79885128fc49675e",
   "outputs": [
    {
     "name": "stdout",
     "output_type": "stream",
     "text": [
      "Is this data 1? Test 1000 times. The accuracy is:  1.0\n"
     ]
    }
   ],
   "execution_count": 105
  },
  {
   "metadata": {
    "ExecuteTime": {
     "end_time": "2025-07-09T02:09:29.259726Z",
     "start_time": "2025-07-09T02:09:29.246802Z"
    }
   },
   "cell_type": "code",
   "source": [
    "np_cal_weights = np.array(cal_weights).transpose()\n",
    "incorrect_count = 0\n",
    "incorrect_images = []\n",
    "for i in range(1000):\n",
    "    test_image, test_label = random_get_test_data()\n",
    "    np_test_image = np.reshape(test_image, (1, 784))\n",
    "    z = np.dot(np_test_image, np_cal_weights)\n",
    "    predicted_label = np.argmax(z)\n",
    "    if predicted_label != test_label:\n",
    "        incorrect_count += 1\n",
    "        incorrect_images.append([test_image, test_label])\n",
    "print(\"Test 1000 times. The accuracy is: \", 1 - (incorrect_count / 1000))"
   ],
   "id": "def105b92a0c0a66",
   "outputs": [
    {
     "name": "stdout",
     "output_type": "stream",
     "text": [
      "Test 1000 times. The accuracy is:  0.5900000000000001\n"
     ]
    }
   ],
   "execution_count": 163
  },
  {
   "metadata": {
    "ExecuteTime": {
     "end_time": "2025-07-08T10:08:36.661154Z",
     "start_time": "2025-07-08T10:08:36.652133Z"
    }
   },
   "cell_type": "code",
   "source": "len(MNIST['Test']['Features'])",
   "id": "c846a3e9bf4193ff",
   "outputs": [
    {
     "data": {
      "text/plain": [
       "10000"
      ]
     },
     "execution_count": 104,
     "metadata": {},
     "output_type": "execute_result"
    }
   ],
   "execution_count": 104
  }
 ],
 "metadata": {
  "kernelspec": {
   "display_name": "Python 3",
   "language": "python",
   "name": "python3"
  },
  "language_info": {
   "codemirror_mode": {
    "name": "ipython",
    "version": 2
   },
   "file_extension": ".py",
   "mimetype": "text/x-python",
   "name": "python",
   "nbconvert_exporter": "python",
   "pygments_lexer": "ipython2",
   "version": "2.7.6"
  }
 },
 "nbformat": 4,
 "nbformat_minor": 5
}
