{
 "cells": [
  {
   "metadata": {},
   "cell_type": "markdown",
   "source": "## Multi-Class Classification with Perceptron",
   "id": "a8aa4eb4ec59947"
  },
  {
   "metadata": {},
   "cell_type": "markdown",
   "source": "### Prepare the data",
   "id": "c74c6f0749638807"
  },
  {
   "cell_type": "code",
   "id": "initial_id",
   "metadata": {
    "collapsed": true,
    "ExecuteTime": {
     "end_time": "2025-07-08T06:43:44.992605Z",
     "start_time": "2025-07-08T06:43:44.971835Z"
    }
   },
   "source": [
    "import pylab\n",
    "from matplotlib import gridspec\n",
    "from sklearn.datasets import make_classification\n",
    "import numpy as np\n",
    "from ipywidgets import interact, interactive, fixed\n",
    "import ipywidgets as widgets\n",
    "import pickle\n",
    "import os\n",
    "import gzip\n",
    "\n",
    "# pick the seed for reproducability - change it to explore the effects of random variations\n",
    "np.random.seed(1)\n",
    "import random\n"
   ],
   "outputs": [],
   "execution_count": 2
  },
  {
   "metadata": {},
   "cell_type": "markdown",
   "source": "#### import the data",
   "id": "2b964e9cd6abb992"
  },
  {
   "metadata": {
    "ExecuteTime": {
     "end_time": "2025-07-08T06:43:48.342904Z",
     "start_time": "2025-07-08T06:43:47.856573Z"
    }
   },
   "cell_type": "code",
   "source": [
    "\n",
    "with gzip.open(\"../mnist.pkl.gz\", \"rb\") as f:\n",
    "    MNIST = pickle.load(f, encoding=\"latin1\")  # or encoding=\"bytes\"\n",
    "\n",
    "# unpack once\n",
    "(train_set, valid_set, test_set) = MNIST\n",
    "\n",
    "# rebuild the structure the notebook assumes\n",
    "MNIST = {\n",
    "    \"Train\": {\n",
    "        \"Features\": train_set[0],\n",
    "        \"Labels\": train_set[1],\n",
    "    },\n",
    "    \"Validation\": {\n",
    "        \"Features\": valid_set[0],\n",
    "        \"Labels\": valid_set[1],\n",
    "    },\n",
    "    \"Test\": {\n",
    "        \"Features\": test_set[0],\n",
    "        \"Labels\": test_set[1],\n",
    "    },\n",
    "}"
   ],
   "id": "4cdf13ce8ac9d8cd",
   "outputs": [],
   "execution_count": 3
  },
  {
   "metadata": {},
   "cell_type": "markdown",
   "source": "#### plot the data",
   "id": "756fc24d341d063"
  },
  {
   "metadata": {},
   "cell_type": "code",
   "source": [
    "print(MNIST['Train']['Features'][0][130:180])\n",
    "print(MNIST['Train']['Labels'][0])\n",
    "features = MNIST['Train']['Features'].astype(np.float32) / 256.0\n",
    "labels = MNIST['Train']['Labels']\n",
    "fig = pylab.figure(figsize=(10, 5))\n",
    "for i in range(10):\n",
    "    ax = fig.add_subplot(1, 10, i + 1)\n",
    "    pylab.imshow(features[i].reshape(28, 28))\n",
    "pylab.show()"
   ],
   "id": "691dcfd15321b8ba",
   "outputs": [],
   "execution_count": null
  },
  {
   "metadata": {},
   "cell_type": "markdown",
   "source": "#### get the positive and negative data",
   "id": "236320f347aadd2e"
  },
  {
   "metadata": {
    "ExecuteTime": {
     "end_time": "2025-07-08T07:39:10.954570Z",
     "start_time": "2025-07-08T07:39:10.947736Z"
    }
   },
   "cell_type": "code",
   "source": [
    "def set_mnist_pos_neg(positive_label, negative_label):\n",
    "    positive_indices = [i for i, j in enumerate(MNIST['Train']['Labels'])\n",
    "                        if j == positive_label]\n",
    "    negative_indices = [i for i, j in enumerate(MNIST['Train']['Labels'])\n",
    "                        if j == negative_label]\n",
    "\n",
    "    positive_images = MNIST['Train']['Features'][positive_indices]\n",
    "    negative_images = MNIST['Train']['Features'][negative_indices]\n",
    "\n",
    "    fig = pylab.figure()\n",
    "    ax = fig.add_subplot(1, 2, 1)\n",
    "    pylab.imshow(positive_images[0].reshape(28, 28), cmap='gray', interpolation='nearest')\n",
    "    ax.set_xticks([])\n",
    "    ax.set_yticks([])\n",
    "    ax = fig.add_subplot(1, 2, 2)\n",
    "    pylab.imshow(negative_images[0].reshape(28, 28), cmap='gray', interpolation='nearest')\n",
    "    ax.set_xticks([])\n",
    "    ax.set_yticks([])\n",
    "    pylab.show()\n",
    "\n",
    "    return positive_images, negative_images"
   ],
   "id": "724945a37817aad7",
   "outputs": [],
   "execution_count": 6
  },
  {
   "metadata": {},
   "cell_type": "markdown",
   "source": "### train the model",
   "id": "e3c5eab180b630d6"
  },
  {
   "metadata": {
    "ExecuteTime": {
     "end_time": "2025-07-08T09:11:18.440248Z",
     "start_time": "2025-07-08T09:11:18.432789Z"
    }
   },
   "cell_type": "code",
   "source": [
    "def train_graph(weights, positive_examples, negative_examples, num_iterations=100):\n",
    "    if len(weights) == 0:\n",
    "        num_dims = positive_examples.shape[1]\n",
    "        weights = np.zeros((num_dims, 1))  # initialize weights\n",
    "\n",
    "    pos_count = positive_examples.shape[0]\n",
    "    neg_count = negative_examples.shape[0]\n",
    "\n",
    "    report_frequency = 15\n",
    "    snapshots = []\n",
    "\n",
    "    for i in range(num_iterations):\n",
    "        pos = random.choice(positive_examples)\n",
    "        neg = random.choice(negative_examples)\n",
    "\n",
    "        z = np.dot(pos, weights)\n",
    "        if z < 0:\n",
    "            weights = weights + pos.reshape(weights.shape)\n",
    "\n",
    "        z = np.dot(neg, weights)\n",
    "        if z >= 0:\n",
    "            weights = weights - neg.reshape(weights.shape)\n",
    "\n",
    "        if i % report_frequency == 0:\n",
    "            pos_out = np.dot(positive_examples, weights)\n",
    "            neg_out = np.dot(negative_examples, weights)\n",
    "            pos_correct = (pos_out >= 0).sum() / float(pos_count)\n",
    "            neg_correct = (neg_out < 0).sum() / float(neg_count)\n",
    "            # make correction a list so it is homogeneous to weights list then numpy array accepts\n",
    "            snapshots.append((weights.flatten(), (pos_correct + neg_correct) / 2.0))\n",
    "\n",
    "    return np.array(snapshots, dtype=object)  # Use dtype=object for mixed types"
   ],
   "id": "3640e990c259d128",
   "outputs": [],
   "execution_count": 83
  },
  {
   "metadata": {
    "ExecuteTime": {
     "end_time": "2025-07-08T08:05:14.724146Z",
     "start_time": "2025-07-08T08:05:14.715069Z"
    }
   },
   "cell_type": "code",
   "source": [
    "def plotit2(snapshots_mn, step):\n",
    "    fig = pylab.figure(figsize=(10, 4))\n",
    "    ax = fig.add_subplot(1, 2, 1)\n",
    "    pylab.imshow(snapshots_mn[step][0].reshape(28, 28), interpolation='nearest')\n",
    "    ax.set_xticks([])\n",
    "    ax.set_yticks([])\n",
    "    pylab.colorbar()\n",
    "    ax = fig.add_subplot(1, 2, 2)\n",
    "    ax.set_ylim([0, 1])\n",
    "    pylab.plot(np.arange(len(snapshots_mn[:, 1])), snapshots_mn[:, 1])\n",
    "    pylab.plot(step, snapshots_mn[step, 1], \"bo\")\n",
    "    pylab.show()\n",
    "\n",
    "\n",
    "def pl3(step): plotit2(snapshots_mn, step)"
   ],
   "id": "50ab37a9593a9185",
   "outputs": [],
   "execution_count": 27
  },
  {
   "metadata": {},
   "cell_type": "markdown",
   "source": "#### train classifier for 1 vs 0",
   "id": "6d768b65f90f90eb"
  },
  {
   "metadata": {},
   "cell_type": "code",
   "source": [
    "pos1, neg1 = set_mnist_pos_neg(1, 0)\n",
    "snapshots_mn = train_graph(pos1, neg1, 1000)\n",
    "interact(pl3, step=widgets.IntSlider(value=0, min=0, max=len(snapshots_mn) - 1))"
   ],
   "id": "c20143328e5b3e13",
   "outputs": [],
   "execution_count": null
  },
  {
   "metadata": {
    "ExecuteTime": {
     "end_time": "2025-07-08T08:59:58.580031Z",
     "start_time": "2025-07-08T08:59:58.559742Z"
    }
   },
   "cell_type": "code",
   "source": [
    "cal_weights_1_vs_0 = snapshots_mn[len(snapshots_mn) -1 ][0]\n",
    "print(cal_weights_1_vs_0)"
   ],
   "id": "f007eb3a97922e4a",
   "outputs": [
    {
     "name": "stdout",
     "output_type": "stream",
     "text": [
      "[ 0.00000000e+00  0.00000000e+00  0.00000000e+00  0.00000000e+00\n",
      "  0.00000000e+00  0.00000000e+00  0.00000000e+00  0.00000000e+00\n",
      "  0.00000000e+00  0.00000000e+00  0.00000000e+00  0.00000000e+00\n",
      "  0.00000000e+00  0.00000000e+00  0.00000000e+00  0.00000000e+00\n",
      "  0.00000000e+00  0.00000000e+00  0.00000000e+00  0.00000000e+00\n",
      "  0.00000000e+00  0.00000000e+00  0.00000000e+00  0.00000000e+00\n",
      "  0.00000000e+00  0.00000000e+00  0.00000000e+00  0.00000000e+00\n",
      "  0.00000000e+00  0.00000000e+00  0.00000000e+00  0.00000000e+00\n",
      "  0.00000000e+00  0.00000000e+00  0.00000000e+00  0.00000000e+00\n",
      "  0.00000000e+00  0.00000000e+00  0.00000000e+00  0.00000000e+00\n",
      "  0.00000000e+00  0.00000000e+00  3.98437500e-01  9.96093750e-01\n",
      "  1.28906250e-01  0.00000000e+00  0.00000000e+00  0.00000000e+00\n",
      "  0.00000000e+00  0.00000000e+00  0.00000000e+00  0.00000000e+00\n",
      "  0.00000000e+00  0.00000000e+00  0.00000000e+00  0.00000000e+00\n",
      "  0.00000000e+00  0.00000000e+00  0.00000000e+00  0.00000000e+00\n",
      "  0.00000000e+00  0.00000000e+00  0.00000000e+00  0.00000000e+00\n",
      "  0.00000000e+00  0.00000000e+00  0.00000000e+00  0.00000000e+00\n",
      "  0.00000000e+00 -7.53906250e-01 -3.12500000e-01  1.98828125e+00\n",
      "  7.42187500e-01  7.81250000e-03  4.57031250e-01  9.88281250e-01\n",
      "  2.34375000e-01  0.00000000e+00  0.00000000e+00  0.00000000e+00\n",
      "  0.00000000e+00  0.00000000e+00  0.00000000e+00  0.00000000e+00\n",
      "  0.00000000e+00  0.00000000e+00  0.00000000e+00  0.00000000e+00\n",
      "  0.00000000e+00  0.00000000e+00 -2.14843750e-01 -9.25781250e-01\n",
      " -9.92187500e-01 -9.96093750e-01 -3.32031250e-01 -2.07031250e-01\n",
      " -9.33593750e-01 -1.01562500e+00 -4.07031250e+00 -3.13671875e+00\n",
      " -8.04687500e-01  1.51953125e+00  3.38281250e+00  3.42187500e+00\n",
      "  2.07031250e-01 -8.35937500e-01  0.00000000e+00  0.00000000e+00\n",
      "  0.00000000e+00  0.00000000e+00  0.00000000e+00  0.00000000e+00\n",
      "  0.00000000e+00  0.00000000e+00  0.00000000e+00  0.00000000e+00\n",
      "  0.00000000e+00 -1.34375000e+00 -1.90625000e+00 -1.58203125e+00\n",
      "  6.28906250e-01  2.03125000e-01 -1.75000000e+00 -3.01953125e+00\n",
      " -3.14062500e+00 -2.45312500e+00 -3.01171875e+00 -7.53906250e-01\n",
      "  1.98437500e+00  1.39843750e+00  3.01953125e+00  2.41015625e+00\n",
      " -5.46875000e-02 -1.10156250e+00 -4.64843750e-01  0.00000000e+00\n",
      "  0.00000000e+00  0.00000000e+00  0.00000000e+00  0.00000000e+00\n",
      "  0.00000000e+00  0.00000000e+00  0.00000000e+00  0.00000000e+00\n",
      "  0.00000000e+00 -1.55859375e+00 -1.94531250e+00 -1.25390625e+00\n",
      "  5.23437500e-01 -1.49609375e+00 -2.92187500e+00 -3.89062500e+00\n",
      " -3.33593750e+00 -2.87500000e+00 -1.98828125e+00 -3.89453125e+00\n",
      " -5.07031250e+00 -7.22656250e-01  1.28125000e+00  1.61718750e+00\n",
      "  7.42187500e-02  5.03906250e-01  9.68750000e-01  2.44140625e+00\n",
      "  1.83984375e+00  0.00000000e+00  0.00000000e+00  0.00000000e+00\n",
      "  0.00000000e+00  0.00000000e+00  0.00000000e+00  0.00000000e+00\n",
      "  0.00000000e+00 -6.91406250e-01 -9.96093750e-01 -9.21875000e-01\n",
      " -3.90625000e-03 -2.33984375e+00 -3.84765625e+00 -2.73046875e+00\n",
      " -5.11718750e-01 -4.64843750e-01 -4.68750000e-01 -2.68750000e+00\n",
      " -3.65234375e+00  1.32812500e-01  1.20703125e+00  1.41015625e+00\n",
      "  7.61718750e-01 -1.62109375e+00 -4.29687500e-01  1.70312500e+00\n",
      "  1.46875000e+00  0.00000000e+00  0.00000000e+00  0.00000000e+00\n",
      "  0.00000000e+00  0.00000000e+00  0.00000000e+00  0.00000000e+00\n",
      "  0.00000000e+00  0.00000000e+00 -8.98437500e-02 -5.19531250e-01\n",
      " -1.38281250e+00 -3.53515625e+00 -3.65625000e+00  1.22265625e+00\n",
      "  6.25000000e-01 -1.66406250e+00 -5.23437500e-01  1.22265625e+00\n",
      " -6.28906250e-01  6.01562500e-01 -1.29687500e+00 -5.46875000e-02\n",
      "  8.20312500e-02 -1.82031250e+00 -6.01562500e-01  1.74609375e+00\n",
      "  8.59375000e-01  0.00000000e+00  0.00000000e+00  0.00000000e+00\n",
      "  0.00000000e+00  0.00000000e+00  0.00000000e+00  0.00000000e+00\n",
      "  0.00000000e+00 -2.03125000e-01  9.37500000e-02 -6.05468750e-01\n",
      " -3.57421875e+00 -3.99609375e+00 -2.84375000e+00  2.69531250e-01\n",
      " -2.07812500e+00 -3.41796875e+00  5.70312500e-01  3.11328125e+00\n",
      "  5.07812500e-02 -5.31250000e-01 -2.98828125e+00  6.36718750e-01\n",
      " -9.45312500e-01 -7.92968750e-01 -1.21093750e-01  1.55078125e+00\n",
      "  3.67187500e-01  0.00000000e+00  0.00000000e+00  0.00000000e+00\n",
      "  0.00000000e+00  0.00000000e+00  0.00000000e+00  0.00000000e+00\n",
      "  0.00000000e+00 -4.49218750e-01 -4.29687500e-01 -2.66015625e+00\n",
      " -3.81250000e+00 -3.80859375e+00 -9.29687500e-01 -1.12890625e+00\n",
      " -9.60937500e-01  2.34375000e-02  0.00000000e+00  3.79687500e+00\n",
      "  3.58203125e+00 -1.35156250e+00 -1.84375000e+00 -1.75781250e-01\n",
      " -1.80468750e+00 -1.04687500e+00 -1.05468750e-01 -1.64062500e-01\n",
      "  1.36718750e-01  0.00000000e+00  0.00000000e+00  0.00000000e+00\n",
      "  0.00000000e+00  0.00000000e+00  0.00000000e+00  0.00000000e+00\n",
      "  0.00000000e+00 -4.64843750e-01 -1.23828125e+00 -2.23046875e+00\n",
      " -1.60156250e+00 -1.35156250e+00 -2.50000000e-01  3.75000000e-01\n",
      "  2.89843750e+00  2.12890625e+00  1.16796875e+00  3.87890625e+00\n",
      "  1.21484375e+00  9.80468750e-01 -1.99218750e-01 -3.67187500e-01\n",
      " -1.37109375e+00 -3.63281250e-01 -1.16015625e+00 -9.53125000e-01\n",
      "  0.00000000e+00  0.00000000e+00  0.00000000e+00  0.00000000e+00\n",
      "  0.00000000e+00  0.00000000e+00  0.00000000e+00  8.59375000e-02\n",
      "  1.25000000e-01 -6.05468750e-01 -9.88281250e-01 -1.72656250e+00\n",
      " -1.24609375e+00 -1.32421875e+00  4.88281250e-01  2.12890625e+00\n",
      "  5.33593750e+00  7.63281250e+00  4.96875000e+00  4.68359375e+00\n",
      "  3.25781250e+00  5.31250000e-01 -1.95312500e+00 -1.92187500e+00\n",
      " -2.33593750e+00 -2.33984375e+00 -1.97265625e+00 -1.06640625e+00\n",
      "  0.00000000e+00  0.00000000e+00  0.00000000e+00  0.00000000e+00\n",
      "  0.00000000e+00  0.00000000e+00  0.00000000e+00  5.46875000e-02\n",
      "  5.46875000e-02 -9.92187500e-01 -9.88281250e-01 -5.82031250e-01\n",
      " -4.14062500e-01 -3.12500000e-02  1.68750000e+00  2.44921875e+00\n",
      "  6.49218750e+00  8.96093750e+00  6.75781250e+00  6.49609375e+00\n",
      "  3.42578125e+00  2.05468750e+00 -2.89062500e+00 -3.36328125e+00\n",
      " -2.90625000e+00 -2.07812500e+00 -1.71875000e+00 -4.02343750e-01\n",
      "  0.00000000e+00  0.00000000e+00  0.00000000e+00  0.00000000e+00\n",
      "  0.00000000e+00  0.00000000e+00  0.00000000e+00  0.00000000e+00\n",
      " -3.35937500e-01 -5.11718750e-01 -7.46093750e-01 -5.23437500e-01\n",
      " -9.53125000e-01 -1.34765625e+00 -5.03906250e-01  2.30468750e-01\n",
      "  4.06250000e+00  4.59765625e+00  6.24609375e+00  5.68359375e+00\n",
      "  4.42968750e+00  1.25390625e+00 -5.04296875e+00 -3.91406250e+00\n",
      " -2.01953125e+00 -1.96093750e+00 -1.26953125e+00  0.00000000e+00\n",
      "  0.00000000e+00  0.00000000e+00  0.00000000e+00  0.00000000e+00\n",
      "  0.00000000e+00  0.00000000e+00  0.00000000e+00  0.00000000e+00\n",
      "  0.00000000e+00  0.00000000e+00  0.00000000e+00 -7.69531250e-01\n",
      " -1.44531250e+00 -2.04296875e+00 -3.71484375e+00 -3.77343750e+00\n",
      "  4.76562500e-01  3.73828125e+00  6.05859375e+00  3.82421875e+00\n",
      "  3.10546875e+00 -1.97656250e+00 -6.22656250e+00 -3.33593750e+00\n",
      " -1.07812500e+00 -1.91015625e+00 -1.23437500e+00 -4.76562500e-01\n",
      " -6.64062500e-01 -9.92187500e-01  0.00000000e+00  0.00000000e+00\n",
      "  0.00000000e+00  0.00000000e+00  0.00000000e+00  0.00000000e+00\n",
      "  0.00000000e+00  0.00000000e+00 -3.90625000e-02 -2.23437500e+00\n",
      " -4.10156250e+00 -4.52734375e+00 -3.75000000e+00 -1.26953125e+00\n",
      "  1.14062500e+00  3.59765625e+00  5.89062500e+00  5.57812500e+00\n",
      "  3.55468750e+00 -7.30468750e+00 -6.25390625e+00 -2.47656250e+00\n",
      " -1.27343750e+00 -2.31640625e+00 -1.92968750e+00 -9.88281250e-01\n",
      " -8.20312500e-01 -3.39843750e-01  0.00000000e+00  0.00000000e+00\n",
      "  0.00000000e+00  0.00000000e+00  0.00000000e+00  0.00000000e+00\n",
      "  0.00000000e+00  0.00000000e+00 -5.35156250e-01 -2.48046875e+00\n",
      " -5.75000000e+00 -5.54687500e+00 -1.98046875e+00 -7.92968750e-01\n",
      " -1.24218750e+00  3.75390625e+00  4.75781250e+00  7.00781250e+00\n",
      "  3.18750000e+00 -6.41015625e+00 -5.74218750e+00 -1.66406250e+00\n",
      " -2.19531250e+00 -2.58984375e+00 -2.13281250e+00 -5.82031250e-01\n",
      " -3.39843750e-01 -4.17968750e-01 -4.17968750e-01  0.00000000e+00\n",
      "  0.00000000e+00  0.00000000e+00  0.00000000e+00  0.00000000e+00\n",
      "  0.00000000e+00 -3.43750000e-01 -1.23828125e+00 -2.84765625e+00\n",
      " -5.48828125e+00 -3.48437500e+00 -2.55859375e+00 -5.32031250e+00\n",
      " -2.09765625e+00 -4.60937500e-01  2.93359375e+00  5.36718750e+00\n",
      "  1.11328125e+00 -5.56250000e+00 -4.69140625e+00 -2.57812500e+00\n",
      " -3.27343750e+00 -2.55859375e+00 -1.95312500e+00 -1.63281250e+00\n",
      " -3.67187500e-01 -5.62500000e-01 -3.35937500e-01  0.00000000e+00\n",
      "  0.00000000e+00  0.00000000e+00  0.00000000e+00  0.00000000e+00\n",
      " -1.87500000e-01  1.56250000e-02 -1.98046875e+00 -3.82031250e+00\n",
      " -3.30078125e+00 -1.57812500e+00 -6.70312500e+00 -4.19531250e+00\n",
      " -2.58984375e+00 -3.41015625e+00  2.01953125e+00  1.63671875e+00\n",
      "  3.55468750e-01 -2.74609375e+00 -2.18750000e+00 -3.34375000e+00\n",
      " -2.88671875e+00 -2.73437500e-01 -5.31250000e-01 -7.57812500e-01\n",
      " -3.63281250e-01  0.00000000e+00  0.00000000e+00  0.00000000e+00\n",
      "  0.00000000e+00  0.00000000e+00  0.00000000e+00 -1.99218750e-01\n",
      " -9.29687500e-01  5.19531250e-01 -5.39062500e-01 -4.76562500e-01\n",
      " -1.72656250e+00 -2.84765625e+00 -5.06640625e+00 -3.34765625e+00\n",
      " -1.57031250e+00 -3.98046875e+00  1.13281250e+00  2.55078125e+00\n",
      "  1.91406250e+00  8.71093750e-01 -4.92187500e-01 -2.15234375e+00\n",
      " -1.37500000e+00  1.25781250e+00  1.44531250e-01 -6.75781250e-01\n",
      " -3.71093750e-01  4.41406250e-01  0.00000000e+00  0.00000000e+00\n",
      "  0.00000000e+00  0.00000000e+00  0.00000000e+00 -4.41406250e-01\n",
      " -2.22656250e-01  6.17187500e-01  2.25000000e+00 -1.79687500e-01\n",
      " -6.52343750e-01 -6.40625000e-01 -2.60156250e+00 -2.10546875e+00\n",
      " -3.62109375e+00 -4.21093750e+00  2.68359375e+00  4.12890625e+00\n",
      "  2.83984375e+00  4.68750000e-02 -5.82031250e-01 -7.81250000e-01\n",
      "  6.64062500e-02 -7.81250000e-03 -9.02343750e-01 -1.23046875e+00\n",
      "  1.40625000e-01  3.47656250e-01  0.00000000e+00  0.00000000e+00\n",
      "  0.00000000e+00  0.00000000e+00  0.00000000e+00 -8.67187500e-01\n",
      " -9.10156250e-01  6.17187500e-01  1.71875000e-01 -1.17968750e+00\n",
      " -7.81250000e-01 -2.69531250e-01 -3.36328125e+00 -2.96093750e+00\n",
      " -4.36718750e+00 -4.49218750e-01  3.85546875e+00  1.63671875e+00\n",
      " -1.49609375e+00 -1.30078125e+00 -9.17968750e-01 -6.87500000e-01\n",
      " -7.26562500e-01 -1.60546875e+00 -2.27734375e+00 -1.16406250e+00\n",
      " -3.78906250e-01  0.00000000e+00  0.00000000e+00  0.00000000e+00\n",
      "  0.00000000e+00  0.00000000e+00  0.00000000e+00 -9.88281250e-01\n",
      " -9.45312500e-01  1.42578125e+00  7.07031250e-01 -1.75781250e+00\n",
      "  1.17187500e-02  1.32812500e-01 -1.92968750e+00 -2.79296875e+00\n",
      " -1.28906250e+00  5.07812500e-01  1.00390625e+00 -5.07812500e-02\n",
      " -1.14062500e+00 -1.62500000e+00 -1.62890625e+00 -2.35156250e+00\n",
      " -8.32031250e-01 -1.32421875e+00 -1.57421875e+00 -4.29687500e-01\n",
      "  0.00000000e+00  0.00000000e+00  0.00000000e+00  0.00000000e+00\n",
      "  0.00000000e+00  0.00000000e+00  0.00000000e+00 -4.37500000e-01\n",
      " -2.14843750e-01  2.28906250e+00  1.71093750e+00  8.98437500e-01\n",
      "  1.01171875e+00  3.24218750e-01  2.26562500e-01  2.22656250e-01\n",
      "  1.17187500e-02  1.94531250e+00  4.68750000e-02  7.89062500e-01\n",
      "  8.20312500e-02 -8.78906250e-01 -1.69531250e+00 -1.08593750e+00\n",
      " -4.76562500e-01 -1.15234375e+00 -6.87500000e-01 -2.73437500e-02\n",
      "  0.00000000e+00  0.00000000e+00  0.00000000e+00  0.00000000e+00\n",
      "  0.00000000e+00  0.00000000e+00  0.00000000e+00  0.00000000e+00\n",
      "  7.81250000e-03  2.06640625e+00  1.65234375e+00  2.20703125e+00\n",
      "  1.75390625e+00  1.46093750e+00  7.53906250e-01  3.32031250e-01\n",
      " -3.94531250e-01 -2.46875000e+00 -2.62500000e+00 -1.98046875e+00\n",
      " -1.94140625e+00 -1.94921875e+00 -1.38671875e+00 -1.54296875e+00\n",
      " -1.15625000e+00 -9.92187500e-01 -2.07031250e-01  0.00000000e+00\n",
      "  0.00000000e+00  0.00000000e+00  0.00000000e+00  0.00000000e+00\n",
      "  0.00000000e+00  0.00000000e+00  0.00000000e+00  0.00000000e+00\n",
      "  0.00000000e+00  0.00000000e+00  0.00000000e+00  0.00000000e+00\n",
      "  0.00000000e+00  0.00000000e+00  0.00000000e+00  0.00000000e+00\n",
      "  0.00000000e+00 -4.60937500e-01 -1.31640625e+00 -1.03906250e+00\n",
      " -5.82031250e-01 -8.98437500e-01 -6.17187500e-01 -3.98437500e-01\n",
      "  0.00000000e+00  0.00000000e+00  0.00000000e+00  0.00000000e+00\n",
      "  0.00000000e+00  0.00000000e+00  0.00000000e+00  0.00000000e+00\n",
      "  0.00000000e+00  0.00000000e+00  0.00000000e+00  0.00000000e+00\n",
      "  0.00000000e+00  0.00000000e+00  0.00000000e+00  0.00000000e+00\n",
      "  0.00000000e+00  0.00000000e+00  0.00000000e+00  0.00000000e+00\n",
      "  0.00000000e+00  0.00000000e+00  0.00000000e+00  0.00000000e+00\n",
      "  0.00000000e+00  0.00000000e+00  0.00000000e+00  0.00000000e+00\n",
      "  0.00000000e+00  0.00000000e+00  0.00000000e+00  0.00000000e+00\n",
      "  0.00000000e+00  0.00000000e+00  0.00000000e+00  0.00000000e+00\n",
      "  0.00000000e+00  0.00000000e+00  0.00000000e+00  0.00000000e+00\n",
      "  0.00000000e+00  0.00000000e+00  0.00000000e+00  0.00000000e+00\n",
      "  0.00000000e+00  0.00000000e+00  0.00000000e+00  0.00000000e+00\n",
      "  0.00000000e+00  0.00000000e+00  0.00000000e+00  0.00000000e+00\n",
      "  0.00000000e+00  0.00000000e+00  0.00000000e+00  0.00000000e+00\n",
      "  0.00000000e+00  0.00000000e+00  0.00000000e+00  0.00000000e+00\n",
      "  0.00000000e+00  0.00000000e+00  0.00000000e+00  0.00000000e+00]\n"
     ]
    }
   ],
   "execution_count": 75
  },
  {
   "metadata": {},
   "cell_type": "markdown",
   "source": "#### train classifier for 1 vs 2",
   "id": "15a15c48cd5da989"
  },
  {
   "metadata": {
    "ExecuteTime": {
     "end_time": "2025-07-08T09:05:47.563187Z",
     "start_time": "2025-07-08T09:05:47.556472Z"
    }
   },
   "cell_type": "code",
   "source": [
    "cal_weights = []\n",
    "pos_digit = 1\n",
    "neg_digit = 0\n",
    "print('Skipping current digit:', neg_digit, ', because it equals pos_digit', pos_digit)"
   ],
   "id": "d64a9c919fab0347",
   "outputs": [
    {
     "name": "stdout",
     "output_type": "stream",
     "text": [
      "Skipping current digit: 0 , because it equals pos_digit 1\n"
     ]
    }
   ],
   "execution_count": 77
  },
  {
   "metadata": {},
   "cell_type": "markdown",
   "source": "#### train this digit vs. all other digits",
   "id": "fce762c6f20c3d83"
  },
  {
   "metadata": {
    "ExecuteTime": {
     "end_time": "2025-07-08T09:11:47.175234Z",
     "start_time": "2025-07-08T09:11:29.384053Z"
    }
   },
   "cell_type": "code",
   "source": [
    "cal_weights = []\n",
    "pos_digit = 1\n",
    "neg_digit = 0\n",
    "while True:\n",
    "    pos_img, neg_img = set_mnist_pos_neg(pos_digit, neg_digit)\n",
    "    train_result = train_graph(cal_weights, pos_img, neg_img, 1000)\n",
    "    cal_weights = train_result[len(train_result) - 1][0]\n",
    "    neg_digit += 1\n",
    "    if neg_digit == pos_digit:\n",
    "        print('Skipping current digit:', neg_digit, ', because it equals pos_digit', pos_digit)\n",
    "        continue\n",
    "    if neg_digit > 9:\n",
    "        break"
   ],
   "id": "fea3d396d3f3580f",
   "outputs": [
    {
     "data": {
      "text/plain": [
       "<Figure size 640x480 with 2 Axes>"
      ],
      "image/png": "[encoded data removed]"
     },
     "metadata": {},
     "output_type": "display_data"
    },
    {
     "name": "stdout",
     "output_type": "stream",
     "text": [
      "Skipping current digit: 1 , because it equals pos_digit 1\n"
     ]
    },
    {
     "data": {
      "text/plain": [
       "<Figure size 640x480 with 2 Axes>"
      ],
      "image/png": "[encoded data removed]"
     },
     "metadata": {},
     "output_type": "display_data"
    },
    {
     "data": {
      "text/plain": [
       "<Figure size 640x480 with 2 Axes>"
      ],
      "image/png": "[encoded data removed]"
     },
     "metadata": {},
     "output_type": "display_data"
    },
    {
     "data": {
      "text/plain": [
       "<Figure size 640x480 with 2 Axes>"
      ],
      "image/png": "[encoded data removed]"
     },
     "metadata": {},
     "output_type": "display_data"
    },
    {
     "data": {
      "text/plain": [
       "<Figure size 640x480 with 2 Axes>"
      ],
      "image/png": "[encoded data removed]"
     },
     "metadata": {},
     "output_type": "display_data"
    },
    {
     "data": {
      "text/plain": [
       "<Figure size 640x480 with 2 Axes>"
      ],
      "image/png": "[encoded data removed]"
     },
     "metadata": {},
     "output_type": "display_data"
    },
    {
     "data": {
      "text/plain": [
       "<Figure size 640x480 with 2 Axes>"
      ],
      "image/png": "[encoded data removed]"
     },
     "metadata": {},
     "output_type": "display_data"
    },
    {
     "data": {
      "text/plain": [
       "<Figure size 640x480 with 2 Axes>"
      ],
      "image/png": "[encoded data removed]"
     },
     "metadata": {},
     "output_type": "display_data"
    },
    {
     "data": {
      "text/plain": [
       "<Figure size 640x480 with 2 Axes>"
      ],
      "image/png": "[encoded data removed]"
     },
     "metadata": {},
     "output_type": "display_data"
    },
    {
     "data": {
      "text/plain": [
       "<Figure size 640x480 with 2 Axes>"
      ],
      "image/png": "[encoded data removed]"
     },
     "metadata": {},
     "output_type": "display_data"
    }
   ],
   "execution_count": 84
  },
  {
   "metadata": {},
   "cell_type": "code",
   "source": [
    "pos1, neg1 = set_mnist_pos_neg(1, 2)\n",
    "snapshots_mn = train_graph(cal_weights_1_vs_0, pos1, neg1, 1000)\n",
    "interact(pl3, step=widgets.IntSlider(value=0, min=0, max=len(snapshots_mn) - 1))\n",
    "cal_weights_1_vs_2 = snapshots_mn[66][0]"
   ],
   "id": "4d69956108be9165",
   "outputs": [],
   "execution_count": null
  },
  {
   "metadata": {},
   "cell_type": "markdown",
   "source": "### Utility functions",
   "id": "dd173936fcfc6a96"
  },
  {
   "metadata": {
    "ExecuteTime": {
     "end_time": "2025-07-08T08:20:34.302718Z",
     "start_time": "2025-07-08T08:20:34.290752Z"
    }
   },
   "cell_type": "code",
   "source": [
    "# show_image function to display an image with its label\n",
    "def show_image(image, label):\n",
    "    fig = pylab.figure(figsize=(2, 2))\n",
    "    ax = fig.add_subplot(1, 1, 1)\n",
    "    pylab.imshow(image.reshape(28, 28), cmap='gray', interpolation='nearest')\n",
    "    ax.set_title('Image is: ' + str(label))\n",
    "    ax.set_xticks([])\n",
    "    ax.set_yticks([])\n",
    "    pylab.show()"
   ],
   "id": "4181c404d7393db9",
   "outputs": [],
   "execution_count": 37
  },
  {
   "metadata": {
    "ExecuteTime": {
     "end_time": "2025-07-08T08:18:58.116190Z",
     "start_time": "2025-07-08T08:18:58.109583Z"
    }
   },
   "cell_type": "code",
   "source": [
    "# Function to get a random test data point\n",
    "def random_get_test_data():\n",
    "    random_index = random.randint(0, len(MNIST['Test']['Features']) - 1)\n",
    "    return MNIST['Test']['Features'][random_index], MNIST['Test']['Labels'][random_index]"
   ],
   "id": "9a44f69d573f06a0",
   "outputs": [],
   "execution_count": 33
  },
  {
   "metadata": {},
   "cell_type": "code",
   "source": [
    "random_test_image, random_test_label = random_get_test_data()\n",
    "print(\"Random Test Image Label: \", random_test_label)\n",
    "show_image(random_test_image, random_test_label)\n",
    "# random_test_data = random.choice(MNIST['Train']['Features'])\n",
    "# print(random_test_data)\n",
    "# show_image(random_test_data)"
   ],
   "id": "3219f078c612fb7f",
   "outputs": [],
   "execution_count": null
  },
  {
   "metadata": {},
   "cell_type": "markdown",
   "source": "### Predict the labels",
   "id": "454838ba475b53bb"
  },
  {
   "metadata": {
    "ExecuteTime": {
     "end_time": "2025-07-08T09:13:00.172596Z",
     "start_time": "2025-07-08T09:13:00.159361Z"
    }
   },
   "cell_type": "code",
   "source": "print(cal_weights)",
   "id": "a64dbfe655d6fc12",
   "outputs": [
    {
     "name": "stdout",
     "output_type": "stream",
     "text": [
      "[ 0.00000000e+00  0.00000000e+00  0.00000000e+00  0.00000000e+00\n",
      "  0.00000000e+00  0.00000000e+00  0.00000000e+00  0.00000000e+00\n",
      "  0.00000000e+00  0.00000000e+00  0.00000000e+00  0.00000000e+00\n",
      "  0.00000000e+00  0.00000000e+00  0.00000000e+00  0.00000000e+00\n",
      "  0.00000000e+00  0.00000000e+00  0.00000000e+00  0.00000000e+00\n",
      "  0.00000000e+00  0.00000000e+00  0.00000000e+00  0.00000000e+00\n",
      "  0.00000000e+00  0.00000000e+00  0.00000000e+00  0.00000000e+00\n",
      "  0.00000000e+00  0.00000000e+00  0.00000000e+00  0.00000000e+00\n",
      "  0.00000000e+00  0.00000000e+00  0.00000000e+00  0.00000000e+00\n",
      "  0.00000000e+00  0.00000000e+00  0.00000000e+00  0.00000000e+00\n",
      "  0.00000000e+00  0.00000000e+00  0.00000000e+00 -3.51562500e-01\n",
      " -9.60937500e-01 -4.57031250e-01  0.00000000e+00  0.00000000e+00\n",
      "  0.00000000e+00  0.00000000e+00  0.00000000e+00  0.00000000e+00\n",
      "  0.00000000e+00  0.00000000e+00  0.00000000e+00  0.00000000e+00\n",
      "  0.00000000e+00  0.00000000e+00  0.00000000e+00  0.00000000e+00\n",
      "  0.00000000e+00  0.00000000e+00  0.00000000e+00  0.00000000e+00\n",
      "  0.00000000e+00  0.00000000e+00 -3.35937500e-01 -6.05468750e-01\n",
      " -5.07812500e-02  3.27343750e+00  6.91406250e-01  2.00781250e+00\n",
      "  3.47656250e+00  2.24609375e+00  1.35937500e+00  1.72656250e+00\n",
      " -5.27343750e-01 -3.59375000e-01  0.00000000e+00  0.00000000e+00\n",
      "  0.00000000e+00  0.00000000e+00  0.00000000e+00  0.00000000e+00\n",
      "  0.00000000e+00  0.00000000e+00  0.00000000e+00  0.00000000e+00\n",
      "  0.00000000e+00  0.00000000e+00  0.00000000e+00  0.00000000e+00\n",
      " -1.95312500e-02 -1.35546875e+00 -2.53125000e+00 -1.86328125e+00\n",
      "  7.73437500e-01  1.68750000e+00  2.36328125e+00  6.14453125e+00\n",
      "  5.05859375e+00  5.78125000e-01  2.20703125e+00  4.68750000e-02\n",
      " -4.68750000e-01 -1.02734375e+00 -2.57812500e-01 -1.67968750e-01\n",
      " -9.76562500e-02  0.00000000e+00  0.00000000e+00  0.00000000e+00\n",
      "  0.00000000e+00  0.00000000e+00  0.00000000e+00  0.00000000e+00\n",
      "  0.00000000e+00  1.95312500e-01  4.29687500e-02 -3.20312500e-01\n",
      "  6.13281250e-01  8.82812500e-01 -3.02343750e+00 -6.64843750e+00\n",
      " -1.17578125e+00  5.54296875e+00  8.24218750e-01  8.39843750e-01\n",
      " -1.95312500e-02 -8.06250000e+00 -6.03515625e+00 -1.10937500e+00\n",
      " -3.96875000e+00 -1.61718750e+00 -6.25000000e-01  4.80468750e-01\n",
      " -1.25390625e+00 -1.48437500e-01  0.00000000e+00  0.00000000e+00\n",
      "  0.00000000e+00  0.00000000e+00  0.00000000e+00  3.35937500e-01\n",
      "  1.12500000e+00  3.33984375e+00  2.74609375e+00 -9.57031250e-01\n",
      " -3.22265625e+00 -2.65234375e+00 -1.98046875e+00 -2.12109375e+00\n",
      "  4.31250000e+00  6.67187500e+00  5.28906250e+00  2.91796875e+00\n",
      "  1.53906250e+00  1.13671875e+00 -6.25000000e-01 -7.81250000e-03\n",
      " -1.20703125e+00  8.12109375e+00  4.02734375e+00  2.71875000e+00\n",
      " -1.21484375e+00 -1.69921875e+00  0.00000000e+00  0.00000000e+00\n",
      "  0.00000000e+00  0.00000000e+00 -6.91406250e-01  1.36718750e-01\n",
      "  3.04687500e-01  1.28906250e-01  2.57812500e-01 -5.07812500e-01\n",
      " -3.85937500e+00 -2.86718750e+00  3.25781250e+00  1.55859375e+00\n",
      " -7.03125000e-02 -6.60156250e-01  2.48046875e+00 -1.45703125e+00\n",
      " -6.77343750e+00 -7.33203125e+00  2.26562500e-01 -1.33984375e+00\n",
      " -2.38281250e-01  5.87109375e+00  3.46093750e+00  3.02343750e+00\n",
      "  2.57812500e-01 -5.82031250e-01  0.00000000e+00  0.00000000e+00\n",
      "  0.00000000e+00  0.00000000e+00 -8.98437500e-02 -5.31250000e-01\n",
      " -1.32812500e-01 -2.18750000e+00 -3.98437500e-01 -2.32421875e+00\n",
      " -5.40625000e+00 -6.01562500e+00 -2.30468750e+00 -3.83984375e+00\n",
      " -1.64843750e+00 -3.76562500e+00 -4.16406250e+00 -1.28281250e+01\n",
      " -1.79687500e+00 -4.43359375e+00 -3.59375000e-01 -2.55468750e+00\n",
      " -3.90625000e-03  2.67187500e+00  2.06640625e+00  2.70312500e+00\n",
      " -1.95312500e+00 -1.62890625e+00  1.28906250e-01  0.00000000e+00\n",
      "  0.00000000e+00  0.00000000e+00  6.64062500e-02  0.00000000e+00\n",
      "  4.29687500e-01 -1.42187500e+00 -3.42187500e+00 -4.81640625e+00\n",
      " -7.47656250e+00 -5.21875000e+00 -7.67968750e+00 -1.01601562e+01\n",
      " -5.29296875e+00 -5.41015625e+00 -7.96875000e-01 -2.58984375e+00\n",
      "  1.00781250e+00  1.56250000e+00 -3.38671875e+00  9.64843750e-01\n",
      "  2.14843750e+00 -3.35937500e-01  1.77343750e+00 -2.65625000e+00\n",
      " -4.80468750e+00 -1.02734375e+00  0.00000000e+00  0.00000000e+00\n",
      "  0.00000000e+00  0.00000000e+00  0.00000000e+00  0.00000000e+00\n",
      "  2.34375000e-02 -1.30078125e+00 -2.93359375e+00  8.75000000e-01\n",
      " -1.55078125e+00 -4.16406250e+00 -7.63281250e+00 -4.08984375e+00\n",
      " -5.03906250e+00 -1.20703125e+00  3.31250000e+00 -8.75000000e-01\n",
      " -1.00390625e+00  1.28125000e+00 -5.44921875e+00 -2.23046875e+00\n",
      " -1.64062500e+00 -1.89453125e+00 -2.20703125e+00 -2.72265625e+00\n",
      " -6.83593750e-01  0.00000000e+00  0.00000000e+00  0.00000000e+00\n",
      "  0.00000000e+00  0.00000000e+00  0.00000000e+00  0.00000000e+00\n",
      "  1.04296875e+00 -1.29687500e+00 -3.41015625e+00 -6.75781250e-01\n",
      "  1.09375000e-01 -4.78125000e+00 -2.82812500e+00 -5.48046875e+00\n",
      " -2.55078125e+00  1.98046875e+00  8.00781250e+00  1.51054688e+01\n",
      "  1.08593750e+00 -2.09375000e+00 -5.44531250e+00 -2.24218750e+00\n",
      " -7.17187500e+00 -7.30859375e+00 -3.52343750e+00 -2.31640625e+00\n",
      " -9.60937500e-01  0.00000000e+00  0.00000000e+00  0.00000000e+00\n",
      "  0.00000000e+00  4.84375000e-01  2.57812500e-01 -1.95312500e-02\n",
      "  1.68359375e+00  4.53125000e-01 -3.62890625e+00 -2.68750000e+00\n",
      " -6.26953125e+00 -8.56250000e+00 -2.58593750e+00 -7.17187500e+00\n",
      "  1.13281250e-01 -8.04687500e-01  8.48828125e+00  1.48984375e+01\n",
      " -1.37109375e+00 -3.74609375e+00 -1.75390625e+00 -7.58203125e+00\n",
      " -5.37890625e+00 -3.89453125e+00 -1.98828125e+00 -1.74609375e+00\n",
      " -1.11328125e+00 -4.88281250e-01  0.00000000e+00 -3.20312500e-01\n",
      "  0.00000000e+00  0.00000000e+00 -1.99218750e-01 -2.73437500e-02\n",
      "  1.92578125e+00 -6.52343750e-01 -1.33593750e+00 -2.79687500e+00\n",
      " -7.31640625e+00 -9.53125000e+00 -9.66406250e+00 -8.69921875e+00\n",
      " -1.62890625e+00  7.81250000e-01  8.43359375e+00  5.17187500e+00\n",
      " -1.90625000e+00 -2.21484375e+00  1.22656250e+00 -6.14843750e+00\n",
      " -6.69531250e+00 -2.98046875e+00 -1.41796875e+00 -1.11328125e+00\n",
      " -2.34375000e-01 -2.34375000e-01  0.00000000e+00 -4.29687500e-01\n",
      "  0.00000000e+00  0.00000000e+00 -6.64062500e-02  3.16406250e-01\n",
      "  1.27343750e+00 -1.67968750e+00 -5.78125000e-01 -2.52734375e+00\n",
      " -5.25000000e+00 -6.89453125e+00 -9.89453125e+00 -7.87890625e+00\n",
      " -4.05859375e+00  1.58984375e+00  4.33203125e+00  1.53125000e+00\n",
      " -1.11718750e+00  1.66796875e+00 -7.48828125e+00 -9.45312500e+00\n",
      " -5.24218750e+00 -2.23828125e+00 -2.27343750e+00 -1.17187500e+00\n",
      "  0.00000000e+00  0.00000000e+00  0.00000000e+00  0.00000000e+00\n",
      "  0.00000000e+00  0.00000000e+00  4.29687500e-02  6.28906250e-01\n",
      "  2.65625000e-01 -2.14062500e+00 -1.75781250e+00 -1.92187500e+00\n",
      " -3.96093750e+00 -4.95312500e+00 -8.64843750e+00 -8.08593750e+00\n",
      " -2.60546875e+00  8.40234375e+00  4.62109375e+00  3.38281250e+00\n",
      "  2.12109375e+00 -4.70312500e+00 -1.03906250e+01 -8.92968750e+00\n",
      " -4.64843750e+00 -3.69531250e+00 -1.95312500e+00 -1.38281250e+00\n",
      "  6.44531250e-01  3.51562500e-02  0.00000000e+00  0.00000000e+00\n",
      "  0.00000000e+00  0.00000000e+00  1.67968750e-01 -3.16406250e-01\n",
      " -5.03906250e-01 -1.96484375e+00 -2.82031250e+00 -2.71093750e+00\n",
      " -1.60546875e+00 -3.49218750e+00 -4.50000000e+00 -2.05468750e+00\n",
      " -2.31640625e+00  6.82031250e+00  4.87500000e+00 -2.20312500e+00\n",
      "  2.22656250e+00 -2.84375000e+00 -8.47656250e+00 -1.02304688e+01\n",
      " -6.41406250e+00 -4.36328125e+00 -2.53125000e+00 -3.01562500e+00\n",
      " -8.78906250e-01 -5.97656250e-01  0.00000000e+00  0.00000000e+00\n",
      "  0.00000000e+00  0.00000000e+00 -5.11718750e-01 -1.00781250e+00\n",
      " -1.07031250e+00 -2.46093750e+00 -5.16406250e+00 -6.16406250e+00\n",
      " -3.94921875e+00  2.81250000e-01 -1.12109375e+00 -7.55468750e+00\n",
      "  3.04687500e-01  3.16796875e+00  5.30078125e+00 -8.58984375e+00\n",
      "  5.69531250e+00 -3.79296875e+00 -1.03125000e+01 -1.09609375e+01\n",
      " -8.17187500e+00 -5.50781250e+00 -4.14062500e+00 -3.03125000e+00\n",
      " -6.44531250e-01 -5.97656250e-01  0.00000000e+00  0.00000000e+00\n",
      "  0.00000000e+00  0.00000000e+00 -6.71875000e-01 -9.84375000e-01\n",
      " -1.35546875e+00 -5.46484375e+00 -8.03906250e+00 -6.42578125e+00\n",
      " -2.12500000e+00  3.46093750e+00  8.10546875e+00 -3.02343750e+00\n",
      "  4.14062500e+00  2.37890625e+00  8.36718750e+00 -3.80859375e+00\n",
      " -7.81250000e-01 -4.86718750e+00 -7.28515625e+00 -8.92968750e+00\n",
      " -8.98828125e+00 -4.25781250e+00 -1.54687500e+00 -1.59375000e+00\n",
      "  1.34765625e+00  1.21093750e-01  0.00000000e+00  0.00000000e+00\n",
      "  0.00000000e+00  0.00000000e+00  0.00000000e+00 -6.44531250e-01\n",
      " -2.01562500e+00 -5.48437500e+00 -1.10351562e+01 -5.84375000e+00\n",
      " -1.94531250e+00  4.79687500e+00  4.68750000e-01  2.14453125e+00\n",
      "  7.14453125e+00  2.55859375e+00  6.66406250e+00  1.85546875e+00\n",
      "  1.67968750e-01 -2.94921875e+00 -4.42968750e+00 -4.78125000e+00\n",
      " -1.36718750e+00 -1.35546875e+00 -2.76562500e+00 -1.36718750e+00\n",
      "  5.85937500e-01  6.25000000e-01  0.00000000e+00  0.00000000e+00\n",
      "  0.00000000e+00  0.00000000e+00  0.00000000e+00 -1.10546875e+00\n",
      " -2.78515625e+00 -6.64453125e+00 -6.55078125e+00 -1.40625000e-01\n",
      "  3.44531250e+00  3.29687500e+00  6.32812500e+00  2.61328125e+00\n",
      "  1.83203125e+00  3.98828125e+00  2.97656250e+00 -6.28906250e-01\n",
      "  5.78515625e+00 -1.06640625e+00  1.78515625e+00  2.07812500e+00\n",
      " -4.14062500e-01 -6.91406250e-01  1.64062500e-01 -4.68750000e-02\n",
      " -7.77343750e-01  3.71093750e-01  0.00000000e+00  0.00000000e+00\n",
      "  0.00000000e+00  0.00000000e+00 -1.71875000e-01 -1.13281250e+00\n",
      " -1.38281250e+00 -1.72265625e+00 -1.75781250e-01  8.75000000e-01\n",
      "  2.55859375e+00 -4.37500000e-01  3.20312500e+00  1.74609375e+00\n",
      "  3.35156250e+00  3.61328125e+00  1.11718750e+00  3.94140625e+00\n",
      "  4.62890625e+00  7.87500000e+00  1.30468750e+01  1.13007812e+01\n",
      "  7.05859375e+00  2.07031250e+00  1.28906250e+00  1.23828125e+00\n",
      " -2.10937500e-01 -4.37500000e-01  0.00000000e+00  0.00000000e+00\n",
      "  0.00000000e+00  0.00000000e+00 -6.05468750e-01 -9.92187500e-01\n",
      "  2.10156250e+00  7.71484375e+00  6.31640625e+00  8.10937500e+00\n",
      "  3.69921875e+00  2.59765625e+00  7.70312500e+00  7.73437500e-01\n",
      "  4.38671875e+00  8.20312500e-02  3.60156250e+00  2.55078125e+00\n",
      "  6.33203125e+00  3.25781250e+00  8.65625000e+00  9.93750000e+00\n",
      "  1.04843750e+01  7.11328125e+00  9.14062500e-01 -2.42187500e-01\n",
      "  7.42187500e-01 -8.00781250e-01  0.00000000e+00  0.00000000e+00\n",
      "  0.00000000e+00  0.00000000e+00 -3.35937500e-01 -1.14062500e+00\n",
      "  3.58984375e+00  7.75390625e+00  8.14843750e+00  2.35546875e+00\n",
      " -2.06640625e+00  5.23437500e-01  5.15625000e+00 -1.01171875e+00\n",
      " -4.38671875e+00 -1.37539062e+01 -1.71484375e+00 -3.33203125e+00\n",
      "  3.23437500e+00  7.41406250e+00  5.50390625e+00  6.54687500e+00\n",
      "  5.37109375e+00  3.25390625e+00 -4.14062500e-01 -1.56250000e-02\n",
      " -4.37500000e-01 -1.87500000e-01  0.00000000e+00  0.00000000e+00\n",
      "  0.00000000e+00  0.00000000e+00 -7.81250000e-03 -1.46093750e+00\n",
      " -3.12500000e-01 -8.63281250e-01 -8.82812500e-01 -1.54296875e+00\n",
      " -4.80078125e+00 -9.84375000e-01 -1.68359375e+00 -4.69140625e+00\n",
      " -4.92578125e+00 -1.05468750e-01 -8.70703125e+00 -6.91796875e+00\n",
      " -1.32812500e-01 -2.04296875e+00 -1.24218750e+00  1.43750000e+00\n",
      "  1.19531250e+00 -6.64062500e-02 -1.55468750e+00 -4.37500000e-01\n",
      "  0.00000000e+00  0.00000000e+00  2.50000000e-01  0.00000000e+00\n",
      "  0.00000000e+00  0.00000000e+00  0.00000000e+00 -1.10546875e+00\n",
      " -2.17968750e+00 -2.17187500e+00 -5.72656250e+00 -5.30078125e+00\n",
      " -6.67968750e+00 -2.92578125e+00 -3.31250000e+00 -4.25000000e+00\n",
      " -7.14843750e+00 -1.16562500e+01 -9.42187500e+00 -7.01953125e+00\n",
      " -4.58593750e+00 -4.27734375e+00  2.73437500e-02  1.54687500e+00\n",
      "  7.10937500e-01  1.00781250e+00 -4.76562500e-01 -1.95312500e-01\n",
      "  0.00000000e+00  0.00000000e+00  0.00000000e+00  0.00000000e+00\n",
      "  0.00000000e+00  0.00000000e+00  0.00000000e+00 -1.99218750e-01\n",
      " -1.17187500e+00 -1.63671875e+00 -2.06640625e+00 -4.57421875e+00\n",
      " -4.59375000e+00 -3.75390625e+00 -4.65234375e+00 -3.68750000e+00\n",
      " -2.23437500e+00 -6.70703125e+00 -2.12109375e+00 -2.23828125e+00\n",
      " -3.96875000e+00 -3.27734375e+00 -1.76953125e+00 -1.83984375e+00\n",
      " -5.58593750e-01 -7.81250000e-03  0.00000000e+00 -7.07031250e-01\n",
      " -1.40625000e-01  0.00000000e+00  0.00000000e+00  0.00000000e+00\n",
      "  0.00000000e+00  0.00000000e+00  0.00000000e+00  0.00000000e+00\n",
      "  0.00000000e+00  0.00000000e+00 -5.70312500e-01 -9.84375000e-01\n",
      " -5.66406250e-01  0.00000000e+00 -9.37500000e-02 -1.91796875e+00\n",
      " -2.33984375e+00 -1.42968750e+00 -7.73437500e-01  4.29687500e-02\n",
      " -2.46484375e+00 -2.32812500e+00 -1.73828125e+00 -8.43750000e-01\n",
      " -4.29687500e-02  0.00000000e+00  0.00000000e+00  0.00000000e+00\n",
      "  0.00000000e+00  0.00000000e+00  0.00000000e+00  0.00000000e+00\n",
      "  0.00000000e+00  0.00000000e+00  0.00000000e+00  0.00000000e+00\n",
      "  0.00000000e+00  0.00000000e+00  0.00000000e+00  0.00000000e+00\n",
      "  0.00000000e+00  0.00000000e+00  0.00000000e+00  0.00000000e+00\n",
      "  0.00000000e+00  0.00000000e+00  0.00000000e+00  0.00000000e+00\n",
      " -2.73437500e-01 -1.60546875e+00 -5.00000000e-01  0.00000000e+00\n",
      "  0.00000000e+00  0.00000000e+00  0.00000000e+00  0.00000000e+00\n",
      "  0.00000000e+00  0.00000000e+00  0.00000000e+00  0.00000000e+00]\n"
     ]
    }
   ],
   "execution_count": 85
  },
  {
   "metadata": {},
   "cell_type": "markdown",
   "source": "#### manually check the prediction",
   "id": "3ada4e883d732cc9"
  },
  {
   "metadata": {
    "ExecuteTime": {
     "end_time": "2025-07-08T09:17:24.577807Z",
     "start_time": "2025-07-08T09:17:24.551707Z"
    }
   },
   "cell_type": "code",
   "source": [
    "test_image, test_label = random_get_test_data()\n",
    "show_image(test_image, test_label)\n",
    "z = np.dot(test_image, cal_weights)\n",
    "if z >= 0:\n",
    "    predicted = True\n",
    "else:\n",
    "    predicted = False\n",
    "print(\"Is this data 1: \", predicted)"
   ],
   "id": "3ca5861b7d8f6fe0",
   "outputs": [
    {
     "data": {
      "text/plain": [
       "<Figure size 200x200 with 1 Axes>"
      ],
      "image/png": "[encoded data removed]"
     },
     "metadata": {},
     "output_type": "display_data"
    },
    {
     "name": "stdout",
     "output_type": "stream",
     "text": [
      "Is this data 1:  False\n"
     ]
    }
   ],
   "execution_count": 102
  },
  {
   "metadata": {},
   "cell_type": "markdown",
   "source": "#### batch prediction",
   "id": "da5721726d6c8731"
  },
  {
   "metadata": {
    "ExecuteTime": {
     "end_time": "2025-07-08T09:27:42.219618Z",
     "start_time": "2025-07-08T09:27:42.209124Z"
    }
   },
   "cell_type": "code",
   "source": [
    "incorrect_count = 0\n",
    "incorrect_images = []\n",
    "for i in range(100):\n",
    "    test_image, test_label = random_get_test_data()\n",
    "    z = np.dot(test_image, cal_weights)\n",
    "    if z >= 0:\n",
    "        predicted = True\n",
    "    else:\n",
    "        incorrect_count += 1\n",
    "        incorrect_images.append([test_image, test_label])\n",
    "print(\"Is this data 1? Test 100 times. The accuracy is: \", incorrect_count / len(incorrect_images))"
   ],
   "id": "79885128fc49675e",
   "outputs": [
    {
     "name": "stdout",
     "output_type": "stream",
     "text": [
      "Is this data 1? Test 100 times. The accuracy is:  1.0\n"
     ]
    }
   ],
   "execution_count": 103
  },
  {
   "metadata": {
    "ExecuteTime": {
     "end_time": "2025-07-08T09:15:20.516909Z",
     "start_time": "2025-07-08T09:15:20.507968Z"
    }
   },
   "cell_type": "code",
   "source": "len(MNIST['Test']['Features'])",
   "id": "c846a3e9bf4193ff",
   "outputs": [
    {
     "data": {
      "text/plain": [
       "10000"
      ]
     },
     "execution_count": 95,
     "metadata": {},
     "output_type": "execute_result"
    }
   ],
   "execution_count": 95
  }
 ],
 "metadata": {
  "kernelspec": {
   "display_name": "Python 3",
   "language": "python",
   "name": "python3"
  },
  "language_info": {
   "codemirror_mode": {
    "name": "ipython",
    "version": 2
   },
   "file_extension": ".py",
   "mimetype": "text/x-python",
   "name": "python",
   "nbconvert_exporter": "python",
   "pygments_lexer": "ipython2",
   "version": "2.7.6"
  }
 },
 "nbformat": 4,
 "nbformat_minor": 5
}
